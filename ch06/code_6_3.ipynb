{
 "cells": [
  {
   "cell_type": "markdown",
   "metadata": {},
   "source": [
    "# プログラム 6-3"
   ]
  },
  {
   "cell_type": "code",
   "execution_count": null,
   "metadata": {},
   "outputs": [],
   "source": [
    "# 6-3-1\n",
    "from datetime import date\n",
    "# ネコ型ロボットの誕生日\n",
    "dora = date(2112, 9, 3)  "
   ]
  },
  {
   "cell_type": "code",
   "execution_count": null,
   "metadata": {},
   "outputs": [],
   "source": [
    "# 6-3-2\n",
    "dora.year  # 西暦を表示する"
   ]
  },
  {
   "cell_type": "code",
   "execution_count": null,
   "metadata": {},
   "outputs": [],
   "source": [
    "# 6-3-3\n",
    "dora.month  # 月を表示する"
   ]
  },
  {
   "cell_type": "code",
   "execution_count": null,
   "metadata": {},
   "outputs": [],
   "source": [
    "# 6-3-4\n",
    "dora.day  # 日を表示する"
   ]
  },
  {
   "cell_type": "code",
   "execution_count": null,
   "metadata": {},
   "outputs": [],
   "source": [
    "# 6-3-5\n",
    "# めがね少年の誕生日\n",
    "nobi = date(1964, 8, 7)"
   ]
  },
  {
   "cell_type": "code",
   "execution_count": null,
   "metadata": {},
   "outputs": [],
   "source": [
    "# 6-3-6\n",
    "# 年，月，日を表示する\n",
    "nobi.year, nobi.month, nobi.day"
   ]
  },
  {
   "cell_type": "code",
   "execution_count": null,
   "metadata": {},
   "outputs": [],
   "source": [
    "# 6-3-7\n",
    "s = (\"持持持持持持持持持持\"\n",
    "       \"持持持持持持持侍持持\"\n",
    "       \"持持持持持持持持持持\"\n",
    "       \"持持持持持持持持持持\"\n",
    "       \"持持持持持持持持持持\"\n",
    "       \"持持持持持持持持持持\")\n",
    "s.index(\"侍\")  # サムライを探せ！"
   ]
  },
  {
   "cell_type": "code",
   "execution_count": null,
   "metadata": {},
   "outputs": [],
   "source": [
    "# 6-3-8\n",
    "# 3の倍数のリスト\n",
    "l = [3, 6, 9, 12]\n",
    "l.index(9)  # 9は何番目？"
   ]
  },
  {
   "cell_type": "code",
   "execution_count": null,
   "metadata": {},
   "outputs": [],
   "source": [
    "# 6-3-9\n",
    "m = \"?の降水確率は20%です。\"\n",
    "m = m.replace(\"?\", \"東京都\")  # ?を別の文字列に置きかえる\n",
    "m   # 結果を確認"
   ]
  },
  {
   "cell_type": "code",
   "execution_count": null,
   "metadata": {},
   "outputs": [],
   "source": [
    "# 6-3-10\n",
    "l.append(15)   # リストに数を追加  \n",
    "l  # 結果を確認"
   ]
  }
 ],
 "metadata": {
  "kernelspec": {
   "display_name": "Python 3",
   "language": "python",
   "name": "python3"
  },
  "language_info": {
   "codemirror_mode": {
    "name": "ipython",
    "version": 3
   },
   "file_extension": ".py",
   "mimetype": "text/x-python",
   "name": "python",
   "nbconvert_exporter": "python",
   "pygments_lexer": "ipython3",
   "version": "3.7.3"
  }
 },
 "nbformat": 4,
 "nbformat_minor": 2
}
