{
 "cells": [
  {
   "cell_type": "markdown",
   "metadata": {},
   "source": [
    "# プログラム 6-3"
   ]
  },
  {
   "cell_type": "markdown",
   "metadata": {},
   "source": [
    "## ライブラリから関数を読み込む"
   ]
  },
  {
   "cell_type": "code",
   "execution_count": null,
   "metadata": {},
   "outputs": [],
   "source": [
    "# 乱数の種(seed)を初期化\n",
    "seed = 3"
   ]
  },
  {
   "cell_type": "code",
   "execution_count": null,
   "metadata": {},
   "outputs": [],
   "source": [
    "# 0から18までの乱数を作る\n",
    "seed = (seed*3)%19\n",
    "print(seed)"
   ]
  },
  {
   "cell_type": "code",
   "execution_count": null,
   "metadata": {},
   "outputs": [],
   "source": [
    "# 乱数を作る関数を読み込む\n",
    "from random import randint  "
   ]
  },
  {
   "cell_type": "code",
   "execution_count": null,
   "metadata": {},
   "outputs": [],
   "source": [
    "# じゃんけんをする\n",
    "comp = randint(0, 2)\n",
    "print(comp)  # コンピュータの手"
   ]
  },
  {
   "cell_type": "code",
   "execution_count": null,
   "metadata": {},
   "outputs": [],
   "source": [
    "# 手の名前をリストに入れる\n",
    "hands = [\"グー\", \"チョキ\", \"パー\"]\n",
    "comp = randint(0, 2)\n",
    "print(hands[comp])  # 手を文字列で表示する"
   ]
  },
  {
   "cell_type": "markdown",
   "metadata": {},
   "source": [
    "## 乱数を使ったじゃんけんゲーム"
   ]
  },
  {
   "cell_type": "code",
   "execution_count": null,
   "metadata": {},
   "outputs": [],
   "source": [
    "# 人間の手を決める\n",
    "player_str = input(\"0:グー，1:チョキ 2:パー\")\n",
    "player = int(player_str)  # 文字列を数に変換"
   ]
  },
  {
   "cell_type": "code",
   "execution_count": null,
   "metadata": {},
   "outputs": [],
   "source": [
    "# コンピュータの手を決める\n",
    "comp = randint(0, 2)  # コンピュータの手を乱数で決める"
   ]
  },
  {
   "cell_type": "code",
   "execution_count": null,
   "metadata": {},
   "outputs": [],
   "source": [
    "# リストを使って手を表示\n",
    "print(\"人間が\"+hands[player]+\"、コンピュータが\"+hands[comp])"
   ]
  },
  {
   "cell_type": "code",
   "execution_count": null,
   "metadata": {},
   "outputs": [],
   "source": [
    "# 手によって，勝ち負けを判断する\n",
    "if player == comp:\n",
    "    print(\"あいこ\")\n",
    "if player == 0 and comp == 1:  #人：グー，コ：チョキ\n",
    "    print(\"人間の勝ち\")\n",
    "if player == 0 and comp == 2:  #人：グー，コ：パー\n",
    "    print(\"人間の負け\")\n",
    "if player == 1 and comp == 2:  #人：チョキ，コ：パー\n",
    "    print(\"人間の勝ち\")\n",
    "if player == 1 and comp == 0:  #人：チョキ，コ：グー\n",
    "    print(\"人間の負け\")\n",
    "if player == 2 and comp == 0:  #人：パー，コ：グー\n",
    "    print(\"人間の勝ち\")\n",
    "if player == 2 and comp == 1:  #人：パー，コ：チョキ\n",
    "    print(\"人間の負け\")"
   ]
  },
  {
   "cell_type": "code",
   "execution_count": null,
   "metadata": {},
   "outputs": [],
   "source": [
    "# カレンダーを表示する\n",
    "from calendar import monthcalendar\n",
    "\n",
    "y = input(\"西暦を入力してください\")\n",
    "y = int(y)   # 文字列を数にする\n",
    "m = input(\"月を入力してください\")\n",
    "m = int(m)\n",
    "monthcalendar(y, m)  # のカレンダーを表示"
   ]
  },
  {
   "cell_type": "code",
   "execution_count": null,
   "metadata": {},
   "outputs": [],
   "source": []
  }
 ],
 "metadata": {
  "kernelspec": {
   "display_name": "Python 3 (ipykernel)",
   "language": "python",
   "name": "python3"
  },
  "language_info": {
   "codemirror_mode": {
    "name": "ipython",
    "version": 3
   },
   "file_extension": ".py",
   "mimetype": "text/x-python",
   "name": "python",
   "nbconvert_exporter": "python",
   "pygments_lexer": "ipython3",
   "version": "3.9.12"
  }
 },
 "nbformat": 4,
 "nbformat_minor": 2
}
