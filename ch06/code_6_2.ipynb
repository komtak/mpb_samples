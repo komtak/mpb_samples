{
 "cells": [
  {
   "cell_type": "markdown",
   "metadata": {},
   "source": [
    "# プログラム 6-2"
   ]
  },
  {
   "cell_type": "markdown",
   "metadata": {},
   "source": [
    "## Pythonで音をあやつる"
   ]
  },
  {
   "cell_type": "code",
   "execution_count": null,
   "metadata": {},
   "outputs": [],
   "source": [
    "# 関数を読み込む\n",
    "!pip install mpb_lib -qU\n",
    "from mpb_lib.sound import load, play"
   ]
  },
  {
   "cell_type": "code",
   "execution_count": null,
   "metadata": {},
   "outputs": [],
   "source": [
    "# ド(c)の音を読み込む\n",
    "c = load(\"c\")"
   ]
  },
  {
   "cell_type": "code",
   "execution_count": null,
   "metadata": {},
   "outputs": [],
   "source": [
    "# cの中身を確認する\n",
    "c  "
   ]
  },
  {
   "cell_type": "code",
   "execution_count": null,
   "metadata": {},
   "outputs": [],
   "source": [
    "# リストの長さを調べる\n",
    "len(c)  "
   ]
  },
  {
   "cell_type": "code",
   "execution_count": null,
   "metadata": {},
   "outputs": [],
   "source": [
    "# cの音を聞いてみる\n",
    "play(c)  "
   ]
  },
  {
   "cell_type": "code",
   "execution_count": null,
   "metadata": {},
   "outputs": [],
   "source": [
    "# レ〜シを読み込む\n",
    "d = load(\"d\")  # レ(d)\n",
    "e = load(\"e\")  # ミ(e)\n",
    "f = load(\"f\")  # ファ(f)\n",
    "g = load(\"g\")  # ソ(g)\n",
    "a = load(\"a\")  # ラ(a)\n",
    "b = load(\"b\")  # シ(b)"
   ]
  },
  {
   "cell_type": "code",
   "execution_count": null,
   "metadata": {},
   "outputs": [],
   "source": [
    "# リストの足し算\n",
    "play(c + d + e)"
   ]
  },
  {
   "cell_type": "markdown",
   "metadata": {},
   "source": [
    "## スライス - リストの一部を切り出す"
   ]
  },
  {
   "cell_type": "code",
   "execution_count": null,
   "metadata": {
    "scrolled": true
   },
   "outputs": [],
   "source": [
    "# スライスを使ってリストを短くする\n",
    "play(c[:4000])"
   ]
  },
  {
   "cell_type": "code",
   "execution_count": null,
   "metadata": {},
   "outputs": [],
   "source": [
    "# 短くした音をつなげる\n",
    "play(c[:4000] + d[:4000] + e[:4000])"
   ]
  },
  {
   "cell_type": "code",
   "execution_count": null,
   "metadata": {},
   "outputs": [],
   "source": [
    "# 曲を演奏しよう\n",
    "play(c[:18000] + d[:6000] + e[:18000] + c[:6000] + e[:12000] + c[:12000] + e[:12000])"
   ]
  },
  {
   "cell_type": "markdown",
   "metadata": {},
   "source": [
    "自信のある人は，上のセルを書き換えて，いろいろな曲を演奏してみましょう。"
   ]
  },
  {
   "cell_type": "markdown",
   "metadata": {},
   "source": [
    "## リストの中の数を足す - 音を重ねる"
   ]
  },
  {
   "cell_type": "code",
   "execution_count": null,
   "metadata": {},
   "outputs": [],
   "source": [
    "# リストにある数を足し算する\n",
    "def array_add(s1, s2):\n",
    "    # s1とs2のリストの数を足して2で割り\n",
    "    # 新しいリストを作って返す関数\n",
    "    new_list = []  # 新しいリスト\n",
    "    for i in range(len(s1)):\n",
    "        v = s1[i] + s2[i]\n",
    "        v = v / 2\n",
    "        new_list += [v]\n",
    "    return new_list"
   ]
  },
  {
   "cell_type": "code",
   "execution_count": null,
   "metadata": {},
   "outputs": [],
   "source": [
    "# ドとミの音を重ねる\n",
    "ce = array_add(c, e)  \n",
    "play(ce)  # 音を鳴らす"
   ]
  },
  {
   "cell_type": "code",
   "execution_count": null,
   "metadata": {},
   "outputs": [],
   "source": [
    "# ドミとソの音を重ねる\n",
    "ceg = array_add(ce, g)  \n",
    "play(ceg)  # 音を鳴らす"
   ]
  },
  {
   "cell_type": "code",
   "execution_count": null,
   "metadata": {},
   "outputs": [],
   "source": []
  }
 ],
 "metadata": {
  "kernelspec": {
   "display_name": "Python 3 (ipykernel)",
   "language": "python",
   "name": "python3"
  },
  "language_info": {
   "codemirror_mode": {
    "name": "ipython",
    "version": 3
   },
   "file_extension": ".py",
   "mimetype": "text/x-python",
   "name": "python",
   "nbconvert_exporter": "python",
   "pygments_lexer": "ipython3",
   "version": "3.9.12"
  }
 },
 "nbformat": 4,
 "nbformat_minor": 2
}
