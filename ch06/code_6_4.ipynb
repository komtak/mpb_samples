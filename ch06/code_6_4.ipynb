{
 "cells": [
  {
   "cell_type": "markdown",
   "metadata": {},
   "source": [
    "# プログラム 6-4"
   ]
  },
  {
   "cell_type": "code",
   "execution_count": null,
   "metadata": {},
   "outputs": [],
   "source": [
    "# 6-4-1\n",
    "# ライブラリをインストールする\n",
    "!pip install mpb_lib -qU\n",
    "# クラスを読み込む\n",
    "from mpb_lib.face import Face"
   ]
  },
  {
   "cell_type": "code",
   "execution_count": null,
   "metadata": {},
   "outputs": [],
   "source": [
    "# 6-4-2\n",
    "f = Face() # オブジェクトを作る\n",
    "f.show()    # メソッドを呼び出す"
   ]
  },
  {
   "cell_type": "code",
   "execution_count": null,
   "metadata": {},
   "outputs": [],
   "source": [
    "# 6-4-3\n",
    "f.eye_kind = 1    # 目の種類(0から2)\n",
    "f.mouth_kind = 1 # 口の種類(0から2)\n",
    "f.eyeblow_degree = -30  # まゆの角度\n",
    "f.message = \"ワタシ，パイソン，チョットデキル\"\n",
    "f.show()  # 顔を表示する"
   ]
  },
  {
   "cell_type": "code",
   "execution_count": null,
   "metadata": {},
   "outputs": [],
   "source": [
    "# 6-4-5\n",
    "f.eye_kind = 0    # 目の種類(0から2)\n",
    "f.mouth_kind = 0 # 口の種類(0から2)\n",
    "f.eye_position = [0, 0]  # 目の位置[よこ, たて]\n",
    "f.eyeblow_position = [10, -10]  # まゆの位置[よこ, たて]\n",
    "f.eyeblow_degree = 30  # まゆの角度\n",
    "f.mouth_position = [0, -10]  # 口の位置[よこ, たて]\n",
    "f.message = \"先生，あとで職員室に来なさい。\"\n",
    "f.show()   # セリフを言う"
   ]
  },
  {
   "cell_type": "code",
   "execution_count": null,
   "metadata": {},
   "outputs": [],
   "source": []
  }
 ],
 "metadata": {
  "kernelspec": {
   "display_name": "Python 3",
   "language": "python",
   "name": "python3"
  },
  "language_info": {
   "codemirror_mode": {
    "name": "ipython",
    "version": 3
   },
   "file_extension": ".py",
   "mimetype": "text/x-python",
   "name": "python",
   "nbconvert_exporter": "python",
   "pygments_lexer": "ipython3",
   "version": "3.7.3"
  }
 },
 "nbformat": 4,
 "nbformat_minor": 2
}
