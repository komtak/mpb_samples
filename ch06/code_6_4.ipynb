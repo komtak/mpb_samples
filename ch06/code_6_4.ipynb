{
 "cells": [
  {
   "cell_type": "markdown",
   "metadata": {},
   "source": [
    "# プログラム 6-4"
   ]
  },
  {
   "cell_type": "markdown",
   "metadata": {},
   "source": [
    "## 6-9 いろいろなオブジェクト"
   ]
  },
  {
   "cell_type": "code",
   "execution_count": null,
   "metadata": {},
   "outputs": [],
   "source": [
    "# オブジェクトを作る\n",
    "m = \"?で地震がありました。\""
   ]
  },
  {
   "cell_type": "code",
   "execution_count": null,
   "metadata": {},
   "outputs": [],
   "source": [
    "# ?を別の文字列に置き換える(置換)\n",
    "m = m.replace(\"?\", \"〇×県\")"
   ]
  },
  {
   "cell_type": "code",
   "execution_count": null,
   "metadata": {},
   "outputs": [],
   "source": [
    "m   # 置き換えた結果を確認"
   ]
  },
  {
   "cell_type": "code",
   "execution_count": 42,
   "metadata": {},
   "outputs": [
    {
     "data": {
      "text/plain": [
       "17"
      ]
     },
     "execution_count": 42,
     "metadata": {},
     "output_type": "execute_result"
    }
   ],
   "source": [
    "# サムライを探せ\n",
    "s = (\"持持持持持持持持持持\"\n",
    "       \"持持持持持持持侍持持\"\n",
    "       \"持持持持持持持持持持\"\n",
    "       \"持持持持持持持持持持\"\n",
    "       \"持持持持持持持持持持\"\n",
    "       \"持持持持持持持持持持\")\n",
    "s.index(\"侍\")"
   ]
  },
  {
   "cell_type": "code",
   "execution_count": 43,
   "metadata": {},
   "outputs": [
    {
     "data": {
      "text/plain": [
       "9"
      ]
     },
     "execution_count": 43,
     "metadata": {},
     "output_type": "execute_result"
    }
   ],
   "source": [
    "# 50までの素数のリスト\n",
    "l = [2, 3, 5, 7, 11, 13, 17, 19,\n",
    "      23, 29, 31, 37, 41, 43, 47]\n",
    "l.index(29)  # 29は何番目？"
   ]
  },
  {
   "cell_type": "code",
   "execution_count": 44,
   "metadata": {},
   "outputs": [],
   "source": [
    "# 日本の人口(2017〜2020，単位:万人)\n",
    "p = \"12670  12644 12616 12571\"\n",
    "pl = t.split()"
   ]
  },
  {
   "cell_type": "code",
   "execution_count": 45,
   "metadata": {},
   "outputs": [
    {
     "data": {
      "text/plain": [
       "['12670', '12644', '12616', '12571']"
      ]
     },
     "execution_count": 45,
     "metadata": {},
     "output_type": "execute_result"
    }
   ],
   "source": [
    "pl  # 結果を確認"
   ]
  },
  {
   "cell_type": "code",
   "execution_count": 46,
   "metadata": {},
   "outputs": [],
   "source": [
    "# 日本の人口(数のリスト)\n",
    "pl2 = [12670, 12644, 12616, 12571]\n",
    "pl2.sort()"
   ]
  },
  {
   "cell_type": "code",
   "execution_count": 47,
   "metadata": {},
   "outputs": [
    {
     "data": {
      "text/plain": [
       "[12571, 12616, 12644, 12670]"
      ]
     },
     "execution_count": 47,
     "metadata": {},
     "output_type": "execute_result"
    }
   ],
   "source": [
    "pl2 # 結果を確認"
   ]
  },
  {
   "cell_type": "code",
   "execution_count": null,
   "metadata": {},
   "outputs": [],
   "source": [
    "!pip -q install mpb_lib -U\n",
    "!pip -q install gtts # 音声合成ライブラリをインストール\n",
    "from IPython.display import Audio # 音声再生用の関数を読み込む\n",
    "# 地震の情報を得るための関数を読み込む\n",
    "from mpb_lib.sugoi import get_eq_info"
   ]
  },
  {
   "cell_type": "code",
   "execution_count": null,
   "metadata": {},
   "outputs": [],
   "source": [
    "# 地震の情報を辞書として得る\n",
    "d = get_eq_info()\n",
    "d   # 辞書の内容を確認"
   ]
  },
  {
   "cell_type": "code",
   "execution_count": null,
   "metadata": {},
   "outputs": [],
   "source": [
    "p = d[\"name\"]  # 地名だけを取り出す\n",
    "p  # 地名を確認"
   ]
  },
  {
   "cell_type": "code",
   "execution_count": null,
   "metadata": {},
   "outputs": [],
   "source": [
    "m = \"?で地震がありました。\"\n",
    "# ?を地名で置き換える(置換)\n",
    "m = m.replace(\"?\", p)\n",
    "m   # 結果を表示"
   ]
  },
  {
   "cell_type": "code",
   "execution_count": null,
   "metadata": {},
   "outputs": [],
   "source": [
    "from gtts import gTTS \n",
    "tts = gTTS(m, lang=\"ja\") # 文字列を音声に変換\n",
    "tts.save(\"eq.wav\")  # 保存\n",
    "Audio(\"eq.wav\")  # プレイヤーを表示"
   ]
  },
  {
   "cell_type": "markdown",
   "metadata": {},
   "source": [
    "### オマケ，ここまで"
   ]
  },
  {
   "cell_type": "code",
   "execution_count": null,
   "metadata": {},
   "outputs": [],
   "source": []
  }
 ],
 "metadata": {
  "kernelspec": {
   "display_name": "Python 3",
   "language": "python",
   "name": "python3"
  },
  "language_info": {
   "codemirror_mode": {
    "name": "ipython",
    "version": 3
   },
   "file_extension": ".py",
   "mimetype": "text/x-python",
   "name": "python",
   "nbconvert_exporter": "python",
   "pygments_lexer": "ipython3",
   "version": "3.7.3"
  }
 },
 "nbformat": 4,
 "nbformat_minor": 2
}
