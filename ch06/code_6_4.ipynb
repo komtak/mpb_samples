{
 "cells": [
  {
   "cell_type": "markdown",
   "metadata": {},
   "source": [
    "# プログラム 6-4"
   ]
  },
  {
   "cell_type": "markdown",
   "metadata": {},
   "source": [
    "## オマケのプログラム - Pythonで音を作る\n",
    "\n",
    "興味のある人は，読みながらプログラムを実行してみると，きっと楽しいと思います。"
   ]
  },
  {
   "cell_type": "code",
   "execution_count": null,
   "metadata": {},
   "outputs": [],
   "source": [
    "# ライブラリをインストール，インポート\n",
    "!pip install mpb_lib -qU\n",
    "from mpb_lib.sound import load, play"
   ]
  },
  {
   "cell_type": "code",
   "execution_count": null,
   "metadata": {},
   "outputs": [],
   "source": [
    "# グラフを描く関数をインポート\n",
    "from matplotlib.pyplot import plot"
   ]
  },
  {
   "cell_type": "code",
   "execution_count": null,
   "metadata": {},
   "outputs": [],
   "source": [
    "# ドの音を読み込んでグラフ化\n",
    "c = load(\"c\")  \n",
    "plot(c)  # グラフ化"
   ]
  },
  {
   "cell_type": "code",
   "execution_count": null,
   "metadata": {
    "scrolled": false
   },
   "outputs": [],
   "source": [
    "# 先頭から500個だけ取り出す\n",
    "plot(c[:500])"
   ]
  },
  {
   "cell_type": "code",
   "execution_count": null,
   "metadata": {},
   "outputs": [],
   "source": [
    "# 音(サイン波)を作る関数\n",
    "from math import sin, pi   # 三角関数を読み込む\n",
    "\n",
    "def generate_sound(freq, dur):\n",
    "    \"\"\"\n",
    "    freqに周波数，durに長さ(秒数)を渡して呼び出す\n",
    "    \"\"\"\n",
    "    sfreq = 22050  # サンプリング周波数\n",
    "    factor = pi * freq / sfreq  # 係数を計算\n",
    "    l = []  # リストを初期化\n",
    "    # ループを使ってリストを生成\n",
    "    for seg in range(int(dur * sfreq)):\n",
    "            s = sin(seg * factor) * 2000\n",
    "            l = l + [s]\n",
    "    return l"
   ]
  },
  {
   "cell_type": "code",
   "execution_count": null,
   "metadata": {},
   "outputs": [],
   "source": [
    "# https://tomari.org/main/java/oto.html\n",
    "# 上のアドレスに，音ごとの周波数が書いてあります。"
   ]
  },
  {
   "cell_type": "code",
   "execution_count": null,
   "metadata": {},
   "outputs": [],
   "source": [
    "# ド(C6)の音を作る\n",
    "c6 = generate_sound(1046, 0.5)\n",
    "play(c6)"
   ]
  },
  {
   "cell_type": "code",
   "execution_count": null,
   "metadata": {},
   "outputs": [],
   "source": [
    "# 音の波をグラフにする\n",
    "plot(c6[:500])"
   ]
  },
  {
   "cell_type": "code",
   "execution_count": null,
   "metadata": {},
   "outputs": [],
   "source": [
    "# ミ，ソの音を作る\n",
    "e6 = generate_sound(1318, 0.5)\n",
    "g6 = generate_sound(1568, 0.5)"
   ]
  },
  {
   "cell_type": "code",
   "execution_count": null,
   "metadata": {},
   "outputs": [],
   "source": [
    "# ドミソの音を重ねる\n",
    "ceg = []\n",
    "for i in range(len(c6)):\n",
    "    v = (c6[i] + e6[i] + g6[i]) / 3\n",
    "    ceg += [v]"
   ]
  },
  {
   "cell_type": "code",
   "execution_count": null,
   "metadata": {},
   "outputs": [],
   "source": [
    "# 和音を鳴らす\n",
    "play(ceg)  # 和音を鳴らす"
   ]
  },
  {
   "cell_type": "code",
   "execution_count": null,
   "metadata": {},
   "outputs": [],
   "source": [
    "# 和音の波をグラフにする\n",
    "plot(ceg[:500])"
   ]
  },
  {
   "cell_type": "markdown",
   "metadata": {},
   "source": [
    "## オマケ 1"
   ]
  },
  {
   "cell_type": "code",
   "execution_count": null,
   "metadata": {},
   "outputs": [],
   "source": [
    "#  音色を変える\n",
    "def generate_sound2(freq, dur, sub_freq_t, delta):\n",
    "    \"\"\"\n",
    "    音(サイン波)を作る関数\n",
    "    freqに周波数，durに長さ(秒数)を渡して呼び出す。\n",
    "    sub_freqには，主振動に加える副振動の周期(freqの倍率)\n",
    "    deltaには，副振動の振幅(種振幅/delta)を渡す。\n",
    "    \"\"\"\n",
    "    sfreq = 22050  # サンプリング周波数\n",
    "    factor = pi * freq / sfreq  # 係数を計算\n",
    "    l = []  # リストを初期化\n",
    "    # ループを使ってリストを生成\n",
    "    for seg in range(int(dur * sfreq)):\n",
    "            s = sin(seg * factor) * 2000 + sin(seg * factor * sub_freq_t) * 2000 / delta\n",
    "            l = l + [s]\n",
    "    return l"
   ]
  },
  {
   "cell_type": "code",
   "execution_count": null,
   "metadata": {},
   "outputs": [],
   "source": [
    "# ド(C6)の音を作る\n",
    "# 次の二つの変数を変えると，音色が変わります\n",
    "subfreq = 2\n",
    "delta = 1  # この数は0にはしないでください(エラーになります)\n",
    "gc = generate_sound2(1046, 0.5, subfreq, delta)\n",
    "play(gc)"
   ]
  },
  {
   "cell_type": "code",
   "execution_count": null,
   "metadata": {},
   "outputs": [],
   "source": [
    "# 音の形をグラフに描く\n",
    "plot(gc[:500])"
   ]
  },
  {
   "cell_type": "markdown",
   "metadata": {},
   "source": [
    "## オマケ 2\n",
    "### 計算でコンピュータの声(あいうえ)を合成する"
   ]
  },
  {
   "cell_type": "code",
   "execution_count": null,
   "metadata": {},
   "outputs": [],
   "source": [
    "from mpb_lib.vowelgen import generate_vowel"
   ]
  },
  {
   "cell_type": "code",
   "execution_count": null,
   "metadata": {},
   "outputs": [],
   "source": [
    "generate_vowel(9, 1, 8, 7)  # 「あ」の音を合成する"
   ]
  },
  {
   "cell_type": "code",
   "execution_count": null,
   "metadata": {},
   "outputs": [],
   "source": [
    "generate_vowel(9, 8, 6, 1)  # 「い」の音を合成する"
   ]
  },
  {
   "cell_type": "code",
   "execution_count": null,
   "metadata": {},
   "outputs": [],
   "source": [
    "generate_vowel(10, 7, 7, 3)  # 「う」の音を合成する"
   ]
  },
  {
   "cell_type": "code",
   "execution_count": null,
   "metadata": {},
   "outputs": [],
   "source": [
    "generate_vowel(4, 1, 10, 8)  # 「え」の音を合成する"
   ]
  },
  {
   "cell_type": "markdown",
   "metadata": {},
   "source": []
  }
 ],
 "metadata": {
  "kernelspec": {
   "display_name": "Python 3 (ipykernel)",
   "language": "python",
   "name": "python3"
  },
  "language_info": {
   "codemirror_mode": {
    "name": "ipython",
    "version": 3
   },
   "file_extension": ".py",
   "mimetype": "text/x-python",
   "name": "python",
   "nbconvert_exporter": "python",
   "pygments_lexer": "ipython3",
   "version": "3.9.12"
  }
 },
 "nbformat": 4,
 "nbformat_minor": 2
}
