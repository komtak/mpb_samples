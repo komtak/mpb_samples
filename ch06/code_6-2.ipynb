{
 "cells": [
  {
   "cell_type": "markdown",
   "metadata": {},
   "source": [
    "# プログラム 6-2"
   ]
  },
  {
   "cell_type": "markdown",
   "metadata": {},
   "source": [
    "## 辞書 - 「見出し」でデータを管理する"
   ]
  },
  {
   "cell_type": "code",
   "execution_count": null,
   "metadata": {},
   "outputs": [],
   "source": [
    "s1 = {\"name\": \"強い剣\",    # 名前\n",
    "         \"power\": 1000,      # 強さ\n",
    "         \"endurance\": 100} # 耐久力"
   ]
  },
  {
   "cell_type": "code",
   "execution_count": null,
   "metadata": {},
   "outputs": [],
   "source": [
    "s1[\"name\"]  # 剣の名前を取り出す"
   ]
  },
  {
   "cell_type": "code",
   "execution_count": null,
   "metadata": {},
   "outputs": [],
   "source": [
    "s2 = {\"name\": \"弱い剣\",    # 名前\n",
    "         \"power\": 10,         # 強さ\n",
    "         \"endurance\": 100} # 耐久力"
   ]
  },
  {
   "cell_type": "code",
   "execution_count": null,
   "metadata": {},
   "outputs": [],
   "source": [
    "s1[\"endurance\"] = 10"
   ]
  },
  {
   "cell_type": "code",
   "execution_count": null,
   "metadata": {},
   "outputs": [],
   "source": [
    "s1 # s1の辞書を確認"
   ]
  },
  {
   "cell_type": "code",
   "execution_count": null,
   "metadata": {},
   "outputs": [],
   "source": [
    "def use_sword2(sd):\n",
    "    # 剣を使い，ダメージを返す関数\n",
    "    # 使う剣を辞書にして引数に渡す\n",
    "    sd[\"endurance\"] -= 1 # 耐久力を減らす\n",
    "    return sd[\"power\"]"
   ]
  },
  {
   "cell_type": "code",
   "execution_count": null,
   "metadata": {},
   "outputs": [],
   "source": [
    "# 「強い剣」を使う\n",
    "damage = use_sword2(s2) "
   ]
  },
  {
   "cell_type": "code",
   "execution_count": null,
   "metadata": {},
   "outputs": [],
   "source": [
    "# 地震の情報を読み込む\n",
    "\n",
    "# ライブラリを読み込む\n",
    "from urllib.request import urlopen\n",
    "from json import loads\n",
    "\n",
    "# 地震の情報を読み込む\n",
    "url = \"https://api.p2pquake.net/v2/jma/quake?limit=1\"\n",
    "r = urlopen(url)\n",
    "ql = loads(r.read())\n",
    "q = ql[0]  # 辞書がリストに入っているので，最初の要素(辞書)だけを取り出す"
   ]
  },
  {
   "cell_type": "code",
   "execution_count": null,
   "metadata": {},
   "outputs": [],
   "source": [
    "q  # 受け取った情報を表示する"
   ]
  },
  {
   "cell_type": "code",
   "execution_count": null,
   "metadata": {},
   "outputs": [],
   "source": [
    "q[\"earthquake\"]  # 震源基本的な情報を表示"
   ]
  },
  {
   "cell_type": "code",
   "execution_count": null,
   "metadata": {},
   "outputs": [],
   "source": [
    "# 震源の情報だけを表示\n",
    "q[\"earthquake\"][\"hypocenter\"]"
   ]
  },
  {
   "cell_type": "code",
   "execution_count": null,
   "metadata": {},
   "outputs": [],
   "source": []
  }
 ],
 "metadata": {
  "kernelspec": {
   "display_name": "Python 3",
   "language": "python",
   "name": "python3"
  },
  "language_info": {
   "codemirror_mode": {
    "name": "ipython",
    "version": 3
   },
   "file_extension": ".py",
   "mimetype": "text/x-python",
   "name": "python",
   "nbconvert_exporter": "python",
   "pygments_lexer": "ipython3",
   "version": "3.7.3"
  }
 },
 "nbformat": 4,
 "nbformat_minor": 2
}
