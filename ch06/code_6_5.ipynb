{
 "cells": [
  {
   "cell_type": "markdown",
   "metadata": {},
   "source": [
    "# プログラム 6-5"
   ]
  },
  {
   "cell_type": "code",
   "execution_count": null,
   "metadata": {},
   "outputs": [],
   "source": [
    "# 6-5-1\n",
    "!pip -q install mpb_lib -U\n",
    "# 地震の情報を得るための関数を読み込む\n",
    "from mpb_lib.sugoi import get_eq_info2"
   ]
  },
  {
   "cell_type": "code",
   "execution_count": null,
   "metadata": {},
   "outputs": [],
   "source": [
    "# 6-5-2\n",
    "# 地震の情報を辞書として得る\n",
    "d = get_eq_info2()\n",
    "d   # 辞書の内容を確認"
   ]
  },
  {
   "cell_type": "code",
   "execution_count": null,
   "metadata": {},
   "outputs": [],
   "source": [
    "# 6-5-3\n",
    "p = d[\"name\"]  # 地名だけを取り出す\n",
    "p  # 地名を確認"
   ]
  },
  {
   "cell_type": "code",
   "execution_count": null,
   "metadata": {},
   "outputs": [],
   "source": [
    "# 6-5-4\n",
    "m = \"?で地震がありました。\"\n",
    "# ?を地名で置き換える(置換)\n",
    "m = m.replace(\"?\", p)\n",
    "m   # 結果を表示"
   ]
  },
  {
   "cell_type": "code",
   "execution_count": null,
   "metadata": {},
   "outputs": [],
   "source": [
    "# 6-5-5\n",
    "# 地震の規模(マグニチュード)を取り出す\n",
    "mg = d[\"magnitude\"]\n",
    "mg   # 結果を確認"
   ]
  },
  {
   "cell_type": "code",
   "execution_count": null,
   "metadata": {},
   "outputs": [],
   "source": [
    "# 6-5-6\n",
    "m = f\"{p}でマグニチュード{mg}の地震がありました。\"\n",
    "m  # 結果を確認"
   ]
  },
  {
   "cell_type": "code",
   "execution_count": null,
   "metadata": {},
   "outputs": [],
   "source": [
    "# 6-5-7\n",
    "d[\"datetime\"] # 日付を表示する"
   ]
  },
  {
   "cell_type": "code",
   "execution_count": null,
   "metadata": {},
   "outputs": [],
   "source": [
    "# 6-5-8\n",
    "# 発生日時を文字列にする\n",
    "dt = d[\"datetime\"]   # 日付のオブジェクトを取り出す\n",
    "m = f\"{dt.month}月{dt.day}日{dt.hour}時ごろ\"\n",
    "m # 結果を確認"
   ]
  },
  {
   "cell_type": "code",
   "execution_count": null,
   "metadata": {},
   "outputs": [],
   "source": [
    "# 6-5-9\n",
    "# 文字列の足し算を使って発生日時を文字列にする\n",
    "# str()を使って数を文字列に変換する必要がある\n",
    "dt = d[\"datetime\"]   # 日付のオブジェクトを取り出す\n",
    "m = str(dt.month)+\"月\"+str(dt.day)+\"日\"+str(dt.hour)+\"時ごろ\"\n",
    "m # 結果を確認"
   ]
  },
  {
   "cell_type": "code",
   "execution_count": null,
   "metadata": {},
   "outputs": [],
   "source": [
    "# 6-5-10\n",
    "# 文字列のメソッドを使って，発生日時を文字列にする\n",
    "# str()を使って数を文字列に変換，replace()を何度か使う必要がある\n",
    "dt = d[\"datetime\"]   # 日付のオブジェクトを取り出す\n",
    "m = \"m月d日h時ごろ\"\n",
    "m = m.replace(\"m\", str(dt.month))  # 月を置き換え\n",
    "m = m.replace(\"d\", str(dt.day))       # 日を置き換え\n",
    "m = m.replace(\"h\", str(dt.hour))      # 時を置き換え\n",
    "m # 結果を確認"
   ]
  },
  {
   "cell_type": "code",
   "execution_count": null,
   "metadata": {},
   "outputs": [],
   "source": [
    "# 6-5-11\n",
    "# まとめる\n",
    "# 地震の情報を辞書として得る\n",
    "d = get_eq_info2()\n",
    "\n",
    "# 辞書のデータを変数に入れる\n",
    "p = d[\"name\"]\n",
    "mg = d[\"magnitude\"]\n",
    "dt = d[\"datetime\"]\n",
    "\n",
    "m = f\"{dt.month}月{dt.day}日{dt.hour}時ごろ\"\n",
    "m += f\"{p}で\"\n",
    "m += f\"マグニチュード{mg}の地震がありました。\"\n",
    "m # 結果を確認"
   ]
  },
  {
   "cell_type": "code",
   "execution_count": null,
   "metadata": {},
   "outputs": [],
   "source": []
  }
 ],
 "metadata": {
  "kernelspec": {
   "display_name": "Python 3",
   "language": "python",
   "name": "python3"
  },
  "language_info": {
   "codemirror_mode": {
    "name": "ipython",
    "version": 3
   },
   "file_extension": ".py",
   "mimetype": "text/x-python",
   "name": "python",
   "nbconvert_exporter": "python",
   "pygments_lexer": "ipython3",
   "version": "3.7.3"
  }
 },
 "nbformat": 4,
 "nbformat_minor": 2
}
