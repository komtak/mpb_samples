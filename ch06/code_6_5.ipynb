{
 "cells": [
  {
   "cell_type": "markdown",
   "metadata": {},
   "source": [
    "# プログラム 6-5"
   ]
  },
  {
   "cell_type": "markdown",
   "metadata": {},
   "source": [
    "## 6-10 オブジェクトと計算"
   ]
  },
  {
   "cell_type": "code",
   "execution_count": null,
   "metadata": {},
   "outputs": [],
   "source": [
    "# 日付用のクラス(日付型)をインポート\n",
    "from datetime import date\n",
    "# 日付を2つ定義\n",
    "d1 = date(2021, 10, 1)\n",
    "d2 = date(2021, 11, 1)"
   ]
  },
  {
   "cell_type": "code",
   "execution_count": null,
   "metadata": {},
   "outputs": [],
   "source": [
    "# 日付の比較\n",
    "if d1 < d2:\n",
    "    print(\"d1よりd2の方が大きい\")"
   ]
  },
  {
   "cell_type": "code",
   "execution_count": null,
   "metadata": {},
   "outputs": [],
   "source": [
    "# 日付の引き算\n",
    "d2 - d1"
   ]
  },
  {
   "cell_type": "code",
   "execution_count": null,
   "metadata": {},
   "outputs": [],
   "source": [
    "td = d2 - d1 # 「31日後」を変数に代入\n",
    "d3 = date(2021, 12, 31)\n",
    "d3+td  # d3の一日後"
   ]
  },
  {
   "cell_type": "code",
   "execution_count": null,
   "metadata": {},
   "outputs": [],
   "source": [
    "# オブジェクト指向を使わないで，日付を1日足すプログラムの例\n",
    "\n",
    "# 一ヶ月の日数を考慮する必要があるので\n",
    "# 一ヶ月の日数を得る関数をライブラリからインポート\n",
    "from calendar import monthrange\n",
    "\n",
    "# 日付を変数に定義\n",
    "year = 2020\n",
    "month = 12\n",
    "day = 31\n",
    "\n",
    "day += 1  # 一日後\n",
    "\n",
    "mday = monthrange(year, month)\n",
    "if mday[0] < day:\n",
    "    # dayが月の最終日を超えていたので，翌月の1日にする\n",
    "    month = month+1\n",
    "    day = 1\n",
    "    if month == 13:\n",
    "        # 13月は存在しないので，翌年の1月にする\n",
    "        month = 1\n",
    "        year = year + 1  # 年を増やす\n",
    "\n",
    "print(year, month, day) # 結果を表示"
   ]
  },
  {
   "cell_type": "code",
   "execution_count": null,
   "metadata": {},
   "outputs": [],
   "source": []
  }
 ],
 "metadata": {
  "kernelspec": {
   "display_name": "Python 3",
   "language": "python",
   "name": "python3"
  },
  "language_info": {
   "codemirror_mode": {
    "name": "ipython",
    "version": 3
   },
   "file_extension": ".py",
   "mimetype": "text/x-python",
   "name": "python",
   "nbconvert_exporter": "python",
   "pygments_lexer": "ipython3",
   "version": "3.7.3"
  }
 },
 "nbformat": 4,
 "nbformat_minor": 2
}
