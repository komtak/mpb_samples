{
 "cells": [
  {
   "cell_type": "markdown",
   "metadata": {},
   "source": [
    "# プログラム 6-1"
   ]
  },
  {
   "cell_type": "markdown",
   "metadata": {},
   "source": [
    "## 「ものごと」をモデリングする"
   ]
  },
  {
   "cell_type": "code",
   "execution_count": 1,
   "metadata": {},
   "outputs": [],
   "source": [
    "# 剣のデータをリストで管理する\n",
    "names = [\"強い剣\", \"弱い剣\"] # 名前のリスト\n",
    "powers = [1000, 10]   # 強さのリスト\n",
    "endulances = [100, 100]  # 耐久力のリスト"
   ]
  },
  {
   "cell_type": "code",
   "execution_count": 2,
   "metadata": {},
   "outputs": [],
   "source": [
    "def use_sword(idx):\n",
    "    # 剣を使い，ダメージを返す関数\n",
    "    # 使う剣のインデックス(順番)を引数に渡す\n",
    "    endulances[idx] -= 1 # 耐久力を減らす\n",
    "    return powers[idx]    "
   ]
  },
  {
   "cell_type": "code",
   "execution_count": null,
   "metadata": {},
   "outputs": [],
   "source": [
    "# 「強い剣」を使う\n",
    "damage = use_sword(0) "
   ]
  }
 ],
 "metadata": {
  "kernelspec": {
   "display_name": "Python 3",
   "language": "python",
   "name": "python3"
  },
  "language_info": {
   "codemirror_mode": {
    "name": "ipython",
    "version": 3
   },
   "file_extension": ".py",
   "mimetype": "text/x-python",
   "name": "python",
   "nbconvert_exporter": "python",
   "pygments_lexer": "ipython3",
   "version": "3.7.3"
  }
 },
 "nbformat": 4,
 "nbformat_minor": 2
}
