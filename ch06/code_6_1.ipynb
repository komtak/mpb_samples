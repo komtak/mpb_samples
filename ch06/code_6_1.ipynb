{
 "cells": [
  {
   "cell_type": "markdown",
   "metadata": {},
   "source": [
    "# プログラム 6-1"
   ]
  },
  {
   "cell_type": "code",
   "execution_count": null,
   "metadata": {},
   "outputs": [],
   "source": [
    "# 主人公\n",
    "name = \"勇者\" # 名前\n",
    "hp = 100       # 体力\n",
    "exp = 0         # 経験値"
   ]
  },
  {
   "cell_type": "code",
   "execution_count": null,
   "metadata": {},
   "outputs": [],
   "source": [
    "# 経験値を増やす\n",
    "exp += 20\n",
    "print(exp)  # 経験値を表示"
   ]
  },
  {
   "cell_type": "code",
   "execution_count": null,
   "metadata": {},
   "outputs": [],
   "source": [
    "# レベルアップ\n",
    "if exp >= 100:\n",
    "    hp += 20\n",
    "    print(name+\"はレベルアップした。\")\n",
    "    print(\"体力が\"+str(hp)+\"になった。\")"
   ]
  },
  {
   "cell_type": "code",
   "execution_count": null,
   "metadata": {},
   "outputs": [],
   "source": [
    "# 主人公の表現\n",
    "name = \"勇者\"\n",
    "hp = 100\n",
    "exp = 0\n",
    "inventory = [\"剣\", \"盾\", \"薬草\"]"
   ]
  },
  {
   "cell_type": "code",
   "execution_count": null,
   "metadata": {},
   "outputs": [],
   "source": [
    "# 農民の表現\n",
    "name = \"農民A\"\n",
    "hp = 20\n",
    "exp = 100\n",
    "inventory = [\"くわ\", \"種\", \"農薬\"]"
   ]
  },
  {
   "cell_type": "code",
   "execution_count": null,
   "metadata": {},
   "outputs": [],
   "source": []
  }
 ],
 "metadata": {
  "kernelspec": {
   "display_name": "Python 3 (ipykernel)",
   "language": "python",
   "name": "python3"
  },
  "language_info": {
   "codemirror_mode": {
    "name": "ipython",
    "version": 3
   },
   "file_extension": ".py",
   "mimetype": "text/x-python",
   "name": "python",
   "nbconvert_exporter": "python",
   "pygments_lexer": "ipython3",
   "version": "3.9.12"
  }
 },
 "nbformat": 4,
 "nbformat_minor": 2
}
