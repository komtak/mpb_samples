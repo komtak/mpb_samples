{
 "cells": [
  {
   "cell_type": "markdown",
   "metadata": {},
   "source": [
    "# プログラム 6-1"
   ]
  },
  {
   "cell_type": "code",
   "execution_count": null,
   "metadata": {},
   "outputs": [],
   "source": [
    "# 6-1-1\n",
    "# 勇者\n",
    "hero = {\"name\": \"勇者\",   # 名前\n",
    "            \"hp\": 100,         # 体力\n",
    "            \"mp\": 20}          # 魔力"
   ]
  },
  {
   "cell_type": "code",
   "execution_count": null,
   "metadata": {},
   "outputs": [],
   "source": [
    "# 6-1-2\n",
    "# スライム\n",
    "slime = {\"name\": \"スライム\",\n",
    "             \"hp\": 5,\n",
    "             \"mp\": 0}"
   ]
  },
  {
   "cell_type": "code",
   "execution_count": null,
   "metadata": {},
   "outputs": [],
   "source": [
    "# 6-1-3\n",
    "hero[\"name\"]  # 名前を取り出す"
   ]
  },
  {
   "cell_type": "code",
   "execution_count": null,
   "metadata": {},
   "outputs": [],
   "source": [
    "# 6-1-4\n",
    "hero[\"name\"] = \"神官\"\n",
    "hero[\"name\"]  # 名前を取り出す"
   ]
  },
  {
   "cell_type": "code",
   "execution_count": null,
   "metadata": {},
   "outputs": [],
   "source": [
    "# 6-1-5\n",
    "!pip install mpb_lib -qU\n",
    "from mpb_lib.sugoi import get_eq_info"
   ]
  },
  {
   "cell_type": "code",
   "execution_count": null,
   "metadata": {},
   "outputs": [],
   "source": [
    "# 6-1-6\n",
    "get_eq_info()  # 地震の情報を表示"
   ]
  },
  {
   "cell_type": "code",
   "execution_count": null,
   "metadata": {
    "scrolled": true
   },
   "outputs": [],
   "source": [
    "# 6-1-7\n",
    "d = get_eq_info()\n",
    "d[\"hypocenter\"]  "
   ]
  },
  {
   "cell_type": "code",
   "execution_count": null,
   "metadata": {},
   "outputs": [],
   "source": [
    "# 6-1-8\n",
    "# 地震の情報を文字列にする\n",
    "d = get_eq_info()\n",
    "hc = d[\"hypocenter\"]  # 震源の辞書を抜き出す\n",
    "m = hc[\"name\"]  # 震源の地名\n",
    "m = m+\"で地震がありました。\"\n",
    "m = m+\"地震の強さは，マグニチュード\"+str(hc[\"magnitude\"])+\"です。\"\n",
    "m # 文字列を表示"
   ]
  },
  {
   "cell_type": "code",
   "execution_count": null,
   "metadata": {},
   "outputs": [],
   "source": [
    "# 6-1-9\n",
    "# 津波の情報を追加\n",
    "if d[\"domesticTsunami\"] == \"None\":\n",
    "    m = m+\"津波の心配はありません。\"\n",
    "else:\n",
    "    m = m+\"津波に警戒してください。\"\n",
    "m # 文字列を表示"
   ]
  },
  {
   "cell_type": "code",
   "execution_count": null,
   "metadata": {},
   "outputs": [],
   "source": []
  }
 ],
 "metadata": {
  "kernelspec": {
   "display_name": "Python 3",
   "language": "python",
   "name": "python3"
  },
  "language_info": {
   "codemirror_mode": {
    "name": "ipython",
    "version": 3
   },
   "file_extension": ".py",
   "mimetype": "text/x-python",
   "name": "python",
   "nbconvert_exporter": "python",
   "pygments_lexer": "ipython3",
   "version": "3.7.3"
  }
 },
 "nbformat": 4,
 "nbformat_minor": 2
}
