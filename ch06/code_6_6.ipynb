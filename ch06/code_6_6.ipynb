{
 "cells": [
  {
   "cell_type": "markdown",
   "metadata": {},
   "source": [
    "# プログラム 6-6"
   ]
  },
  {
   "cell_type": "markdown",
   "metadata": {},
   "source": [
    "## 6-11 オブジェクト指向を活用しよう"
   ]
  },
  {
   "cell_type": "code",
   "execution_count": null,
   "metadata": {},
   "outputs": [],
   "source": [
    "!pip -q install mpb_lib -U\n",
    "# 地震の情報を得るための関数を読み込む\n",
    "from mpb_lib.sugoi import get_eq_info"
   ]
  },
  {
   "cell_type": "code",
   "execution_count": null,
   "metadata": {},
   "outputs": [],
   "source": [
    "# 地震の情報を辞書として得る\n",
    "d = get_eq_info()\n",
    "d   # 辞書の内容を確認"
   ]
  },
  {
   "cell_type": "code",
   "execution_count": null,
   "metadata": {},
   "outputs": [],
   "source": [
    "p = d[\"name\"]  # 地名だけを取り出す\n",
    "p  # 地名を確認"
   ]
  },
  {
   "cell_type": "code",
   "execution_count": null,
   "metadata": {},
   "outputs": [],
   "source": [
    "m = \"?で地震がありました。\"\n",
    "# ?を地名で置き換える(置換)\n",
    "m = m.replace(\"?\", p)\n",
    "m   # 結果を表示"
   ]
  },
  {
   "cell_type": "code",
   "execution_count": null,
   "metadata": {},
   "outputs": [],
   "source": [
    "!pip -q install gtts # 音声合成ライブラリをインストール\n",
    "from gtts import gTTS  # インポート\n",
    "from IPython.display import Audio # 音声再生用の関数を読み込む\n",
    "\n",
    "def tts(s):\n",
    "    # 文字列sを日本語音声に変換\n",
    "    # プレイヤーを表示する関数\n",
    "    tts = gTTS(s, lang=\"ja\")\n",
    "    tts.save(\"eq.wav\")  # 保存\n",
    "    return Audio(\"eq.wav\")  # プレイヤーを表示"
   ]
  },
  {
   "cell_type": "code",
   "execution_count": null,
   "metadata": {},
   "outputs": [],
   "source": [
    "tts(m)  # 文字列を音声に変換"
   ]
  },
  {
   "cell_type": "code",
   "execution_count": null,
   "metadata": {},
   "outputs": [],
   "source": [
    "# 地震の規模(マグニチュード)を足す\n",
    "# f文字列を使う\n",
    "p = d[\"name\"]\n",
    "mg = d[\"magnitude\"]\n",
    "m = f\"{p}でマグニチュード{mg}の地震がありました。\""
   ]
  },
  {
   "cell_type": "code",
   "execution_count": null,
   "metadata": {},
   "outputs": [],
   "source": [
    "m  # 結果を確認"
   ]
  },
  {
   "cell_type": "code",
   "execution_count": null,
   "metadata": {},
   "outputs": [],
   "source": [
    "tts(m)  # 音声に変換"
   ]
  },
  {
   "cell_type": "code",
   "execution_count": null,
   "metadata": {},
   "outputs": [],
   "source": [
    "# 発生日時を足す\n",
    "p = d[\"name\"]\n",
    "mg = d[\"magnitude\"]\n",
    "dt = d[\"datetime\"]\n",
    "m = f\"{dt.month}月{dt.day}\"\n",
    "m += f\"日{dt.hour}時{dt.minute}分ごろ，\"\n",
    "m += \"{p}でマグニチュード{mg}の地震がありました。\"\n",
    "m # 結果を確認"
   ]
  },
  {
   "cell_type": "code",
   "execution_count": null,
   "metadata": {},
   "outputs": [],
   "source": [
    "tts(m)  # 音声に変換"
   ]
  },
  {
   "cell_type": "code",
   "execution_count": null,
   "metadata": {},
   "outputs": [],
   "source": [
    "# 関数以外，全部まとめる\n",
    "# 地震の情報を辞書として得る\n",
    "d = get_eq_info()\n",
    "# 辞書の要素を変数に定義\n",
    "p = d[\"name\"]\n",
    "mg = d[\"magnitude\"]\n",
    "dt = d[\"datetime\"]\n",
    "# 文字列を作る\n",
    "m = f\"{dt.month}月{dt.day}\"\n",
    "m += f\"日{dt.hour}時{dt.minute}分ごろ，\"\n",
    "m += \"{p}でマグニチュード{mg}の地震がありました。\"\n",
    "tts(m)  # 音声に変換"
   ]
  },
  {
   "cell_type": "code",
   "execution_count": null,
   "metadata": {},
   "outputs": [],
   "source": []
  }
 ],
 "metadata": {
  "kernelspec": {
   "display_name": "Python 3",
   "language": "python",
   "name": "python3"
  },
  "language_info": {
   "codemirror_mode": {
    "name": "ipython",
    "version": 3
   },
   "file_extension": ".py",
   "mimetype": "text/x-python",
   "name": "python",
   "nbconvert_exporter": "python",
   "pygments_lexer": "ipython3",
   "version": "3.7.3"
  }
 },
 "nbformat": 4,
 "nbformat_minor": 2
}
