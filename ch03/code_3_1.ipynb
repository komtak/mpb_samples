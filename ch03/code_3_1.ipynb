{
 "cells": [
  {
   "cell_type": "markdown",
   "metadata": {},
   "source": [
    "# プログラム 3-1"
   ]
  },
  {
   "cell_type": "markdown",
   "metadata": {},
   "source": [
    "## if - もし，○○のとき"
   ]
  },
  {
   "cell_type": "code",
   "execution_count": null,
   "metadata": {},
   "outputs": [],
   "source": [
    "# 3-1-1\n",
    "temp = 32  # 室温\n",
    "\n",
    "if temp > 23:  # 室温が適温より高い\n",
    "    temp = 23  # クーラーをつける\n",
    "    \n",
    "temp"
   ]
  },
  {
   "cell_type": "code",
   "execution_count": null,
   "metadata": {},
   "outputs": [],
   "source": [
    "# 3-1-2\n",
    "point = 0  # テストの点数\n",
    "\n",
    "if point > 80:  # 80点以上取れた\n",
    "    money = 100  # おこずかいをもらう\n",
    "else:\n",
    "    money = 0\n",
    "\n",
    "money  # おこずかいを確認する"
   ]
  },
  {
   "cell_type": "code",
   "execution_count": null,
   "metadata": {},
   "outputs": [],
   "source": [
    "# 3-1-3\n",
    "p = 60   # 降水確率\n",
    "if p == 50:\n",
    "    u = 1  # かさを持つ\n",
    "else:\n",
    "    u = 0  # かさを持たない\n",
    "u # かさを持つかどうかを確認"
   ]
  },
  {
   "cell_type": "code",
   "execution_count": null,
   "metadata": {},
   "outputs": [],
   "source": [
    "# 3-1-4\n",
    "# オマケ : 実際の降水確率を関数で読みこんで\n",
    "# ルールプログラムを動かしてみよう\n",
    "\n",
    "# 関数を読み込む\n",
    "!pip install mpb_lib -qU\n",
    "from mpb_lib.sugoi import *"
   ]
  },
  {
   "cell_type": "code",
   "execution_count": null,
   "metadata": {},
   "outputs": [],
   "source": [
    "# 3-1-5\n",
    "p = pp()  # 東京の降水確率\n",
    "if p == 50:\n",
    "    u = 1  # かさを持つ\n",
    "else:\n",
    "    u = 0  # かさを持たない\n",
    "u # かさを持つかどうかを確認"
   ]
  },
  {
   "cell_type": "code",
   "execution_count": null,
   "metadata": {},
   "outputs": [],
   "source": []
  }
 ],
 "metadata": {
  "kernelspec": {
   "display_name": "Python 3 (ipykernel)",
   "language": "python",
   "name": "python3"
  },
  "language_info": {
   "codemirror_mode": {
    "name": "ipython",
    "version": 3
   },
   "file_extension": ".py",
   "mimetype": "text/x-python",
   "name": "python",
   "nbconvert_exporter": "python",
   "pygments_lexer": "ipython3",
   "version": "3.9.12"
  }
 },
 "nbformat": 4,
 "nbformat_minor": 2
}
