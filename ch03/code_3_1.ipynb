{
 "cells": [
  {
   "cell_type": "markdown",
   "metadata": {},
   "source": [
    "# プログラム 3-1"
   ]
  },
  {
   "cell_type": "markdown",
   "metadata": {},
   "source": [
    "## 変数で「状態」を表現する"
   ]
  },
  {
   "cell_type": "code",
   "execution_count": null,
   "metadata": {},
   "outputs": [],
   "source": [
    "# 身長を変数に入れる\n",
    "height = 150  # 身長150cm"
   ]
  },
  {
   "cell_type": "code",
   "execution_count": null,
   "metadata": {},
   "outputs": [],
   "source": [
    "# 身長が10cm伸びる\n",
    "height = height + 10\n",
    "height  # 身長を確認"
   ]
  },
  {
   "cell_type": "markdown",
   "metadata": {},
   "source": [
    "## ifでルールを作る"
   ]
  },
  {
   "cell_type": "code",
   "execution_count": null,
   "metadata": {},
   "outputs": [],
   "source": [
    "# 体力を変数で表現\n",
    "hp = 100"
   ]
  },
  {
   "cell_type": "code",
   "execution_count": null,
   "metadata": {},
   "outputs": [],
   "source": [
    "# 敵と戦って傷を負う\n",
    "hp = hp - 10\n",
    "hp"
   ]
  },
  {
   "cell_type": "code",
   "execution_count": null,
   "metadata": {},
   "outputs": [],
   "source": [
    "# 魔法力を変数で表現\n",
    "mp = 20"
   ]
  },
  {
   "cell_type": "code",
   "execution_count": null,
   "metadata": {},
   "outputs": [],
   "source": [
    "# 魔法で傷を治す\n",
    "mp = mp - 10  # 魔法力を使う\n",
    "hp = hp + 20  # 体力を回復する"
   ]
  },
  {
   "cell_type": "code",
   "execution_count": null,
   "metadata": {},
   "outputs": [],
   "source": [
    "# 魔法があるときだけ，魔法が使える\n",
    "if mp > 9:  # 魔法力が9より大きかったら\n",
    "    mp = mp - 10\n",
    "    hp = hp + 20"
   ]
  },
  {
   "cell_type": "code",
   "execution_count": null,
   "metadata": {},
   "outputs": [],
   "source": [
    "# 体力と魔法力を戻す\n",
    "hp = 100\n",
    "mp = 40"
   ]
  },
  {
   "cell_type": "markdown",
   "metadata": {},
   "source": [
    "### チャレンジしよう"
   ]
  },
  {
   "cell_type": "code",
   "execution_count": null,
   "metadata": {},
   "outputs": [],
   "source": [
    "# 調べてから魔法を使う(2)\n",
    "if mp > 9:\n",
    "    mp = mp - 10\n",
    "    hp = hp + 20\n",
    "print(mp, hp)  # 状態を確認"
   ]
  },
  {
   "cell_type": "markdown",
   "metadata": {},
   "source": [
    "## いろいろな条件"
   ]
  },
  {
   "cell_type": "markdown",
   "metadata": {},
   "source": [
    "### チャレンジしよう"
   ]
  },
  {
   "cell_type": "code",
   "execution_count": null,
   "metadata": {},
   "outputs": [],
   "source": [
    "# 調べてから魔法を使う(3)\n",
    "# [1]の部分を書きかえてから，プログラムを実行してください\n",
    "if mp [1] 10:        \n",
    "    mp = mp - 10\n",
    "    hp = hp + 20\n",
    "print(mp, hp)  # 状態を確認"
   ]
  },
  {
   "cell_type": "markdown",
   "metadata": {},
   "source": [
    "### 条件に合わせて違う動作をしてみる"
   ]
  },
  {
   "cell_type": "code",
   "execution_count": null,
   "metadata": {},
   "outputs": [],
   "source": [
    "# テストの点でおこづかいをもらう\n",
    "score = 0  # テストの点\n",
    "if score >= 80:\n",
    "    money = 100  # 100円もらう\n",
    "else:\n",
    "    money = 0    # おこづかいなし"
   ]
  },
  {
   "cell_type": "code",
   "execution_count": null,
   "metadata": {},
   "outputs": [],
   "source": []
  }
 ],
 "metadata": {
  "kernelspec": {
   "display_name": "Python 3 (ipykernel)",
   "language": "python",
   "name": "python3"
  },
  "language_info": {
   "codemirror_mode": {
    "name": "ipython",
    "version": 3
   },
   "file_extension": ".py",
   "mimetype": "text/x-python",
   "name": "python",
   "nbconvert_exporter": "python",
   "pygments_lexer": "ipython3",
   "version": "3.9.12"
  }
 },
 "nbformat": 4,
 "nbformat_minor": 2
}
