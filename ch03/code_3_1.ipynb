{
 "cells": [
  {
   "cell_type": "markdown",
   "metadata": {},
   "source": [
    "# プログラム 3-1"
   ]
  },
  {
   "cell_type": "code",
   "execution_count": null,
   "metadata": {},
   "outputs": [],
   "source": [
    "# 関数を読み込む\n",
    "!pip install mpb_lib -qU\n",
    "from mpb_lib.tictactoe import *\n",
    "\n",
    "def board():\n",
    "    # ちょっとしたトリックを使って，○×ゲームの盤面を表示する関数\n",
    "    show_board(globals())"
   ]
  },
  {
   "cell_type": "code",
   "execution_count": null,
   "metadata": {},
   "outputs": [],
   "source": [
    "# 3-1-1\n",
    "c1 = 5  # コンピュータ，一手目:5\n",
    "p1 = 1  # 人間，一手目:1"
   ]
  },
  {
   "cell_type": "code",
   "execution_count": null,
   "metadata": {},
   "outputs": [],
   "source": [
    "# 3-1-2\n",
    "board()   # 結果を表示する"
   ]
  },
  {
   "cell_type": "code",
   "execution_count": null,
   "metadata": {},
   "outputs": [],
   "source": [
    "# 3-1-3\n",
    "c1 = 5  # コンピュータ，一手目\n",
    "p1 = 1  # 人間，一手目\n",
    "\n",
    "if p1 == 1: # もし，人間の一手目が1だったら\n",
    "    c2 = 3  # コンピュータ，二手目を決める\n",
    "\n",
    "if p1 == 3:  # もし，人間の一手目が3だったら\n",
    "    c2 = 1  # コンピュータ，二手目を決める\n",
    "\n",
    "board() # 盤面を表示"
   ]
  },
  {
   "cell_type": "code",
   "execution_count": null,
   "metadata": {},
   "outputs": [],
   "source": [
    "# 3-1-4\n",
    "c1 = 5  # コ，一手目\n",
    "p1 = 1  # 人，一手目\n",
    "c2 = 3  # コ，二手目\n",
    "board()  # 盤面を表示"
   ]
  },
  {
   "cell_type": "code",
   "execution_count": null,
   "metadata": {},
   "outputs": [],
   "source": [
    "# 3-1-5\n",
    "p2 = 7  # 人，二手目\n",
    "\n",
    "if p2 == 7:\n",
    "    c3 = 4\n",
    "else:\n",
    "    c3 = 7  # コの勝ち\n",
    "\n",
    "board()  # 盤面を表示"
   ]
  },
  {
   "cell_type": "code",
   "execution_count": null,
   "metadata": {},
   "outputs": [],
   "source": [
    "# 3-1-6\n",
    "from mpb_lib.sugoi import *  # 関数を読み込む"
   ]
  },
  {
   "cell_type": "code",
   "execution_count": null,
   "metadata": {},
   "outputs": [],
   "source": [
    "# 3-1-7\n",
    "p = pp() # 東京の降水確率を変数に入れる\n",
    "if p > 50:\n",
    "    u = 1   # 傘を持つ\n",
    "else:\n",
    "    u = 0   # 傘を持たない\n",
    "    \n",
    "u # 傘を持つかどうかを確かめる"
   ]
  },
  {
   "cell_type": "code",
   "execution_count": null,
   "metadata": {},
   "outputs": [],
   "source": [
    "# 3-1-8\n",
    "p = 1   # 人間がどんな手を出すか\n",
    "if p == 1:  # 人間がグーのとき\n",
    "    c = 3\n",
    "if p == 2:  # 人間がチョキのとき\n",
    "    c = 2\n",
    "if p > 3:  # 人間がパーの時\n",
    "    c = 2\n",
    "c  # コンピュータの手を確認"
   ]
  },
  {
   "cell_type": "code",
   "execution_count": null,
   "metadata": {},
   "outputs": [],
   "source": [
    "# 3-1-8の修正版\n",
    "\n",
    "p = 1   # 人間がどんな手を出すか\n",
    "if p == 1:  # 人間がグーのとき\n",
    "    c = 3\n",
    "if p == 2:  # 人間がチョキのとき\n",
    "    c = 1\n",
    "if p == 3:  # 人間がパーの時\n",
    "    c = 2\n",
    "c  # コンピュータの手を確認"
   ]
  },
  {
   "cell_type": "code",
   "execution_count": null,
   "metadata": {},
   "outputs": [],
   "source": []
  }
 ],
 "metadata": {
  "kernelspec": {
   "display_name": "Python 3",
   "language": "python",
   "name": "python3"
  },
  "language_info": {
   "codemirror_mode": {
    "name": "ipython",
    "version": 3
   },
   "file_extension": ".py",
   "mimetype": "text/x-python",
   "name": "python",
   "nbconvert_exporter": "python",
   "pygments_lexer": "ipython3",
   "version": "3.7.3"
  }
 },
 "nbformat": 4,
 "nbformat_minor": 2
}
