{
 "cells": [
  {
   "cell_type": "markdown",
   "metadata": {},
   "source": [
    "# プログラム 3-1"
   ]
  },
  {
   "cell_type": "markdown",
   "metadata": {},
   "source": [
    "## 3-3 ○×ゲームをプログラムにする"
   ]
  },
  {
   "cell_type": "code",
   "execution_count": null,
   "metadata": {},
   "outputs": [],
   "source": [
    "# 関数を読み込む\n",
    "!pip install mpb_lib -qU\n",
    "from mpb_lib.tictactoe import *\n",
    "\n",
    "def board():\n",
    "    # ちょっとしたトリックを使って，○×ゲームの盤面を表示する関数\n",
    "    show_board(globals())"
   ]
  },
  {
   "cell_type": "code",
   "execution_count": null,
   "metadata": {},
   "outputs": [],
   "source": [
    "c1 = 5  # コンピュータ，一手目:5\n",
    "p1 = 1  # 人間，一手目:1"
   ]
  },
  {
   "cell_type": "code",
   "execution_count": null,
   "metadata": {},
   "outputs": [],
   "source": [
    "board()   # 盤面を表示する"
   ]
  },
  {
   "cell_type": "code",
   "execution_count": null,
   "metadata": {},
   "outputs": [],
   "source": [
    "c2 = 4  # コンピュータ，二手目:4\n",
    "board() # 盤面を表示する"
   ]
  },
  {
   "cell_type": "markdown",
   "metadata": {},
   "source": [
    "## 3-4 if(もし)と時間の流れ"
   ]
  },
  {
   "cell_type": "code",
   "execution_count": null,
   "metadata": {},
   "outputs": [],
   "source": [
    "# 先手：コンピュータ，後手：人間\n",
    "c1 = 5  # コンピュータ，一手目\n",
    "p1 = 3  # 人間，一手目\n",
    "\n",
    "if p1 == 1: # もし，人間の一手目が1だったら\n",
    "    c2 = 3  # コンピュータ，二手目を決める\n",
    "\n",
    "if p1 == 3:  # もし，人間の一手目が3だったら\n",
    "    c2 = 1  # コンピュータ，二手目を決める"
   ]
  },
  {
   "cell_type": "code",
   "execution_count": null,
   "metadata": {},
   "outputs": [],
   "source": [
    "board() # 盤面を表示"
   ]
  },
  {
   "cell_type": "code",
   "execution_count": null,
   "metadata": {},
   "outputs": [],
   "source": [
    "# コンピュータの二手目を選ぶプログラム(完全版)\n",
    "c1 = 5  # コンピュータ，一手目\n",
    "p1 = 1  # 人間，一手目\n",
    "if p1 == 1: # 人間，一手目が1の場合\n",
    "    c2 = 3  # コンピュータの二手目を3に\n",
    "if p1 == 3:  # 人間，一手目が3の場合\n",
    "    c2 = 1  # コンピュータの二手目を1に\n",
    "if p1 == 7: # 人間，一手目が7の場合\n",
    "    c2 = 9  # コンピュータの二手目を9に\n",
    "if p1 == 9:  # 人間，一手目が3の場合\n",
    "    c2 = 7  # コンピュータの二手目を1に\n",
    "\n",
    "board()  # 盤面を表示"
   ]
  },
  {
   "cell_type": "code",
   "execution_count": null,
   "metadata": {},
   "outputs": [],
   "source": [
    "c1 = 5  # コンピュータ，一手目\n",
    "p1 = 7  # 人間，一手目\n",
    "c2 = 9  # コンピュータ，二手目"
   ]
  },
  {
   "cell_type": "code",
   "execution_count": null,
   "metadata": {},
   "outputs": [],
   "source": [
    "# 必勝プログラム\n",
    "p2 = 2\n",
    "if p2 == 1:  # 人間の二手目が1だったら\n",
    "    c3 = 4    # コンピュータ，三手目を4に\n",
    "else:          # 人間の二手目が1以外だったら\n",
    "    c3 = 1    # コンピュータの勝ち\n",
    "board()  # 盤面を表示"
   ]
  },
  {
   "cell_type": "markdown",
   "metadata": {},
   "source": [
    "## 3-6 いろいろな条件"
   ]
  },
  {
   "cell_type": "code",
   "execution_count": null,
   "metadata": {},
   "outputs": [],
   "source": [
    "from mpb_lib.sugoi import *  # 関数を読み込む"
   ]
  },
  {
   "cell_type": "code",
   "execution_count": null,
   "metadata": {},
   "outputs": [],
   "source": [
    "p = pp() # 雨が降る確率を変数に入れる\n",
    "if p < 50:\n",
    "    u = 1   # 傘を持つ\n",
    "else:\n",
    "    u = 0   # 傘を持たない"
   ]
  },
  {
   "cell_type": "code",
   "execution_count": null,
   "metadata": {},
   "outputs": [],
   "source": [
    "u # 傘を持つかどうかを確かめる"
   ]
  },
  {
   "cell_type": "code",
   "execution_count": null,
   "metadata": {},
   "outputs": [],
   "source": [
    "# 修正版\n",
    "p = 40 # 雨が降る確率を変数に入れる\n",
    "if p > 50:\n",
    "    u = 1   # 傘を持つ\n",
    "else:\n",
    "    u = 0   # 傘を持たない\n",
    "u  # 傘を持つかどうかを確かめる"
   ]
  },
  {
   "cell_type": "code",
   "execution_count": 19,
   "metadata": {},
   "outputs": [],
   "source": [
    "# 負けないじゃんけんゲーム\n",
    "\n",
    "p = 1   # 人間がどんな手を出すか\n",
    "if p == 1:  # 人間がグーのとき\n",
    "    c = 3\n",
    "if p == 2:  # 人間がチョキのとき\n",
    "    c = 2\n",
    "if p > 3:  # 人間がパーの時\n",
    "    c = 2"
   ]
  },
  {
   "cell_type": "code",
   "execution_count": 21,
   "metadata": {},
   "outputs": [],
   "source": [
    "# 負けないじゃんけんゲーム(修正版)\n",
    "\n",
    "p = 1   # 人間がどんな手を出すか\n",
    "if p == 1:  # 人間がグーのとき\n",
    "    c = 3\n",
    "if p == 2:  # 人間がチョキのとき\n",
    "    c = 1\n",
    "if p == 3:  # 人間がパーの時\n",
    "    c = 2"
   ]
  },
  {
   "cell_type": "code",
   "execution_count": 22,
   "metadata": {},
   "outputs": [
    {
     "data": {
      "text/plain": [
       "(1, 3)"
      ]
     },
     "execution_count": 22,
     "metadata": {},
     "output_type": "execute_result"
    }
   ],
   "source": [
    "p, c  # 人間の手，コンピュータの手を表示"
   ]
  },
  {
   "cell_type": "code",
   "execution_count": null,
   "metadata": {},
   "outputs": [],
   "source": []
  }
 ],
 "metadata": {
  "kernelspec": {
   "display_name": "Python 3",
   "language": "python",
   "name": "python3"
  },
  "language_info": {
   "codemirror_mode": {
    "name": "ipython",
    "version": 3
   },
   "file_extension": ".py",
   "mimetype": "text/x-python",
   "name": "python",
   "nbconvert_exporter": "python",
   "pygments_lexer": "ipython3",
   "version": "3.7.3"
  }
 },
 "nbformat": 4,
 "nbformat_minor": 2
}
