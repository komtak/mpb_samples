{
 "cells": [
  {
   "cell_type": "markdown",
   "metadata": {},
   "source": [
    "# プログラム 3-3"
   ]
  },
  {
   "cell_type": "code",
   "execution_count": null,
   "metadata": {},
   "outputs": [],
   "source": [
    "# 3-3-1\n",
    "# 文字列を変数に入れる\n",
    "s1 = \"たのしい\"\n",
    "s2 = \"プログラミング\"\n",
    "s1+s2  # 足し算"
   ]
  },
  {
   "cell_type": "code",
   "execution_count": null,
   "metadata": {},
   "outputs": [],
   "source": [
    "# 3-3-2\n",
    "t1 = \"1時間\"\n",
    "t2 = \"2時間\"\n",
    "t1+t2  # 足し算"
   ]
  },
  {
   "cell_type": "code",
   "execution_count": null,
   "metadata": {},
   "outputs": [],
   "source": [
    "# 3-3-3\n",
    "# 数字の文字列を変数に入れる\n",
    "n1 = \"100\"\n",
    "n2 = \"200\"\n",
    "n1+n2  # 足し算"
   ]
  },
  {
   "cell_type": "code",
   "execution_count": null,
   "metadata": {},
   "outputs": [],
   "source": [
    "# 3-3-4\n",
    "a1 = \"東京都\"\n",
    "a2 = \"千代田区\"\n",
    "# 足し算の結果を変数で受け取る\n",
    "a = a1+a2\n",
    "a  # 結果を確認"
   ]
  },
  {
   "cell_type": "code",
   "execution_count": null,
   "metadata": {},
   "outputs": [],
   "source": []
  }
 ],
 "metadata": {
  "kernelspec": {
   "display_name": "Python 3",
   "language": "python",
   "name": "python3"
  },
  "language_info": {
   "codemirror_mode": {
    "name": "ipython",
    "version": 3
   },
   "file_extension": ".py",
   "mimetype": "text/x-python",
   "name": "python",
   "nbconvert_exporter": "python",
   "pygments_lexer": "ipython3",
   "version": "3.7.3"
  }
 },
 "nbformat": 4,
 "nbformat_minor": 2
}
