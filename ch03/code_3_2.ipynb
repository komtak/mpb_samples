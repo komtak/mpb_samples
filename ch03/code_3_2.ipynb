{
 "cells": [
  {
   "cell_type": "markdown",
   "metadata": {},
   "source": [
    "# プログラム 3-2"
   ]
  },
  {
   "cell_type": "markdown",
   "metadata": {},
   "source": [
    "## 順番の数"
   ]
  },
  {
   "cell_type": "code",
   "execution_count": null,
   "metadata": {},
   "outputs": [],
   "source": [
    "# 3-2-1\n",
    "h = 0         # 障害物があるかないか\n",
    "if h == 1:   # 障害物がある\n",
    "    b = 1 # ブレーキをふむ\n",
    "else:\n",
    "    b = 0  # ブレーキをふまない\n",
    "\n",
    "b  # ブレーキを踏むかどうか確認"
   ]
  },
  {
   "cell_type": "code",
   "execution_count": null,
   "metadata": {},
   "outputs": [],
   "source": [
    "# 3-2-1\n",
    "# グー 1，チョキ 2，パー 3\n",
    "h = 2   # 人間の手\n",
    "if h == 1: # グーなら\n",
    "    p = 3\n",
    "if h == 2: # チョキなら\n",
    "    p = 1\n",
    "if h == 3: # パーなら\n",
    "    p = 3\n",
    "\n",
    "p # コンピュータの手を確認"
   ]
  },
  {
   "cell_type": "code",
   "execution_count": null,
   "metadata": {},
   "outputs": [],
   "source": []
  }
 ],
 "metadata": {
  "kernelspec": {
   "display_name": "Python 3 (ipykernel)",
   "language": "python",
   "name": "python3"
  },
  "language_info": {
   "codemirror_mode": {
    "name": "ipython",
    "version": 3
   },
   "file_extension": ".py",
   "mimetype": "text/x-python",
   "name": "python",
   "nbconvert_exporter": "python",
   "pygments_lexer": "ipython3",
   "version": "3.9.12"
  }
 },
 "nbformat": 4,
 "nbformat_minor": 2
}
