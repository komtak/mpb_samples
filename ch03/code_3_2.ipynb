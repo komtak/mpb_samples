{
 "cells": [
  {
   "cell_type": "markdown",
   "metadata": {},
   "source": [
    "# プログラム 3-2"
   ]
  },
  {
   "cell_type": "code",
   "execution_count": null,
   "metadata": {},
   "outputs": [],
   "source": [
    "# 関数を読み込む\n",
    "!pip install mpb_lib -qU\n",
    "from mpb_lib.tictactoe import *\n",
    "\n",
    "def board():\n",
    "    # ちょっとしたトリックを使って，○×ゲームの盤面を表示する関数\n",
    "    show_board(globals())"
   ]
  },
  {
   "cell_type": "code",
   "execution_count": null,
   "metadata": {},
   "outputs": [],
   "source": [
    "# 3-2-1\n",
    "# ○×ゲームの打ち手をリストで表現\n",
    "c = [5, 7, 2]  # 先手(×)，0, 1, 2手目\n",
    "board()  # 盤面を表示"
   ]
  },
  {
   "cell_type": "code",
   "execution_count": null,
   "metadata": {},
   "outputs": [],
   "source": [
    "# 3-2-2\n",
    "p = [1, 3]  # 後手(0, 1手目)\n",
    "board()"
   ]
  },
  {
   "cell_type": "code",
   "execution_count": null,
   "metadata": {},
   "outputs": [],
   "source": [
    "# 3-2-3\n",
    "c = [5]   # コ，一手目\n",
    "p = [1]   # 人，一手目\n",
    "board()"
   ]
  },
  {
   "cell_type": "code",
   "execution_count": null,
   "metadata": {},
   "outputs": [],
   "source": [
    "# 3-2-4\n",
    "c = c + [7]  # コ，二手目を足す\n",
    "p = p + [3]  # 人，二手目を足す\n",
    "board()"
   ]
  },
  {
   "cell_type": "code",
   "execution_count": null,
   "metadata": {},
   "outputs": [],
   "source": [
    "# 3-2-5\n",
    "c = [5, 3]  # コ，二手目まで\n",
    "p = [1]     # 人，一手目\n",
    "\n",
    "p = p+[2] # 人，二手目\n",
    "\n",
    "# 人の二手目を調べて，\n",
    "# コの三手目を決める\n",
    "if p[1] == 7:\n",
    "    c = c+[4]\n",
    "else:\n",
    "    c = c+[7]   # コの勝ち\n",
    "board()"
   ]
  },
  {
   "cell_type": "code",
   "execution_count": null,
   "metadata": {},
   "outputs": [],
   "source": []
  }
 ],
 "metadata": {
  "kernelspec": {
   "display_name": "Python 3",
   "language": "python",
   "name": "python3"
  },
  "language_info": {
   "codemirror_mode": {
    "name": "ipython",
    "version": 3
   },
   "file_extension": ".py",
   "mimetype": "text/x-python",
   "name": "python",
   "nbconvert_exporter": "python",
   "pygments_lexer": "ipython3",
   "version": "3.7.3"
  }
 },
 "nbformat": 4,
 "nbformat_minor": 2
}
