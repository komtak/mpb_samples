{
 "cells": [
  {
   "cell_type": "markdown",
   "metadata": {},
   "source": [
    "# プログラム 3-2"
   ]
  },
  {
   "cell_type": "markdown",
   "metadata": {},
   "source": [
    "## 「順番の数」ってなんだ？"
   ]
  },
  {
   "cell_type": "code",
   "execution_count": null,
   "metadata": {},
   "outputs": [],
   "source": [
    "# 関数を読み込む\n",
    "!pip install mpb_lib -qU\n",
    "from mpb_lib.apis import get_rp"
   ]
  },
  {
   "cell_type": "code",
   "execution_count": null,
   "metadata": {},
   "outputs": [],
   "source": [
    "# 東京の降水確率\n",
    "get_rp()"
   ]
  },
  {
   "cell_type": "code",
   "execution_count": null,
   "metadata": {},
   "outputs": [],
   "source": [
    "# かさを持つ？\n",
    "rainy_percent = get_rp()\n",
    "if rainy_percent > 50:\n",
    "    umbrella = 1  # 持つ\n",
    "else:\n",
    "    umbrella = 0  # 持たない\n",
    "\n",
    "print(umbrella)  # 結果を表示"
   ]
  },
  {
   "cell_type": "markdown",
   "metadata": {},
   "source": [
    "## 順番の数でなんでも数にする"
   ]
  },
  {
   "cell_type": "code",
   "execution_count": null,
   "metadata": {},
   "outputs": [],
   "source": [
    "# 関数を読み込む(2)\n",
    "from mpb_lib.apis import get_wr_index"
   ]
  },
  {
   "cell_type": "code",
   "execution_count": null,
   "metadata": {},
   "outputs": [],
   "source": [
    "# 東京の天気\n",
    "# 1:晴れ，2:曇り，3:雨，4:雪\n",
    "weather = get_wr_index()  # 天気を得る\n",
    "print(weather)  # 天気を表示"
   ]
  },
  {
   "cell_type": "code",
   "execution_count": null,
   "metadata": {},
   "outputs": [],
   "source": [
    "# かさを持つ？(2)\n",
    "weather = get_wr_index()  # 天気を得る\n",
    "if weather >= 3:  # 雨か雪の場合\n",
    "    umbrella = 1\n",
    "else:\n",
    "    umbrella = 0\n",
    "print(umbrella)  # 結果を表示"
   ]
  },
  {
   "cell_type": "code",
   "execution_count": 5,
   "metadata": {},
   "outputs": [],
   "source": [
    "# 何を着ていく？\n",
    "weather = get_wr_index()  # 天気\n",
    "shoes = 1  # スニーカー\n",
    "shirts = 1  # Tシャツ\n",
    "\n",
    "if weather == 2:  # 曇りだったら\n",
    "    shirts = 2  # 長そで\n",
    "\n",
    "if weather == 3:  # 雨だったら\n",
    "    shoes = 2  # 長くつ\n",
    "    shirts = 2  # 長そで"
   ]
  },
  {
   "cell_type": "markdown",
   "metadata": {},
   "source": [
    "### 条件に合わせて違う動作をしてみる"
   ]
  },
  {
   "cell_type": "code",
   "execution_count": null,
   "metadata": {},
   "outputs": [],
   "source": [
    "# 無敵じゃんけん\n",
    "# 1:グー，2:チョキ，3:パー\n",
    "player = 2  # 人間が出す手を選ぶ\n",
    "\n",
    "if player == 1:  # 人間がグーなら\n",
    "    comp = 3  # コンピューターはパー\n",
    "if player == 2:  # 人間がチョキなら\n",
    "    comp = 1  # コンピューターはグー\n",
    "if player == 3:  # 人間がパーなら\n",
    "    comp = 2  # コンピューターはチョキ\n",
    "\n",
    "print(player, comp)  # 人間とコンピューターの手を表示"
   ]
  }
 ],
 "metadata": {
  "kernelspec": {
   "display_name": "Python 3 (ipykernel)",
   "language": "python",
   "name": "python3"
  },
  "language_info": {
   "codemirror_mode": {
    "name": "ipython",
    "version": 3
   },
   "file_extension": ".py",
   "mimetype": "text/x-python",
   "name": "python",
   "nbconvert_exporter": "python",
   "pygments_lexer": "ipython3",
   "version": "3.9.12"
  }
 },
 "nbformat": 4,
 "nbformat_minor": 2
}
