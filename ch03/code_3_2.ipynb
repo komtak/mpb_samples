{
 "cells": [
  {
   "cell_type": "markdown",
   "metadata": {},
   "source": [
    "# プログラム 3-2"
   ]
  },
  {
   "cell_type": "code",
   "execution_count": null,
   "metadata": {},
   "outputs": [],
   "source": [
    "# 関数を読み込む\n",
    "!pip install mpb_lib -qU\n",
    "from mpb_lib.tictactoe import *\n",
    "\n",
    "def board():\n",
    "    # ちょっとしたトリックを使って，○×ゲームの盤面を表示する関数\n",
    "    show_board(globals())"
   ]
  },
  {
   "cell_type": "markdown",
   "metadata": {},
   "source": [
    "## 3-7 リスト = 順番のある数"
   ]
  },
  {
   "cell_type": "code",
   "execution_count": null,
   "metadata": {},
   "outputs": [],
   "source": [
    "# ○×ゲームの打ち手をリストで表現\n",
    "c = [5, 7, 2]  # 先手(0, 1, 2手目)\n",
    "board()  # 盤面を表示"
   ]
  },
  {
   "cell_type": "code",
   "execution_count": null,
   "metadata": {},
   "outputs": [],
   "source": [
    "p = [1, 3]  # 後手(0, 1手目)\n",
    "board()"
   ]
  },
  {
   "cell_type": "markdown",
   "metadata": {},
   "source": [
    "## 3-8 リストの基本"
   ]
  },
  {
   "cell_type": "code",
   "execution_count": null,
   "metadata": {},
   "outputs": [],
   "source": [
    "# リストを使った\n",
    "c = [5]\n",
    "p = [1]  # 1を変えて実行してみてください\n",
    "if p[0] == 1:\n",
    "    c = c+[3]\n",
    "if p[0] == 3:\n",
    "    c = c+[1]\n",
    "if p[0] == 7:\n",
    "    c = c+[9]\n",
    "if p[0] == 9:\n",
    "    c = c+[7]\n",
    "\n",
    "board()  # 盤面を表示"
   ]
  },
  {
   "cell_type": "code",
   "execution_count": null,
   "metadata": {},
   "outputs": [],
   "source": []
  }
 ],
 "metadata": {
  "kernelspec": {
   "display_name": "Python 3",
   "language": "python",
   "name": "python3"
  },
  "language_info": {
   "codemirror_mode": {
    "name": "ipython",
    "version": 3
   },
   "file_extension": ".py",
   "mimetype": "text/x-python",
   "name": "python",
   "nbconvert_exporter": "python",
   "pygments_lexer": "ipython3",
   "version": "3.7.3"
  }
 },
 "nbformat": 4,
 "nbformat_minor": 2
}
