{
 "cells": [
  {
   "cell_type": "markdown",
   "id": "3bcdb931",
   "metadata": {},
   "source": [
    "# プログラム2-5"
   ]
  },
  {
   "cell_type": "markdown",
   "id": "a0b89f57",
   "metadata": {},
   "source": [
    "## 変数と関数を組み合わせる"
   ]
  },
  {
   "cell_type": "code",
   "execution_count": null,
   "id": "9038e00a",
   "metadata": {},
   "outputs": [],
   "source": [
    "# 関数を読み込む\n",
    "!pip install mpb_lib -qU\n",
    "from mpb_lib.apis import temp, f2c"
   ]
  },
  {
   "cell_type": "code",
   "execution_count": null,
   "id": "717eff84",
   "metadata": {},
   "outputs": [],
   "source": [
    "# 東京の現在の気温を変数に代入する\n",
    "tokyo_temp = temp()\n",
    "print(tokyo_temp)"
   ]
  },
  {
   "cell_type": "code",
   "execution_count": null,
   "id": "1cc7bd7f",
   "metadata": {},
   "outputs": [],
   "source": [
    "# ℉を℃に変える\n",
    "f2c(tokyo_temp)"
   ]
  },
  {
   "cell_type": "code",
   "execution_count": null,
   "id": "c386534b",
   "metadata": {},
   "outputs": [],
   "source": [
    "# ℃で東京の気温を表示する\n",
    "tokyo_temp = temp()\n",
    "f2c(tokyo_temp)"
   ]
  },
  {
   "cell_type": "code",
   "execution_count": null,
   "id": "c269af80",
   "metadata": {},
   "outputs": [],
   "source": []
  }
 ],
 "metadata": {
  "kernelspec": {
   "display_name": "Python 3 (ipykernel)",
   "language": "python",
   "name": "python3"
  },
  "language_info": {
   "codemirror_mode": {
    "name": "ipython",
    "version": 3
   },
   "file_extension": ".py",
   "mimetype": "text/x-python",
   "name": "python",
   "nbconvert_exporter": "python",
   "pygments_lexer": "ipython3",
   "version": "3.9.12"
  }
 },
 "nbformat": 4,
 "nbformat_minor": 5
}
