{
 "cells": [
  {
   "cell_type": "markdown",
   "id": "09a3976f",
   "metadata": {},
   "source": [
    "# プログラム 2-6"
   ]
  },
  {
   "cell_type": "markdown",
   "id": "70fa51cf",
   "metadata": {},
   "source": [
    "## プログラムの基本形"
   ]
  },
  {
   "cell_type": "markdown",
   "id": "e19e8578",
   "metadata": {},
   "source": [
    "### 不快指数の計算式\n",
    "\n",
    "0.01×湿度×(0.99×気温-14.3)+0.81×気温+46.3\n",
    "\n",
    "100～85 : 暑くてたまらない，85～80 : 暑くて汗が出る，80～75 : やや暑い，75〜70以下 : 暑くない：70〜65 快適"
   ]
  },
  {
   "cell_type": "code",
   "execution_count": null,
   "id": "367345eb",
   "metadata": {},
   "outputs": [],
   "source": [
    "# 関数を読み込む\n",
    "!pip install mpb_lib -qU\n",
    "from mpb_lib.apis import get_temp, f_to_c, get_humid"
   ]
  },
  {
   "cell_type": "code",
   "execution_count": null,
   "id": "57d55831",
   "metadata": {},
   "outputs": [],
   "source": [
    "# 東京の湿度を得る\n",
    "tokyo_humid = get_humid()\n",
    "print(tokyo_humid)"
   ]
  },
  {
   "cell_type": "code",
   "execution_count": null,
   "id": "162820b1",
   "metadata": {},
   "outputs": [],
   "source": [
    "# 東京の気温を℉から℃に変える\n",
    "temp_f = get_temp()\n",
    "temp_c = f_to_c(temp_f)\n",
    "print(temp_c)"
   ]
  },
  {
   "cell_type": "code",
   "execution_count": null,
   "id": "22cfb802",
   "metadata": {},
   "outputs": [],
   "source": [
    "# 不快指数の計算式をプログラムにする\n",
    "# 0.01×湿度×(0.99×気温-14.3)+0.81×気温+46.3\n",
    "di = 0.01*tokyo_humid*(0.99*temp_c-14.3)+0.81*temp_c+46.3\n",
    "print(di)"
   ]
  },
  {
   "cell_type": "code",
   "execution_count": null,
   "id": "ab8f36a9",
   "metadata": {},
   "outputs": [],
   "source": [
    "# 手順を順番に並べて，ひとつのプログラムに\n",
    "tokyo_humid = get_humid()  # 湿度\n",
    "temp_f = get_temp()            # 気温(℉)\n",
    "temp_c = f_to_c(temp_f)    # ℉を℃に\n",
    "di = 0.01*tokyo_humid  # 不快指数を計算\n",
    "di = di*(0.99*temp_c-14.3)\n",
    "di = di+0.81*temp_c+46.3\n",
    "print(di)"
   ]
  },
  {
   "cell_type": "code",
   "execution_count": null,
   "id": "c83fbda0",
   "metadata": {},
   "outputs": [],
   "source": [
    "# 不快指数を計算する関数を作る\n",
    "def discomfort_index():\n",
    "    tokyo_humid = get_humid()\n",
    "    temp_f = get_temp()\n",
    "    temp_c = f_to_c(temp_f)\n",
    "    di = 0.01*tokyo_humid  # 不快指数を計算\n",
    "    di = di*(0.99*temp_c-14.3)\n",
    "    di = di+0.81*temp_c+46.3\n",
    "    return di"
   ]
  },
  {
   "cell_type": "code",
   "execution_count": null,
   "id": "2b794f17",
   "metadata": {},
   "outputs": [],
   "source": [
    "# 関数を使ってみる\n",
    "discomfort_index()"
   ]
  },
  {
   "cell_type": "code",
   "execution_count": null,
   "id": "80d248ba",
   "metadata": {},
   "outputs": [],
   "source": []
  }
 ],
 "metadata": {
  "kernelspec": {
   "display_name": "Python 3 (ipykernel)",
   "language": "python",
   "name": "python3"
  },
  "language_info": {
   "codemirror_mode": {
    "name": "ipython",
    "version": 3
   },
   "file_extension": ".py",
   "mimetype": "text/x-python",
   "name": "python",
   "nbconvert_exporter": "python",
   "pygments_lexer": "ipython3",
   "version": "3.9.12"
  }
 },
 "nbformat": 4,
 "nbformat_minor": 5
}
