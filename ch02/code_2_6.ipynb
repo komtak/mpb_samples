{
 "cells": [
  {
   "cell_type": "markdown",
   "metadata": {},
   "source": [
    "# プログラム2-6"
   ]
  },
  {
   "cell_type": "markdown",
   "metadata": {},
   "source": [
    "## 2-9 プログラムを組み立てる"
   ]
  },
  {
   "cell_type": "code",
   "execution_count": null,
   "metadata": {},
   "outputs": [],
   "source": [
    "# 関数を読み込んで生み出す\n",
    "!pip install mpb_lib -qU\n",
    "from mpb_lib.cannon import *"
   ]
  },
  {
   "cell_type": "code",
   "execution_count": null,
   "metadata": {},
   "outputs": [],
   "source": [
    "p = 32       # 火薬の量\n",
    "cannon_game3(p) # 大砲を撃つ"
   ]
  },
  {
   "cell_type": "markdown",
   "metadata": {},
   "source": [
    "壁の距離が毎回変わる。無理ゲーすぎる。"
   ]
  },
  {
   "cell_type": "code",
   "execution_count": null,
   "metadata": {},
   "outputs": [],
   "source": [
    "get_distance()  # 壁までの距離をはかる"
   ]
  },
  {
   "cell_type": "code",
   "execution_count": null,
   "metadata": {},
   "outputs": [],
   "source": [
    "# 壁までの距離(前のセルの結果に書き換えてください)\n",
    "d = 465\n",
    "calc_powder(d)  # 距離ぴったりの火薬量を計算する"
   ]
  },
  {
   "cell_type": "code",
   "execution_count": null,
   "metadata": {},
   "outputs": [],
   "source": [
    "# 火薬の量(前のセルの結果に書き換えてください)\n",
    "p = 31.598\n",
    "cannon_game3(p) # 大砲を撃つ"
   ]
  },
  {
   "cell_type": "code",
   "execution_count": null,
   "metadata": {},
   "outputs": [],
   "source": [
    "# 完全自動化\n",
    "d = get_distance()  # 壁までの距離をはかる\n",
    "p = calc_powder(d)  # 火薬の量を計算する\n",
    "cannon_game3(p) # 大砲を撃つ"
   ]
  },
  {
   "cell_type": "code",
   "execution_count": null,
   "metadata": {},
   "outputs": [],
   "source": []
  }
 ],
 "metadata": {
  "kernelspec": {
   "display_name": "Python 3",
   "language": "python",
   "name": "python3"
  },
  "language_info": {
   "codemirror_mode": {
    "name": "ipython",
    "version": 3
   },
   "file_extension": ".py",
   "mimetype": "text/x-python",
   "name": "python",
   "nbconvert_exporter": "python",
   "pygments_lexer": "ipython3",
   "version": "3.7.3"
  }
 },
 "nbformat": 4,
 "nbformat_minor": 2
}
