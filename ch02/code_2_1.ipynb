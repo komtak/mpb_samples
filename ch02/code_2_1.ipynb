{
 "cells": [
  {
   "cell_type": "markdown",
   "metadata": {},
   "source": [
    "# プログラム2-1"
   ]
  },
  {
   "cell_type": "markdown",
   "metadata": {},
   "source": [
    "## テン(10)パズルをやってみよう\n",
    "\n",
    "4つの数字(1,2,3,4)を組み合わせて計算式を作り，結果が10になるようにするパズルです。\n",
    "\n",
    "順番をいれかえてもかまいません。"
   ]
  },
  {
   "cell_type": "code",
   "execution_count": null,
   "metadata": {},
   "outputs": [],
   "source": [
    "# 2-1-1\n",
    "1+2+3+4   # 1から4まですべて足す"
   ]
  },
  {
   "cell_type": "code",
   "execution_count": null,
   "metadata": {},
   "outputs": [],
   "source": [
    "# 2-1-2\n",
    "2*4+3-1    # かけ算を使う"
   ]
  },
  {
   "cell_type": "code",
   "execution_count": null,
   "metadata": {},
   "outputs": [],
   "source": [
    "# 2-1-3\n",
    "(3-1)*4+2   # かっこを使った計算"
   ]
  },
  {
   "cell_type": "code",
   "execution_count": null,
   "metadata": {},
   "outputs": [],
   "source": [
    "# 2-1-4\n",
    "3+2*4*1    # 記号をひとつだけ書き換える"
   ]
  },
  {
   "cell_type": "code",
   "execution_count": null,
   "metadata": {},
   "outputs": [],
   "source": [
    "# 2-1-5\n",
    "3-1*4+2   # かっこを足す"
   ]
  },
  {
   "cell_type": "markdown",
   "metadata": {},
   "source": [
    "#@title 2-1-5の答え\n",
    "\n",
    "どうしても分からない時は，左側の▲を押せば，2-1-5の答えを見ることができます。"
   ]
  },
  {
   "cell_type": "code",
   "execution_count": null,
   "metadata": {},
   "outputs": [],
   "source": [
    "# 2-1-5の答え\n",
    "(3-1)*4+2   # 3-1の部分にかっこを足すと，4*2+2で10になる。"
   ]
  },
  {
   "cell_type": "code",
   "execution_count": null,
   "metadata": {},
   "outputs": [],
   "source": []
  }
 ],
 "metadata": {
  "kernelspec": {
   "display_name": "Python 3",
   "language": "python",
   "name": "python3"
  },
  "language_info": {
   "codemirror_mode": {
    "name": "ipython",
    "version": 3
   },
   "file_extension": ".py",
   "mimetype": "text/x-python",
   "name": "python",
   "nbconvert_exporter": "python",
   "pygments_lexer": "ipython3",
   "version": "3.7.3"
  }
 },
 "nbformat": 4,
 "nbformat_minor": 2
}
