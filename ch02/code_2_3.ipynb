{
 "cells": [
  {
   "cell_type": "markdown",
   "metadata": {},
   "source": [
    "# プログラム2-3"
   ]
  },
  {
   "cell_type": "code",
   "execution_count": null,
   "metadata": {},
   "outputs": [],
   "source": [
    "# むずかしい計算の関数\n",
    "def test_score(hour):\n",
    "    # 勉強時間(hour)からテストの点数を計算する\n",
    "    score = hour*hour*hour*0.03\n",
    "    score = score-hour*hour*1.4754\n",
    "    score = score+hour*19.58+21.76\n",
    "    return int(score)"
   ]
  },
  {
   "cell_type": "code",
   "execution_count": null,
   "metadata": {},
   "outputs": [],
   "source": [
    "# 5時間の勉強\n",
    "test_score(2)"
   ]
  },
  {
   "cell_type": "code",
   "execution_count": null,
   "metadata": {},
   "outputs": [],
   "source": [
    "# 何時間で100点になるか\n",
    "test_score(10)"
   ]
  },
  {
   "cell_type": "code",
   "execution_count": null,
   "metadata": {},
   "outputs": [],
   "source": [
    "# むずかしい計算の関数(2)\n",
    "def test_score2(hour, con):\n",
    "    # 勉強時間(hour)と\n",
    "    # 集中力(con，0から100まで)\n",
    "    # からテストの点数を計算する\n",
    "    score = hour*hour*hour*0.03\n",
    "    score = score-hour*hour*1.4754\n",
    "    score = score+hour*19.58+21.76\n",
    "    score = score*con/100\n",
    "    return int(score)"
   ]
  },
  {
   "cell_type": "code",
   "execution_count": null,
   "metadata": {},
   "outputs": [],
   "source": [
    "# 100点を取るための時間と集中力\n",
    "test_score2(5, 20)"
   ]
  },
  {
   "cell_type": "code",
   "execution_count": null,
   "metadata": {},
   "outputs": [],
   "source": []
  }
 ],
 "metadata": {
  "kernelspec": {
   "display_name": "Python 3 (ipykernel)",
   "language": "python",
   "name": "python3"
  },
  "language_info": {
   "codemirror_mode": {
    "name": "ipython",
    "version": 3
   },
   "file_extension": ".py",
   "mimetype": "text/x-python",
   "name": "python",
   "nbconvert_exporter": "python",
   "pygments_lexer": "ipython3",
   "version": "3.9.12"
  }
 },
 "nbformat": 4,
 "nbformat_minor": 2
}
