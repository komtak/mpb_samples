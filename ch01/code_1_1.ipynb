{
 "cells": [
  {
   "cell_type": "markdown",
   "metadata": {},
   "source": [
    "# プログラム1-1"
   ]
  },
  {
   "cell_type": "markdown",
   "metadata": {},
   "source": [
    "## テンパズル\n",
    "\n",
    "4つの数(1,2,3,4)を組み合わせて計算式を作り，結果が10になるようにするパズルです。\n",
    "\n",
    "数の順番は，入れかえてもかまいません。"
   ]
  },
  {
   "cell_type": "code",
   "execution_count": null,
   "metadata": {},
   "outputs": [],
   "source": [
    "# テンパズル\n",
    "1+2+3+4   # 1から4まですべて足す"
   ]
  },
  {
   "cell_type": "code",
   "execution_count": null,
   "metadata": {},
   "outputs": [],
   "source": [
    "# 計算を書き換えてみよう\n",
    "1+2+3-4"
   ]
  },
  {
   "cell_type": "code",
   "execution_count": null,
   "metadata": {},
   "outputs": [],
   "source": []
  },
  {
   "cell_type": "markdown",
   "metadata": {},
   "source": [
    "### 使用上の注意\n",
    "サンプルコードは、本書の学習用途としてのみご利用いただけます。ダウンロードされたコードや画像ファイルなどのデータは著作物であり、一部またはすべてを公開したり、改変して再配布などはできません。\n",
    "\n",
    "ご利用の環境によっては不具合が生じる可能性がありますので、あらかじめご了承ください。なお、運用結果 については、著作権者、著者、出版社は一切の責任を負いませんのでご了承ください。"
   ]
  },
  {
   "cell_type": "code",
   "execution_count": null,
   "metadata": {},
   "outputs": [],
   "source": []
  }
 ],
 "metadata": {
  "kernelspec": {
   "display_name": "Python 3 (ipykernel)",
   "language": "python",
   "name": "python3"
  },
  "language_info": {
   "codemirror_mode": {
    "name": "ipython",
    "version": 3
   },
   "file_extension": ".py",
   "mimetype": "text/x-python",
   "name": "python",
   "nbconvert_exporter": "python",
   "pygments_lexer": "ipython3",
   "version": "3.9.12"
  }
 },
 "nbformat": 4,
 "nbformat_minor": 2
}
