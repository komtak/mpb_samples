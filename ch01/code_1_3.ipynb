{
 "cells": [
  {
   "cell_type": "markdown",
   "id": "07f3b1a2",
   "metadata": {},
   "source": [
    "# プログラム 1-3"
   ]
  },
  {
   "cell_type": "code",
   "execution_count": 3,
   "id": "5830f598",
   "metadata": {},
   "outputs": [
    {
     "data": {
      "text/plain": [
       "15000"
      ]
     },
     "execution_count": 3,
     "metadata": {},
     "output_type": "execute_result"
    }
   ],
   "source": [
    "# 1-3-1\n",
    "時給 = 1500\n",
    "働く時間 = 10\n",
    "\n",
    "時給*働く時間"
   ]
  },
  {
   "cell_type": "code",
   "execution_count": null,
   "id": "2744b366",
   "metadata": {},
   "outputs": [],
   "source": [
    "# 1-3-2\n",
    "距離 = 1200   # 東京 - 福岡(単位はKm)\n",
    "時速 = 200    # (平均)速度(単位はKm/時)\n",
    "距離/時速      # 計算して結果を出力する"
   ]
  }
 ],
 "metadata": {
  "kernelspec": {
   "display_name": "Python 3 (ipykernel)",
   "language": "python",
   "name": "python3"
  },
  "language_info": {
   "codemirror_mode": {
    "name": "ipython",
    "version": 3
   },
   "file_extension": ".py",
   "mimetype": "text/x-python",
   "name": "python",
   "nbconvert_exporter": "python",
   "pygments_lexer": "ipython3",
   "version": "3.9.12"
  }
 },
 "nbformat": 4,
 "nbformat_minor": 5
}
