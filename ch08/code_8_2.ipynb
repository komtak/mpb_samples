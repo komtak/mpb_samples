{
 "cells": [
  {
   "cell_type": "markdown",
   "id": "a3d90d1c",
   "metadata": {},
   "source": [
    "# プログラム 8-2"
   ]
  },
  {
   "cell_type": "code",
   "execution_count": null,
   "id": "52fedec3",
   "metadata": {},
   "outputs": [],
   "source": [
    "# 音声合成ライブラリ(gtts)をインストールする\n",
    "!pip install -Uq gtts"
   ]
  },
  {
   "cell_type": "code",
   "execution_count": null,
   "id": "fb79a389",
   "metadata": {},
   "outputs": [],
   "source": [
    "# 音声合成クラス(gTTS)をインポートする\n",
    "from gtts import gTTS\n",
    "from IPython.display import Audio"
   ]
  },
  {
   "cell_type": "code",
   "execution_count": null,
   "id": "24bbecc8",
   "metadata": {},
   "outputs": [],
   "source": [
    "# 音声合成をする\n",
    "m = \"こんにちは\"\n",
    "tts = gTTS(m, lang=\"ja\")"
   ]
  },
  {
   "cell_type": "code",
   "execution_count": null,
   "id": "f1f49225",
   "metadata": {},
   "outputs": [],
   "source": [
    "# 音声を保存して再生ボタンを表示\n",
    "tts.save(\"hello.mp3\")  \n",
    "Audio(\"hello.mp3\")"
   ]
  },
  {
   "cell_type": "code",
   "execution_count": null,
   "id": "c5c9bc63",
   "metadata": {},
   "outputs": [],
   "source": [
    "# ひとつにまとめる\n",
    "m = \"こんにちは\"\n",
    "tts = gTTS(m, lang=\"ja\")\n",
    "tts.save(\"hello.mp3\")  \n",
    "Audio(\"hello.mp3\")"
   ]
  },
  {
   "cell_type": "code",
   "execution_count": null,
   "id": "8be1eb68",
   "metadata": {},
   "outputs": [],
   "source": [
    "# 地震の情報を得るための関数を読み込む\n",
    "!pip install mpb_lib -qU\n",
    "from mpb_lib.apis import get_eq_info2"
   ]
  },
  {
   "cell_type": "code",
   "execution_count": null,
   "id": "ef5fab85",
   "metadata": {},
   "outputs": [],
   "source": [
    "# 地震の情報から文字列を作る\n",
    "# 地震の情報を得る\n",
    "d = get_eq_info2()\n",
    "# f文字列を使う\n",
    "p = d[\"name\"]\n",
    "m = f\"{p}で地震がありました。\""
   ]
  },
  {
   "cell_type": "code",
   "execution_count": null,
   "id": "8edefecc",
   "metadata": {},
   "outputs": [],
   "source": [
    "# 地震の情報をしゃべらせる\n",
    "tts = gTTS(m, lang=\"ja\")\n",
    "tts.save(\"hello.mp3\")  \n",
    "Audio(\"hello.mp3\")"
   ]
  },
  {
   "cell_type": "code",
   "execution_count": null,
   "id": "f5181bad",
   "metadata": {},
   "outputs": [],
   "source": []
  }
 ],
 "metadata": {
  "kernelspec": {
   "display_name": "Python 3 (ipykernel)",
   "language": "python",
   "name": "python3"
  },
  "language_info": {
   "codemirror_mode": {
    "name": "ipython",
    "version": 3
   },
   "file_extension": ".py",
   "mimetype": "text/x-python",
   "name": "python",
   "nbconvert_exporter": "python",
   "pygments_lexer": "ipython3",
   "version": "3.9.12"
  }
 },
 "nbformat": 4,
 "nbformat_minor": 5
}
