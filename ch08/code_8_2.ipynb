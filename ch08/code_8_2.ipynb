{
 "cells": [
  {
   "cell_type": "markdown",
   "id": "a3d90d1c",
   "metadata": {},
   "source": [
    "# プログラム 8-2"
   ]
  },
  {
   "cell_type": "markdown",
   "id": "15415b45",
   "metadata": {},
   "source": [
    "## 音声合成のプログラムを動かそう"
   ]
  },
  {
   "cell_type": "code",
   "execution_count": null,
   "id": "52fedec3",
   "metadata": {},
   "outputs": [],
   "source": [
    "# 音声合成ライブラリ(gtts)をインストールする\n",
    "!pip install -Uq gtts"
   ]
  },
  {
   "cell_type": "code",
   "execution_count": null,
   "id": "fb79a389",
   "metadata": {},
   "outputs": [],
   "source": [
    "# 音声合成クラス(gTTS)をインポートする\n",
    "from gtts import gTTS\n",
    "from IPython.display import Audio"
   ]
  },
  {
   "cell_type": "code",
   "execution_count": null,
   "id": "24bbecc8",
   "metadata": {},
   "outputs": [],
   "source": [
    "# 音声合成をする\n",
    "m = \"こんにちは\"\n",
    "tts = gTTS(m, lang=\"ja\")"
   ]
  },
  {
   "cell_type": "code",
   "execution_count": null,
   "id": "f1f49225",
   "metadata": {},
   "outputs": [],
   "source": [
    "# 音声を保存して再生ボタンを表示\n",
    "tts.save(\"hello.mp3\")  \n",
    "Audio(\"hello.mp3\")"
   ]
  },
  {
   "cell_type": "code",
   "execution_count": null,
   "id": "c5c9bc63",
   "metadata": {},
   "outputs": [],
   "source": [
    "# ひとつにまとめる\n",
    "m = \"こんにちは\"\n",
    "tts = gTTS(m, lang=\"ja\")\n",
    "tts.save(\"hello.mp3\")  \n",
    "Audio(\"hello.mp3\")"
   ]
  },
  {
   "cell_type": "code",
   "execution_count": null,
   "id": "8be1eb68",
   "metadata": {},
   "outputs": [],
   "source": [
    "# 地震の情報を得るための関数を読み込む\n",
    "!pip install mpb_lib -qU\n",
    "from mpb_lib.apis import get_eq_info2"
   ]
  },
  {
   "cell_type": "code",
   "execution_count": null,
   "id": "ef5fab85",
   "metadata": {},
   "outputs": [],
   "source": [
    "# 地震の情報から文字列を作る\n",
    "# 地震の情報を得る\n",
    "d = get_eq_info2()\n",
    "# f文字列を使う\n",
    "p = d[\"name\"]\n",
    "m = f\"{p}で地震がありました。\""
   ]
  },
  {
   "cell_type": "code",
   "execution_count": null,
   "id": "8edefecc",
   "metadata": {},
   "outputs": [],
   "source": [
    "# 地震の情報をしゃべらせる\n",
    "tts = gTTS(m, lang=\"ja\")\n",
    "tts.save(\"hello.mp3\")  \n",
    "Audio(\"hello.mp3\")"
   ]
  },
  {
   "cell_type": "markdown",
   "id": "3af76688",
   "metadata": {},
   "source": [
    "## オマケ - 音声認識を試す\n",
    "\n",
    "音声認識のプログラムは，コラボラトリーで動かしてください。WindowsなどにインストールしたPythonでは，正しく動きません。\n",
    "\n",
    "また，プログラムを試す前に，次のことをしてください。\n",
    "\n",
    "1. メニューを表示する\n",
    "2. 「ランタイム」メニューから，「ランタイムのタイプを変更」を選ぶ\n",
    "3. 次に表示される画面で「T4 GPU」を選んで，「保存」ボタンを押す"
   ]
  },
  {
   "cell_type": "code",
   "execution_count": null,
   "id": "44b3b432",
   "metadata": {},
   "outputs": [],
   "source": [
    "# 認識させる音声をダウンロードする\n",
    "import urllib.request\n",
    "url = \"https://qrtn.jp/ieu39tu\"\n",
    "filename = \"sample.wav\"\n",
    "urllib.request.urlretrieve(url, filename)"
   ]
  },
  {
   "cell_type": "code",
   "execution_count": null,
   "id": "6754b44c",
   "metadata": {},
   "outputs": [],
   "source": [
    "# 音声ファイルを再生する\n",
    "from IPython.display import Audio\n",
    "Audio(filename)"
   ]
  },
  {
   "cell_type": "code",
   "execution_count": null,
   "id": "b83aec8e",
   "metadata": {},
   "outputs": [],
   "source": [
    "# 音声認識用のライブラリなどをインストールする\n",
    "!sudo apt update\n",
    "!sudo apt install ffmpeg\n",
    "!pip install git+https://github.com/openai/whisper.git -q\n",
    "# 最後にエラーが表示されますが，プログラムは実行できます"
   ]
  },
  {
   "cell_type": "code",
   "execution_count": null,
   "id": "71bee79f",
   "metadata": {},
   "outputs": [],
   "source": [
    "# 準備1 - ライブラリのインポートなど\n",
    "import whisper\n",
    "# 音声認識モデルを読み込む\n",
    "model = whisper.load_model(\"base\")"
   ]
  },
  {
   "cell_type": "code",
   "execution_count": null,
   "id": "693ffd68",
   "metadata": {},
   "outputs": [],
   "source": [
    "# 準備2 - 音声認識に必要なデータを準備する\n",
    "# 音声データを読み込む\n",
    "filename = \"sample.wav\"\n",
    "audio = whisper.load_audio(filename)\n",
    "audio = whisper.pad_or_trim(audio)\n",
    "# 音声データを，音声認識に必要な形式に変換する\n",
    "mel = whisper.log_mel_spectrogram(audio).to(model.device)\n",
    "# 認識に必要なオプションを解析する\n",
    "options = whisper.DecodingOptions()"
   ]
  },
  {
   "cell_type": "code",
   "execution_count": null,
   "id": "bd0cfda6",
   "metadata": {},
   "outputs": [],
   "source": [
    "# アルゴリズム - 音声認識を実行する\n",
    "result = whisper.decode(model, mel, options)\n",
    "result.text  # 結果を表示"
   ]
  },
  {
   "cell_type": "code",
   "execution_count": null,
   "id": "b80832f4",
   "metadata": {},
   "outputs": [],
   "source": []
  }
 ],
 "metadata": {
  "kernelspec": {
   "display_name": "Python 3 (ipykernel)",
   "language": "python",
   "name": "python3"
  },
  "language_info": {
   "codemirror_mode": {
    "name": "ipython",
    "version": 3
   },
   "file_extension": ".py",
   "mimetype": "text/x-python",
   "name": "python",
   "nbconvert_exporter": "python",
   "pygments_lexer": "ipython3",
   "version": "3.9.12"
  }
 },
 "nbformat": 4,
 "nbformat_minor": 5
}
