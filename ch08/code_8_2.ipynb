{
 "cells": [
  {
   "cell_type": "markdown",
   "id": "a3d90d1c",
   "metadata": {},
   "source": [
    "# プログラム 8-2"
   ]
  },
  {
   "cell_type": "code",
   "execution_count": null,
   "id": "52fedec3",
   "metadata": {},
   "outputs": [],
   "source": [
    "# 認識させる音声をダウンロードする\n",
    "import urllib.request\n",
    "url = \"https://qrtn.jp/ieu39tu\"\n",
    "filename = \"sample.wav\"\n",
    "urllib.request.urlretrieve(url, filename)"
   ]
  },
  {
   "cell_type": "code",
   "execution_count": null,
   "id": "fb79a389",
   "metadata": {},
   "outputs": [],
   "source": [
    "# 音声ファイルを再生する\n",
    "from IPython.display import Audio\n",
    "Audio(filename)"
   ]
  },
  {
   "cell_type": "code",
   "execution_count": null,
   "id": "24bbecc8",
   "metadata": {},
   "outputs": [],
   "source": [
    "# 音声認識用のライブラリなどをインストールする\n",
    "!sudo apt update\n",
    "!sudo apt install ffmpeg\n",
    "!pip install git+https://github.com/openai/whisper.git -q"
   ]
  },
  {
   "cell_type": "code",
   "execution_count": null,
   "id": "f1f49225",
   "metadata": {},
   "outputs": [],
   "source": [
    "# 準備1 - ライブラリのインポートなど\n",
    "import whisper\n",
    "# 音声認識モデルを読み込む\n",
    "model = whisper.load_model(\"base\")"
   ]
  },
  {
   "cell_type": "code",
   "execution_count": null,
   "id": "ef5fab85",
   "metadata": {},
   "outputs": [],
   "source": [
    "# 準備2 - 音声認識に必要なデータを準備する\n",
    "# 音声データを読み込む\n",
    "filename = \"sample.wav\"\n",
    "audio = whisper.load_audio(filename)\n",
    "audio = whisper.pad_or_trim(audio)\n",
    "# 音声データを，音声認識に必要な形式に変換する\n",
    "mel = whisper.log_mel_spectrogram(audio).to(model.device)\n",
    "# 認識に必要なオプションを解析する\n",
    "options = whisper.DecodingOptions()"
   ]
  },
  {
   "cell_type": "code",
   "execution_count": null,
   "id": "8edefecc",
   "metadata": {},
   "outputs": [],
   "source": [
    "# アルゴリズム - 音声認識を実行する\n",
    "result = whisper.decode(model, mel, options)\n",
    "result.text # 結果を表示"
   ]
  },
  {
   "cell_type": "code",
   "execution_count": null,
   "id": "55552b2f",
   "metadata": {},
   "outputs": [],
   "source": []
  }
 ],
 "metadata": {
  "kernelspec": {
   "display_name": "Python 3 (ipykernel)",
   "language": "python",
   "name": "python3"
  },
  "language_info": {
   "codemirror_mode": {
    "name": "ipython",
    "version": 3
   },
   "file_extension": ".py",
   "mimetype": "text/x-python",
   "name": "python",
   "nbconvert_exporter": "python",
   "pygments_lexer": "ipython3",
   "version": "3.9.12"
  }
 },
 "nbformat": 4,
 "nbformat_minor": 5
}
