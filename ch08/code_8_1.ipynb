{
 "cells": [
  {
   "cell_type": "markdown",
   "metadata": {},
   "source": [
    "# プログラム 8-1"
   ]
  },
  {
   "cell_type": "markdown",
   "metadata": {},
   "source": [
    "## 人間のように「ふるまう」プログラム"
   ]
  },
  {
   "cell_type": "code",
   "execution_count": null,
   "metadata": {},
   "outputs": [],
   "source": [
    "# リストのリストで迷路を表現する\n",
    "maze = [\n",
    " [1, 1, 1, 1, 1, 1, 1, 1, 1, 1],\n",
    " [0, 0, 1, 0, 0, 0, 1, 0, 1, 1],\n",
    " [1, 0, 1, 0, 1, 0, 0, 0, 0, 1],\n",
    " [1, 0, 0, 0, 1, 1, 1, 0, 1, 1],\n",
    " [1, 0, 1, 0, 1, 0, 0, 0, 1, 1],\n",
    " [1, 0, 1, 0, 1, 0, 1, 0, 1, 1],\n",
    " [1, 0, 1, 0, 1, 0, 1, 0, 1, 1],\n",
    " [1, 0, 1, 0, 1, 1, 1, 0, 1, 1],\n",
    " [1, 0, 1, 0, 0, 0, 0, 0, 0, 0],\n",
    " [1, 1, 1, 1, 1, 1, 1, 1, 1, 1]]"
   ]
  },
  {
   "cell_type": "code",
   "execution_count": null,
   "metadata": {},
   "outputs": [],
   "source": [
    "# 迷路のある場所がかべかどうか調べる\n",
    "x = 0  # よこの位置(左端が0)\n",
    "y = 1  # たての位置(上端が0)\n",
    "maze[y][x]  # 0が道，1がかべ"
   ]
  },
  {
   "cell_type": "code",
   "execution_count": null,
   "metadata": {},
   "outputs": [],
   "source": [
    "# 迷路を表示する関数を読み込む\n",
    "!pip install mpb_lib -qU\n",
    "from mpb_lib.maze import show_maze, show_route"
   ]
  },
  {
   "cell_type": "code",
   "execution_count": null,
   "metadata": {},
   "outputs": [],
   "source": [
    "# 迷路を表示する\n",
    "show_maze(maze)"
   ]
  },
  {
   "cell_type": "markdown",
   "metadata": {},
   "source": [
    "### 迷路の探索プログラム"
   ]
  },
  {
   "cell_type": "code",
   "execution_count": null,
   "metadata": {},
   "outputs": [],
   "source": [
    "# 上下左右を調べる関数\n",
    "def find(x, y, maze, depth):\n",
    "    # mazeのx,yの位置で上下左右が壁か道かを調べる関数\n",
    "\n",
    "    result_list = []  # 戻り値のリストを空のリストで初期化\n",
    "    # 上下左右を調べるため，リストのリストを使ってループ\n",
    "    for txy in [[0, -1], [0, 1], [-1, 0], [1, 0]]:\n",
    "        # 調べる位置\n",
    "        tx = x + txy[0]\n",
    "        ty = y + txy[1]\n",
    "        if tx >= 0 and tx <= 9 and ty >= 0 and ty <= 9:\n",
    "            # 調べたい位置が迷路の範囲内だった\n",
    "            p = maze[ty][tx]\n",
    "            if p == 0 or p > depth:\n",
    "                # 通っていない道だった場合，リストに追加\n",
    "                result_list += [[tx, ty]]\n",
    "        \n",
    "    return result_list\n"
   ]
  },
  {
   "cell_type": "code",
   "execution_count": null,
   "metadata": {},
   "outputs": [],
   "source": [
    "# 関数を使って道を調べてみる\n",
    "find(1, 3, maze, 1)"
   ]
  },
  {
   "cell_type": "code",
   "execution_count": null,
   "metadata": {},
   "outputs": [],
   "source": [
    "# 迷路の探索に使う変数を初期化\n",
    "stack = []  # 探索の対象となる座標を保存するリストを初期化\n",
    "route = []  # 答え(最短経路)を保存するリストを初期化\n",
    "\n",
    "x = 0  # 現在位置(x)\n",
    "y = 1  # 現在位置(y)\n",
    "depth = 2  # 探索の深さ(スタートからの距離)\n",
    "\n",
    "# 迷路を初期化\n",
    "maze = [\n",
    " [1, 1, 1, 1, 1, 1, 1, 1, 1, 1],\n",
    " [0, 0, 1, 0, 0, 0, 1, 0, 1, 1],\n",
    " [1, 0, 1, 0, 1, 0, 0, 0, 0, 1],\n",
    " [1, 0, 0, 0, 1, 1, 1, 0, 1, 1],\n",
    " [1, 0, 1, 0, 1, 0, 0, 0, 1, 1],\n",
    " [1, 0, 1, 0, 1, 0, 1, 0, 1, 1],\n",
    " [1, 0, 1, 0, 1, 0, 1, 0, 1, 1],\n",
    " [1, 0, 1, 0, 1, 1, 1, 0, 1, 1],\n",
    " [1, 0, 1, 0, 0, 0, 0, 0, 0, 0],\n",
    " [1, 1, 1, 1, 1, 1, 1, 1, 1, 1]]"
   ]
  },
  {
   "cell_type": "code",
   "execution_count": null,
   "metadata": {},
   "outputs": [],
   "source": [
    "# 探索用アルゴリスム(1ターン)\n",
    "# 結果を確認しながら，何度か実行してみてください\n",
    "\n",
    "maze[y][x] = depth  # 迷路のリストに，探索深さを記録\n",
    "route.append([x, y])  # 最短経路のリストに位置を記録\n",
    "the_way = find(x, y, maze, depth)  # 今の位置から移動可能な場所を探す\n",
    "\n",
    "if len(the_way) >= 1:\n",
    "    # 移動可能な場所があった\n",
    "    # 2番目以降をスタックに保存しておく\n",
    "    for x_y in the_way[1:]:\n",
    "        # 次の場所のx, 次の場所のy，routeの長さの順に記録\n",
    "        stack.append([x_y[0], x_y[1], len(route)])\n",
    "    # 0番目の場所に移動する\n",
    "    x = the_way[0][0]\n",
    "    y = the_way[0][1]\n",
    "    depth += 1  # 探索深さを+1\n",
    "else:\n",
    "    # 移動可能な場所がなかった\n",
    "    # スタックに記録があれば，そこに戻って探索を続ける\n",
    "    if len(stack) > 0:\n",
    "        # stackの最後の位置から，座標と探索深さを復元\n",
    "        item = stack.pop() # stackの一番最後の要素を取り出してから削除\n",
    "        x = item[0]\n",
    "        y = item[1]\n",
    "        route = route[:item[2]]  # ルートを巻き戻す\n",
    "        depth = item[2] + 2  # 探索深さを巻き戻す\n",
    "    else:\n",
    "        print(\"【ゴールが見つかりました】\")\n",
    "    \n",
    "show_maze(maze) # 現在の経過を表示"
   ]
  },
  {
   "cell_type": "code",
   "execution_count": null,
   "metadata": {},
   "outputs": [],
   "source": [
    "# 結果を表示する\n",
    "route"
   ]
  },
  {
   "cell_type": "code",
   "execution_count": null,
   "metadata": {},
   "outputs": [],
   "source": [
    "# 迷路上に最短経路を表示する\n",
    "show_route(maze, route)"
   ]
  },
  {
   "cell_type": "code",
   "execution_count": null,
   "metadata": {},
   "outputs": [],
   "source": []
  }
 ],
 "metadata": {
  "kernelspec": {
   "display_name": "Python 3 (ipykernel)",
   "language": "python",
   "name": "python3"
  },
  "language_info": {
   "codemirror_mode": {
    "name": "ipython",
    "version": 3
   },
   "file_extension": ".py",
   "mimetype": "text/x-python",
   "name": "python",
   "nbconvert_exporter": "python",
   "pygments_lexer": "ipython3",
   "version": "3.9.12"
  }
 },
 "nbformat": 4,
 "nbformat_minor": 2
}
