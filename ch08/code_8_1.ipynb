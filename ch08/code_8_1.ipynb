{
 "cells": [
  {
   "cell_type": "markdown",
   "metadata": {},
   "source": [
    "# プログラム 8-1"
   ]
  },
  {
   "cell_type": "code",
   "execution_count": null,
   "metadata": {},
   "outputs": [],
   "source": [
    "!pip install mpb_lib -qU\n",
    "from mpb_lib.maze import show_maze, show_route"
   ]
  },
  {
   "cell_type": "code",
   "execution_count": null,
   "metadata": {},
   "outputs": [],
   "source": [
    "# リストのリストで迷路を表現する\n",
    "maze = [\n",
    " [1, 1, 1, 1, 1, 1, 1, 1, 1, 1],\n",
    " [0, 0, 1, 0, 0, 0, 1, 0, 1, 1],\n",
    " [1, 0, 1, 0, 1, 0, 0, 0, 0, 1],\n",
    " [1, 0, 0, 0, 1, 1, 1, 0, 1, 1],\n",
    " [1, 0, 1, 0, 1, 0, 0, 0, 1, 1],\n",
    " [1, 0, 1, 0, 1, 0, 1, 0, 1, 1],\n",
    " [1, 0, 1, 0, 1, 0, 1, 0, 1, 1],\n",
    " [1, 0, 1, 0, 1, 1, 1, 0, 1, 1],\n",
    " [1, 0, 1, 0, 0, 0, 0, 0, 0, 0],\n",
    " [1, 1, 1, 1, 1, 1, 1, 1, 1, 1]]"
   ]
  },
  {
   "cell_type": "code",
   "execution_count": null,
   "metadata": {},
   "outputs": [],
   "source": [
    "# 迷路のある場所が壁かどうか調べる\n",
    "x = 0  # よこの位置(左端が0)\n",
    "y = 1  # たての位置(上端が0)\n",
    "maze[y][x] # 0が道，1が壁"
   ]
  },
  {
   "cell_type": "code",
   "execution_count": null,
   "metadata": {},
   "outputs": [],
   "source": [
    "# 迷路を表示する\n",
    "show_maze(maze)"
   ]
  },
  {
   "cell_type": "markdown",
   "metadata": {},
   "source": [
    "迷路を幅優先権作して，最短経路を調べるPythonのプログラム。"
   ]
  },
  {
   "cell_type": "code",
   "execution_count": null,
   "metadata": {},
   "outputs": [],
   "source": [
    "# 上下左右を調べる関数を作る\n",
    "def find_next(x, y, maze, depth):\n",
    "    \"\"\"\n",
    "    x, yの上下左右を調べ，道として使える場所を返す関数。\n",
    "    maze(迷路)の中で，調べたい場所をx, yで引数に渡して呼び出す。\n",
    "    戻り値は，x, yの周囲に道として見つかった位置。\n",
    "    [[x1, y1]]のように，リストのリストで返す。\n",
    "    複数の道が見つかったら，[[x1, y1], [x2, y2]]のように要素が増える。\n",
    "    \"\"\"\n",
    "    result_list = []  # 戻り値のリストを空のリストで初期化\n",
    "    # 上を調べる\n",
    "    if y > 0 and (maze[y-1][x] == 0 or maze[y-1][x] > depth):\n",
    "        # 上が道だった\n",
    "        result_list.append([x, y-1])\n",
    "    # 下を調べる\n",
    "    if y < 9 and (maze[y+1][x] == 0 or maze[y+1][x] > depth):\n",
    "        # 下が道だった\n",
    "        result_list.append([x, y+1])\n",
    "    # 左を調べる\n",
    "    if x > 0 and (maze[y][x-1] == 0 or maze[y][x-1] > depth):\n",
    "        # 左が道だった\n",
    "        result_list.append([x-1, y])\n",
    "    # 右を調べる\n",
    "    if x < 9 and (maze[y][x+1] == 0 or maze[y][x+1] > depth):\n",
    "        # 右が道だった\n",
    "        result_list.append([x+1, y])\n",
    "    return result_list\n"
   ]
  },
  {
   "cell_type": "code",
   "execution_count": null,
   "metadata": {},
   "outputs": [],
   "source": [
    "# 迷路の探索に使う変数を初期化\n",
    "stack = []   # 探索の対象となる座標を保存するリストを初期化\n",
    "route = []   # 答え(最短経路)を保存するリストを初期化\n",
    "\n",
    "x = 0  # スタート位置(x)\n",
    "y = 1  # スタート位置(y)\n",
    "depth = 2  # 探索の深さ\n",
    "\n",
    "# 迷路を初期化\n",
    "maze = [\n",
    " [1, 1, 1, 1, 1, 1, 1, 1, 1, 1],\n",
    " [0, 0, 1, 0, 0, 0, 1, 0, 1, 1],\n",
    " [1, 0, 1, 0, 1, 0, 0, 0, 0, 1],\n",
    " [1, 0, 0, 0, 1, 1, 1, 0, 1, 1],\n",
    " [1, 0, 1, 0, 1, 0, 0, 0, 1, 1],\n",
    " [1, 0, 1, 0, 1, 0, 1, 0, 1, 1],\n",
    " [1, 0, 1, 0, 1, 0, 1, 0, 1, 1],\n",
    " [1, 0, 1, 0, 1, 1, 1, 0, 1, 1],\n",
    " [1, 0, 1, 0, 0, 0, 0, 0, 0, 0],\n",
    " [1, 1, 1, 1, 1, 1, 1, 1, 1, 1]]"
   ]
  },
  {
   "cell_type": "code",
   "execution_count": null,
   "metadata": {},
   "outputs": [],
   "source": [
    "# 探索用アルゴリスム(1ターン)\n",
    "# 結果を確認しながら，何度か実行してみてください\n",
    "\n",
    "maze[y][x] = depth  # 迷路のリストに，探索深さを記録\n",
    "route.append([x, y])  # 最短経路のリストに位置を記録\n",
    "the_way = find_next(x, y, maze, depth)  # 今の位置から移動可能な場所を探す\n",
    "\n",
    "if len(the_way) > 1:\n",
    "    # 移動可能な位置が2つ以上だった\n",
    "    # 2番目以降をスタックに保存しておく\n",
    "    for item in the_way[1:]:\n",
    "        # 次の場所のx, 次の場所のy，探索深さ，routeの長さの順に記録\n",
    "        stack.append([item[0], item[1], depth+1, len(route)])\n",
    "\n",
    "if len(the_way) == 0:\n",
    "    # 移動可能な位置がなかった\n",
    "    # スタックに記録があれば，そこに戻って探索を続ける\n",
    "    if len(stack) > 0:\n",
    "        # stackの最後の位置から，座標と探索深さを復元\n",
    "        item = stack.pop() # stackの一番最後の要素を取り出してから削除\n",
    "        x = item[0]\n",
    "        y = item[1]\n",
    "        depth = item[2]\n",
    "        route = route[:item[3]]  # ルートを巻き戻す\n",
    "    else:\n",
    "        print(\"【ゴールが見つかりました】\")\n",
    "else:\n",
    "    # 移動する\n",
    "    x = the_way[0][0]\n",
    "    y = the_way[0][1]\n",
    "    depth += 1 # 探索深さを+1\n",
    "    \n",
    "        \n",
    "show_maze(maze) # 現在の経過を表示"
   ]
  },
  {
   "cell_type": "code",
   "execution_count": null,
   "metadata": {},
   "outputs": [],
   "source": [
    "# 最短経路を表示する\n",
    "show_route(maze, route)"
   ]
  },
  {
   "cell_type": "code",
   "execution_count": null,
   "metadata": {},
   "outputs": [],
   "source": []
  }
 ],
 "metadata": {
  "kernelspec": {
   "display_name": "Python 3 (ipykernel)",
   "language": "python",
   "name": "python3"
  },
  "language_info": {
   "codemirror_mode": {
    "name": "ipython",
    "version": 3
   },
   "file_extension": ".py",
   "mimetype": "text/x-python",
   "name": "python",
   "nbconvert_exporter": "python",
   "pygments_lexer": "ipython3",
   "version": "3.9.12"
  }
 },
 "nbformat": 4,
 "nbformat_minor": 2
}
