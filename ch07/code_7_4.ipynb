{
 "cells": [
  {
   "cell_type": "markdown",
   "metadata": {},
   "source": [
    "# プログラム 6-4"
   ]
  },
  {
   "cell_type": "code",
   "execution_count": 2,
   "metadata": {},
   "outputs": [],
   "source": [
    "# 6-4-1\n",
    "# ライブラリをインストールする\n",
    "!pip3 install mpb_lib -qU\n",
    "# クラスを読み込む\n",
    "from mpb_lib.face import Face"
   ]
  },
  {
   "cell_type": "code",
   "execution_count": 3,
   "metadata": {},
   "outputs": [
    {
     "data": {
      "text/html": [
       "\n",
       "        <iframe\n",
       "            width=\"100%\"\n",
       "            height=\"400px\"\n",
       "            src=\"./tmp.html\"\n",
       "            frameborder=\"0\"\n",
       "            allowfullscreen\n",
       "            \n",
       "        ></iframe>\n",
       "        "
      ],
      "text/plain": [
       "<IPython.lib.display.IFrame at 0x1121a13d0>"
      ]
     },
     "metadata": {},
     "output_type": "display_data"
    }
   ],
   "source": [
    "# 6-4-2\n",
    "f = Face() # オブジェクトを作る\n",
    "f.show()    # メソッドを呼び出す"
   ]
  },
  {
   "cell_type": "code",
   "execution_count": 4,
   "metadata": {},
   "outputs": [
    {
     "data": {
      "text/html": [
       "\n",
       "        <iframe\n",
       "            width=\"100%\"\n",
       "            height=\"400px\"\n",
       "            src=\"./tmp.html\"\n",
       "            frameborder=\"0\"\n",
       "            allowfullscreen\n",
       "            \n",
       "        ></iframe>\n",
       "        "
      ],
      "text/plain": [
       "<IPython.lib.display.IFrame at 0x1135c9760>"
      ]
     },
     "metadata": {},
     "output_type": "display_data"
    }
   ],
   "source": [
    "# 6-4-3\n",
    "f.eye_kind = 1    # 目の種類(0から2)\n",
    "f.mouth_kind = 1 # 口の種類(0から2)\n",
    "f.eyeblow_degree = -30  # まゆの角度\n",
    "f.message = \"ワタシ，パイソン，チョットデキル\"\n",
    "f.show()  # 顔を表示する"
   ]
  },
  {
   "cell_type": "code",
   "execution_count": null,
   "metadata": {},
   "outputs": [],
   "source": [
    "# 6-4-5\n",
    "f.eye_kind = 0    # 目の種類(0から2)\n",
    "f.mouth_kind = 0 # 口の種類(0から2)\n",
    "f.eye_position = [0, 0]  # 目の位置[よこ, たて]\n",
    "f.eyeblow_position = [10, -10]  # まゆの位置[よこ, たて]\n",
    "f.eyeblow_degree = 30  # まゆの角度\n",
    "f.mouth_position = [0, -10]  # 口の位置[よこ, たて]\n",
    "f.message = \"先生，あとで職員室に来なさい。\"\n",
    "f.show()   # セリフを言う"
   ]
  },
  {
   "cell_type": "code",
   "execution_count": null,
   "metadata": {},
   "outputs": [],
   "source": []
  }
 ],
 "metadata": {
  "kernelspec": {
   "display_name": "Python 3 (ipykernel)",
   "language": "python",
   "name": "python3"
  },
  "language_info": {
   "codemirror_mode": {
    "name": "ipython",
    "version": 3
   },
   "file_extension": ".py",
   "mimetype": "text/x-python",
   "name": "python",
   "nbconvert_exporter": "python",
   "pygments_lexer": "ipython3",
   "version": "3.9.12"
  }
 },
 "nbformat": 4,
 "nbformat_minor": 2
}
