{
 "cells": [
  {
   "cell_type": "markdown",
   "metadata": {},
   "source": [
    "# プログラム 7-6"
   ]
  },
  {
   "cell_type": "markdown",
   "metadata": {},
   "source": [
    "## オブジェクト指向を活用しよう"
   ]
  },
  {
   "cell_type": "code",
   "execution_count": null,
   "metadata": {},
   "outputs": [],
   "source": [
    "# 地震の情報を得るための関数を読み込む\n",
    "!pip -q install mpb_lib -U\n",
    "from mpb_lib.apis import get_eq_info2"
   ]
  },
  {
   "cell_type": "code",
   "execution_count": null,
   "metadata": {},
   "outputs": [],
   "source": [
    "# 地震の情報を辞書として得る\n",
    "d = get_eq_info2()\n",
    "d   # 辞書の内容を確認"
   ]
  },
  {
   "cell_type": "code",
   "execution_count": null,
   "metadata": {},
   "outputs": [],
   "source": [
    "# 地名だけを取り出す\n",
    "p = d[\"name\"]  \n",
    "p  # 地名を確認"
   ]
  },
  {
   "cell_type": "code",
   "execution_count": null,
   "metadata": {},
   "outputs": [],
   "source": [
    "# ?を地名で置き換える(置換)\n",
    "m = \"?で地震がありました。\"\n",
    "m = m.replace(\"?\", p)\n",
    "m   # 結果を表示"
   ]
  },
  {
   "cell_type": "code",
   "execution_count": null,
   "metadata": {},
   "outputs": [],
   "source": [
    "# f文字列を使う\n",
    "p = d[\"name\"]\n",
    "m = f\"{p}で地震がありました。\"\n",
    "m # 結果を表示"
   ]
  },
  {
   "cell_type": "code",
   "execution_count": null,
   "metadata": {},
   "outputs": [],
   "source": [
    "# 日付を埋め込む\n",
    "dt = d[\"datetime\"]  # 発生日\n",
    "m = f\"{dt.month}月{dt.day}日{dt.hour}時ごろ\"\n",
    "m  # 結果を確認"
   ]
  },
  {
   "cell_type": "code",
   "execution_count": null,
   "metadata": {},
   "outputs": [],
   "source": [
    "# 長い文字列を作る\n",
    "p = d[\"name\"]  # 地名を取り出す\n",
    "mg = d[\"magnitude\"] # 地震の規模\n",
    "dt = d[\"datetime\"]  # 発生日\n",
    "# 文字列を組み立てる\n",
    "m = f\"{dt.month}月{dt.day}日{dt.hour}時ごろ\"\n",
    "m += f\"{p}でマグニチュード{mg}の地震がありました。\"\n",
    "m  # 結果を確認"
   ]
  },
  {
   "cell_type": "markdown",
   "metadata": {},
   "source": [
    "「チャレンジしよう」でプログラムを書きたい人は，下のセルを使ってください。"
   ]
  },
  {
   "cell_type": "code",
   "execution_count": null,
   "metadata": {},
   "outputs": [],
   "source": []
  },
  {
   "cell_type": "code",
   "execution_count": null,
   "metadata": {},
   "outputs": [],
   "source": []
  },
  {
   "cell_type": "code",
   "execution_count": null,
   "metadata": {},
   "outputs": [],
   "source": []
  }
 ],
 "metadata": {
  "kernelspec": {
   "display_name": "Python 3 (ipykernel)",
   "language": "python",
   "name": "python3"
  },
  "language_info": {
   "codemirror_mode": {
    "name": "ipython",
    "version": 3
   },
   "file_extension": ".py",
   "mimetype": "text/x-python",
   "name": "python",
   "nbconvert_exporter": "python",
   "pygments_lexer": "ipython3",
   "version": "3.9.12"
  }
 },
 "nbformat": 4,
 "nbformat_minor": 2
}
