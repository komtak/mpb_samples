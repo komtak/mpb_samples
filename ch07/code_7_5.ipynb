{
 "cells": [
  {
   "cell_type": "markdown",
   "metadata": {},
   "source": [
    "# プログラム 7-5"
   ]
  },
  {
   "cell_type": "code",
   "execution_count": null,
   "metadata": {},
   "outputs": [],
   "source": [
    "# サムライを探せ！\n",
    "s = (\"持持持持持持持持持持\"\n",
    "       \"持持持持持持持侍持持\"\n",
    "       \"持持持持持持持持持持\"\n",
    "       \"持持持持持持持持持持\"\n",
    "       \"持持持持持持持持持持\"\n",
    "       \"持持持持持持持持持持\")\n",
    "s.index(\"侍\")"
   ]
  },
  {
   "cell_type": "code",
   "execution_count": null,
   "metadata": {},
   "outputs": [],
   "source": [
    "# 足し算を使って文字列を作る(参考)\n",
    "m = \"東京都\"  # 変えたい部分その1\n",
    "m = m+\"の降水確率は\"\n",
    "m = m+\"20\" # 変えたい部分その2\n",
    "m = m+\"%です。\"\n",
    "m"
   ]
  },
  {
   "cell_type": "code",
   "execution_count": null,
   "metadata": {},
   "outputs": [],
   "source": [
    "# 「置きかえ」で文字列を作る\n",
    "m = \"{場所}の降水確率は{数}%です。\"\n",
    "# {〜}を別の文字列に置きかえる\n",
    "m = m.replace(\"{場所}\", \"東京都\")\n",
    "m = m.replace(\"{数}\", \"20\")\n",
    "m"
   ]
  },
  {
   "cell_type": "code",
   "execution_count": null,
   "metadata": {},
   "outputs": [],
   "source": [
    "# replace()を使った文字列の「引き算」\n",
    "s = \"たメソたッドはたべたんりただ\"\n",
    "# 「た」を取り除く(たぬき暗号)\n",
    "s = s.replace(\"た\", \"\")\n",
    "s"
   ]
  },
  {
   "cell_type": "code",
   "execution_count": null,
   "metadata": {},
   "outputs": [],
   "source": [
    "# 日付のクラスをインポート\n",
    "from datetime import date\n",
    "# ネコ型ロボットの誕生日\n",
    "dora = date(2112, 9, 3)\n",
    "# めがね少年の誕生日\n",
    "nobi = date(1964, 8, 7)"
   ]
  },
  {
   "cell_type": "code",
   "execution_count": null,
   "metadata": {},
   "outputs": [],
   "source": [
    "# 日付の引き算\n",
    "dora - nobi"
   ]
  },
  {
   "cell_type": "code",
   "execution_count": null,
   "metadata": {},
   "outputs": [],
   "source": [
    "# 日付を比較する\n",
    "if dora > nobi:\n",
    "    print(\"doraはnobiより未来に生まれた\")\n",
    "else:\n",
    "    print(\"doraはnobiより過去に生まれた\")"
   ]
  },
  {
   "cell_type": "code",
   "execution_count": null,
   "metadata": {},
   "outputs": [],
   "source": []
  }
 ],
 "metadata": {
  "kernelspec": {
   "display_name": "Python 3 (ipykernel)",
   "language": "python",
   "name": "python3"
  },
  "language_info": {
   "codemirror_mode": {
    "name": "ipython",
    "version": 3
   },
   "file_extension": ".py",
   "mimetype": "text/x-python",
   "name": "python",
   "nbconvert_exporter": "python",
   "pygments_lexer": "ipython3",
   "version": "3.9.12"
  }
 },
 "nbformat": 4,
 "nbformat_minor": 2
}
