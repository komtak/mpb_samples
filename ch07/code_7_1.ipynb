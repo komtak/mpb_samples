{
 "cells": [
  {
   "cell_type": "markdown",
   "metadata": {},
   "source": [
    "# プログラム 7-1"
   ]
  },
  {
   "cell_type": "markdown",
   "metadata": {},
   "source": [
    "## 辞書"
   ]
  },
  {
   "cell_type": "code",
   "execution_count": null,
   "metadata": {},
   "outputs": [],
   "source": [
    "# 勇者のデータ構造(辞書)\n",
    "hero = {\"name\": \"勇者\",   # 名前\n",
    "            \"hp\": 100,         # 体力\n",
    "            \"mp\": 20}          # 魔力"
   ]
  },
  {
   "cell_type": "code",
   "execution_count": null,
   "metadata": {},
   "outputs": [],
   "source": [
    "# 魔法使いのデータ構造(辞書)\n",
    "magician = {\"name\": \"魔法使い\",\n",
    "                  \"hp\": 50,\n",
    "                  \"mp\": 80}"
   ]
  },
  {
   "cell_type": "code",
   "execution_count": null,
   "metadata": {},
   "outputs": [],
   "source": [
    "# heroのname(名前)を取り出す\n",
    "hero[\"name\"]  "
   ]
  },
  {
   "cell_type": "code",
   "execution_count": null,
   "metadata": {},
   "outputs": [],
   "source": [
    "# キーを指定して代入をする\n",
    "hero[\"name\"] = \"神官\""
   ]
  },
  {
   "cell_type": "code",
   "execution_count": null,
   "metadata": {},
   "outputs": [],
   "source": [
    "# heroの中にある辞書を表示する\n",
    "hero"
   ]
  },
  {
   "cell_type": "code",
   "execution_count": null,
   "metadata": {},
   "outputs": [],
   "source": [
    "# 関数を読み込む\n",
    "!pip install mpb_lib -qU\n",
    "from mpb_lib.apis import get_eq_info, dict_print"
   ]
  },
  {
   "cell_type": "code",
   "execution_count": null,
   "metadata": {},
   "outputs": [],
   "source": [
    "# 地震の情報を辞書で得る\n",
    "d = get_eq_info()"
   ]
  },
  {
   "cell_type": "code",
   "execution_count": null,
   "metadata": {},
   "outputs": [],
   "source": [
    "# 辞書を整形して表示\n",
    "dict_print(d)"
   ]
  },
  {
   "cell_type": "code",
   "execution_count": null,
   "metadata": {},
   "outputs": [],
   "source": [
    "# 震源の辞書を抜き出す\n",
    "hc = d[\"hypocenter\"]"
   ]
  },
  {
   "cell_type": "code",
   "execution_count": null,
   "metadata": {},
   "outputs": [],
   "source": [
    "# 震源の情報を確認する\n",
    "dict_print(hc)"
   ]
  },
  {
   "cell_type": "code",
   "execution_count": null,
   "metadata": {},
   "outputs": [],
   "source": [
    "# 地震の情報を文字列にする\n",
    "m = hc[\"name\"]  # 震源の地名\n",
    "m = m+\"で地震がありました。\"\n",
    "print(m)   # 文字列を表示"
   ]
  },
  {
   "cell_type": "code",
   "execution_count": null,
   "metadata": {},
   "outputs": [],
   "source": [
    "# さらに情報を追加する\n",
    "m = m+\"地震の強さは，\"\n",
    "m = m+\"マグニチュード\"+str(hc[\"magnitude\"])\n",
    "m = m+\"です。\"\n",
    "print(m) # 文字列を表示"
   ]
  },
  {
   "cell_type": "code",
   "execution_count": null,
   "metadata": {},
   "outputs": [],
   "source": [
    "# 津波の情報を追加\n",
    "if d[\"domesticTsunami\"] == \"None\":\n",
    "    m = m+\"津波の心配はありません。\"\n",
    "else:\n",
    "    m = m+\"津波に警戒してください。\"\n",
    "m # 文字列を表示"
   ]
  },
  {
   "cell_type": "code",
   "execution_count": null,
   "metadata": {},
   "outputs": [],
   "source": [
    "# プログラムを書きかえたり，まとめたりするのには，この下のセルを使ってください。"
   ]
  },
  {
   "cell_type": "code",
   "execution_count": null,
   "metadata": {},
   "outputs": [],
   "source": []
  },
  {
   "cell_type": "code",
   "execution_count": null,
   "metadata": {},
   "outputs": [],
   "source": []
  },
  {
   "cell_type": "markdown",
   "metadata": {},
   "source": [
    "## オマケ"
   ]
  },
  {
   "cell_type": "code",
   "execution_count": null,
   "metadata": {},
   "outputs": [],
   "source": [
    "# 気象庁が提供している，天気の情報を探険してみよう\n",
    "# ライブラリから，関数を読み込む\n",
    "from mpb_lib.apis import get_wf_json"
   ]
  },
  {
   "cell_type": "code",
   "execution_count": null,
   "metadata": {},
   "outputs": [],
   "source": [
    "# 東京の天気予報の情報を辞書に読み込む\n",
    "d =get_wf_json()"
   ]
  },
  {
   "cell_type": "code",
   "execution_count": null,
   "metadata": {},
   "outputs": [],
   "source": [
    "# 読み込んだ辞書の内容を表示する\n",
    "dict_print(d)"
   ]
  },
  {
   "cell_type": "code",
   "execution_count": null,
   "metadata": {},
   "outputs": [],
   "source": []
  }
 ],
 "metadata": {
  "kernelspec": {
   "display_name": "Python 3 (ipykernel)",
   "language": "python",
   "name": "python3"
  },
  "language_info": {
   "codemirror_mode": {
    "name": "ipython",
    "version": 3
   },
   "file_extension": ".py",
   "mimetype": "text/x-python",
   "name": "python",
   "nbconvert_exporter": "python",
   "pygments_lexer": "ipython3",
   "version": "3.9.12"
  }
 },
 "nbformat": 4,
 "nbformat_minor": 2
}
