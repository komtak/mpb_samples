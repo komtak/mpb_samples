{
 "cells": [
  {
   "cell_type": "code",
   "execution_count": null,
   "metadata": {},
   "outputs": [],
   "source": [
    "# 7-1-1\n",
    "# ライブラリをインストール，インポートする\n",
    "!pip install -Uq gtts\n",
    "from gtts import gTTS\n",
    "from IPython.display import Audio"
   ]
  },
  {
   "cell_type": "code",
   "execution_count": null,
   "metadata": {},
   "outputs": [],
   "source": [
    "# 7-1-2\n",
    "m = \"こんにちは\"\n",
    "tts = gTTS(m, lang=\"ja\")  # 音声合成をする"
   ]
  },
  {
   "cell_type": "code",
   "execution_count": null,
   "metadata": {},
   "outputs": [],
   "source": [
    "# 7-1-3\n",
    "tts.save(\"hello.mp3\")  # 音声を保存\n",
    "Audio(\"hello.mp3\")     # 音声を再生"
   ]
  },
  {
   "cell_type": "code",
   "execution_count": null,
   "metadata": {},
   "outputs": [],
   "source": [
    "# 7-1-4\n",
    "!pip -q install mpb_lib -U\n",
    "# 地震の情報を得るための関数を読み込む\n",
    "from mpb_lib.sugoi import get_eq_info2"
   ]
  },
  {
   "cell_type": "code",
   "execution_count": null,
   "metadata": {},
   "outputs": [],
   "source": [
    "# 7-1-5\n",
    "d = get_eq_info2()\n",
    "\n",
    "# 辞書のデータを変数に入れる\n",
    "p = d[\"name\"]\n",
    "mg = d[\"magnitude\"]\n",
    "dt = d[\"datetime\"]\n",
    "\n",
    "m = f\"{dt.month}月{dt.day}日{dt.hour}時ごろ\"\n",
    "m += f\"{p}で\"\n",
    "m += f\"マグニチュード{mg}の地震がありました。\"\n",
    "\n",
    "tts = gTTS(m, lang=\"ja\")  # 音声合成をする\n",
    "tts.save(\"hello.mp3\")  # 音声を保存\n",
    "Audio(\"hello.mp3\")     # 音声を再生"
   ]
  },
  {
   "cell_type": "code",
   "execution_count": null,
   "metadata": {},
   "outputs": [],
   "source": []
  }
 ],
 "metadata": {
  "kernelspec": {
   "display_name": "Python 3",
   "language": "python",
   "name": "python3"
  },
  "language_info": {
   "codemirror_mode": {
    "name": "ipython",
    "version": 3
   },
   "file_extension": ".py",
   "mimetype": "text/x-python",
   "name": "python",
   "nbconvert_exporter": "python",
   "pygments_lexer": "ipython3",
   "version": "3.7.3"
  }
 },
 "nbformat": 4,
 "nbformat_minor": 2
}
