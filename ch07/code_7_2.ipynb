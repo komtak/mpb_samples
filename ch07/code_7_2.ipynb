{
 "cells": [
  {
   "cell_type": "markdown",
   "metadata": {},
   "source": [
    "# プログラム 6-2"
   ]
  },
  {
   "cell_type": "code",
   "execution_count": null,
   "metadata": {},
   "outputs": [],
   "source": [
    "# 6-2-1\n",
    "!pip install mpb_lib -qU\n",
    "from mpb_lib.sugoi import ppl, get_eq_info"
   ]
  },
  {
   "cell_type": "code",
   "execution_count": null,
   "metadata": {},
   "outputs": [],
   "source": [
    "# 6-2-2\n",
    "pl = ppl()  # 降水確率のリストを取り出す\n",
    "pl   # リストを確認"
   ]
  },
  {
   "cell_type": "code",
   "execution_count": null,
   "metadata": {},
   "outputs": [],
   "source": [
    "# 6-2-3\n",
    "eq = get_eq_info()  # 地震の辞書を取り出す\n",
    "eq   # 辞書を確認"
   ]
  },
  {
   "cell_type": "code",
   "execution_count": null,
   "metadata": {},
   "outputs": [],
   "source": [
    "# 6-2-4\n",
    "pl[0]   # インデックスを使って，リストのなかみを取り出す"
   ]
  },
  {
   "cell_type": "code",
   "execution_count": null,
   "metadata": {},
   "outputs": [],
   "source": [
    "# 6-2-5\n",
    "eq[\"maxScale\"]  # キーを使って，リストのなかみを取り出す"
   ]
  },
  {
   "cell_type": "code",
   "execution_count": null,
   "metadata": {},
   "outputs": [],
   "source": [
    "# 6-2-6\n",
    "pl[3] = 100   # インデックスを使って，リストのなかみを入れ替える\n",
    "pl   # 結果を確認"
   ]
  },
  {
   "cell_type": "code",
   "execution_count": null,
   "metadata": {},
   "outputs": [],
   "source": [
    "# 6-2-7\n",
    "eq[\"maxScale\"] = 100  # キーを使って，辞書のなかみを入れ替える\n",
    "eq   # 結果を確認"
   ]
  },
  {
   "cell_type": "code",
   "execution_count": null,
   "metadata": {},
   "outputs": [],
   "source": [
    "# 6-2-8\n",
    "# リストを使ってループ\n",
    "for i in pl:\n",
    "    print(i)   # くり返し変数を表示"
   ]
  },
  {
   "cell_type": "code",
   "execution_count": null,
   "metadata": {},
   "outputs": [],
   "source": [
    "# 6-2-9\n",
    "# 辞書を使ってループ\n",
    "for k in eq:\n",
    "    print(k)   # くり返し変数を表示"
   ]
  },
  {
   "cell_type": "code",
   "execution_count": null,
   "metadata": {},
   "outputs": [],
   "source": [
    "# 6-2-10\n",
    "# リストに新しい数を追加(リストとリストの足し算)\n",
    "pl = pl+[0]\n",
    "pl  # 結果を確認"
   ]
  },
  {
   "cell_type": "code",
   "execution_count": null,
   "metadata": {},
   "outputs": [],
   "source": [
    "# 6-2-11\n",
    "# 辞書にあたらしいキーを追加(辞書にないキーを使って代入)\n",
    "eq[\"newkey\"] = 1\n",
    "eq    # 結果を確認"
   ]
  },
  {
   "cell_type": "code",
   "execution_count": null,
   "metadata": {},
   "outputs": [],
   "source": []
  }
 ],
 "metadata": {
  "kernelspec": {
   "display_name": "Python 3",
   "language": "python",
   "name": "python3"
  },
  "language_info": {
   "codemirror_mode": {
    "name": "ipython",
    "version": 3
   },
   "file_extension": ".py",
   "mimetype": "text/x-python",
   "name": "python",
   "nbconvert_exporter": "python",
   "pygments_lexer": "ipython3",
   "version": "3.7.3"
  }
 },
 "nbformat": 4,
 "nbformat_minor": 2
}
