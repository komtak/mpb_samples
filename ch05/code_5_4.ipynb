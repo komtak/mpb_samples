{
 "cells": [
  {
   "cell_type": "markdown",
   "metadata": {},
   "source": [
    "# プログラム 5-4"
   ]
  },
  {
   "cell_type": "code",
   "execution_count": null,
   "metadata": {},
   "outputs": [],
   "source": [
    "# 5-4-1\n",
    "# ライブラリをインストール，インポート\n",
    "!pip install mpb_lib -qU\n",
    "from mpb_lib.sound import load, play\n",
    "import matplotlib.pyplot as plt"
   ]
  },
  {
   "cell_type": "code",
   "execution_count": null,
   "metadata": {},
   "outputs": [],
   "source": [
    "# 5-4-2\n",
    "c = load(\"c\")  # ドの音を読み込む\n",
    "plt.plot(c)  # グラフ化"
   ]
  },
  {
   "cell_type": "code",
   "execution_count": null,
   "metadata": {},
   "outputs": [],
   "source": [
    "# 5-4-3\n",
    "plt.plot(c[:500])   # 先頭から500個だけ"
   ]
  },
  {
   "cell_type": "code",
   "execution_count": null,
   "metadata": {},
   "outputs": [],
   "source": [
    "# 5-4-4\n",
    "from math import sin, pi   # 三角関数を読み込む\n",
    "\n",
    "def generate_sound(freq, dur):\n",
    "    \"\"\"\n",
    "    音(サイン波)を作る関数\n",
    "    freqに周波数，durに長さ(秒数)を渡して呼び出す\n",
    "    \"\"\"\n",
    "    sfreq = 22050 # サンプリング周波数\n",
    "    factor = pi*freq/sfreq # 係数を計算\n",
    "    l = []   # リストを初期化\n",
    "    # ループを使ってリストを生成\n",
    "    for seg in range(int(dur*sfreq)):\n",
    "            s = sin(seg*factor)*2000\n",
    "            l = l + [s]\n",
    "    return l"
   ]
  },
  {
   "cell_type": "code",
   "execution_count": null,
   "metadata": {},
   "outputs": [],
   "source": [
    "# 5-4-5\n",
    "# ド(C6)の音を作る\n",
    "gc = generate_sound(1046, 0.5)\n",
    "play(gc)"
   ]
  },
  {
   "cell_type": "code",
   "execution_count": null,
   "metadata": {},
   "outputs": [],
   "source": [
    "# 5-4-6\n",
    "plt.plot(gc[:500])"
   ]
  },
  {
   "cell_type": "code",
   "execution_count": null,
   "metadata": {},
   "outputs": [],
   "source": [
    "# 5-4-7\n",
    "# ミ，ソの音を作る\n",
    "ge = generate_sound(1318, 0.5)\n",
    "gg = generate_sound(1568, 0.5)"
   ]
  },
  {
   "cell_type": "code",
   "execution_count": null,
   "metadata": {},
   "outputs": [],
   "source": [
    "# 5-4-8\n",
    "# ドミソの音を重ねる\n",
    "gceg = []\n",
    "for i in range(len(gc)):\n",
    "    v = (gc[i]+ge[i]+gg[i])/3\n",
    "    gceg += [v]\n"
   ]
  },
  {
   "cell_type": "code",
   "execution_count": null,
   "metadata": {},
   "outputs": [],
   "source": [
    "# 5-4-9\n",
    "play(gceg)  # 和音を鳴らす"
   ]
  },
  {
   "cell_type": "code",
   "execution_count": null,
   "metadata": {},
   "outputs": [],
   "source": [
    "# https://tomari.org/main/java/oto.html\n",
    "# 上のURLに，音ごとの周波数が書いてあります。"
   ]
  },
  {
   "cell_type": "code",
   "execution_count": null,
   "metadata": {},
   "outputs": [],
   "source": [
    "# 5-4-10\n",
    "# オマケ 音色を変える\n",
    "def generate_sound2(freq, dur, sub_freq_t, delta):\n",
    "    \"\"\"\n",
    "    音(サイン波)を作る関数\n",
    "    freqに周波数，durに長さ(秒数)を渡して呼び出す。\n",
    "    sub_freqには，主振動に加える副振動の周期(freqの倍率)\n",
    "    deltaには，副振動の振幅(種振幅/delta)を渡す。\n",
    "    \"\"\"\n",
    "    sfreq = 22050 # サンプリング周波数\n",
    "    factor = pi*freq/sfreq # 係数を計算\n",
    "    l = []   # リストを初期化\n",
    "    # ループを使ってリストを生成\n",
    "    for seg in range(int(dur*sfreq)):\n",
    "            s = sin(seg*factor)*2000+sin(seg*factor*sub_freq_t)*2000/delta\n",
    "            l = l + [s]\n",
    "    return l"
   ]
  },
  {
   "cell_type": "code",
   "execution_count": null,
   "metadata": {},
   "outputs": [],
   "source": [
    "# 5-4-11\n",
    "# ド(C6)の音を作る\n",
    "# 次の二つの変数を変えると，音色が変わります\n",
    "subfreq = 2\n",
    "delta = 2  # この数は0にはしないでください(エラーになります)\n",
    "gc = generate_sound2(1046, 0.5, subfreq, delta)\n",
    "play(gc)"
   ]
  },
  {
   "cell_type": "code",
   "execution_count": null,
   "metadata": {},
   "outputs": [],
   "source": [
    "# 5-4-12\n",
    "plt.plot(gc[:500])  # 音の形をグラフに描く"
   ]
  },
  {
   "cell_type": "markdown",
   "metadata": {},
   "source": [
    "## オマケ\n",
    "### 計算でコンピュータの声(あいうえ)を合成する"
   ]
  },
  {
   "cell_type": "code",
   "execution_count": null,
   "metadata": {},
   "outputs": [],
   "source": [
    "from mpb_lib.vowelgen import generate_vowel"
   ]
  },
  {
   "cell_type": "code",
   "execution_count": null,
   "metadata": {},
   "outputs": [],
   "source": [
    "generate_vowel(9, 1, 8, 7)  # 「あ」の音を合成する"
   ]
  },
  {
   "cell_type": "code",
   "execution_count": null,
   "metadata": {},
   "outputs": [],
   "source": [
    "generate_vowel(9, 8, 6, 1)  # 「い」の音を合成する"
   ]
  },
  {
   "cell_type": "code",
   "execution_count": null,
   "metadata": {},
   "outputs": [],
   "source": [
    "generate_vowel(10, 7, 7, 3)  # 「う」の音を合成する"
   ]
  },
  {
   "cell_type": "code",
   "execution_count": null,
   "metadata": {},
   "outputs": [],
   "source": [
    "generate_vowel(4, 1, 10, 8)  # 「え」の音を合成する"
   ]
  },
  {
   "cell_type": "markdown",
   "metadata": {},
   "source": [
    "![method](https://raw.githubusercontent.com/shibats/mpb_samples/main/ch05/method.png)"
   ]
  },
  {
   "cell_type": "code",
   "execution_count": null,
   "metadata": {},
   "outputs": [],
   "source": []
  }
 ],
 "metadata": {
  "kernelspec": {
   "display_name": "Python 3 (ipykernel)",
   "language": "python",
   "name": "python3"
  },
  "language_info": {
   "codemirror_mode": {
    "name": "ipython",
    "version": 3
   },
   "file_extension": ".py",
   "mimetype": "text/x-python",
   "name": "python",
   "nbconvert_exporter": "python",
   "pygments_lexer": "ipython3",
   "version": "3.9.12"
  }
 },
 "nbformat": 4,
 "nbformat_minor": 2
}
