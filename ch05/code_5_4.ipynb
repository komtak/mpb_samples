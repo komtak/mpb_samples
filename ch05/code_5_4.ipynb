{
 "cells": [
  {
   "cell_type": "markdown",
   "metadata": {},
   "source": [
    "# プログラム 5-4"
   ]
  },
  {
   "cell_type": "markdown",
   "metadata": {},
   "source": [
    "## 5-10 いろいろなライブラリ"
   ]
  },
  {
   "cell_type": "code",
   "execution_count": null,
   "metadata": {},
   "outputs": [],
   "source": [
    "# グラフを描くライブラリをインポート\n",
    "import matplotlib.pyplot as plt"
   ]
  },
  {
   "cell_type": "code",
   "execution_count": null,
   "metadata": {},
   "outputs": [],
   "source": [
    "# ライブラリをインストール\n",
    "!pip install mpb_lib -qU"
   ]
  },
  {
   "cell_type": "code",
   "execution_count": null,
   "metadata": {},
   "outputs": [],
   "source": [
    "# ライブラリから読み込む\n",
    "from mpb_lib.sound import load, play"
   ]
  },
  {
   "cell_type": "code",
   "execution_count": null,
   "metadata": {},
   "outputs": [],
   "source": [
    "c = load(\"c\")  # ドの音を読み込む\n",
    "plt.plot(c)  # グラフ化"
   ]
  },
  {
   "cell_type": "code",
   "execution_count": null,
   "metadata": {},
   "outputs": [],
   "source": [
    "plt.plot(c[:500])   # 先頭から500個だけ"
   ]
  },
  {
   "cell_type": "code",
   "execution_count": null,
   "metadata": {},
   "outputs": [],
   "source": [
    "from math import sin, pi\n",
    "\n",
    "def generate_sound(freq, dur):\n",
    "    \"\"\"\n",
    "    音(サイン波)を作る関数\n",
    "    freqに周波数，durに長さ(秒数)を渡して呼び出す\n",
    "    \"\"\"\n",
    "    sfreq = 22050 # サンプリング周波数\n",
    "    factor = pi*freq/sfreq # 係数を計算\n",
    "    l = []   # リストを初期化\n",
    "    # ループを使ってリストを生成\n",
    "    for seg in range(int(dur*sfreq)):\n",
    "            s = sin(seg*factor)*2000\n",
    "            l = l + [s]\n",
    "    return l"
   ]
  },
  {
   "cell_type": "code",
   "execution_count": null,
   "metadata": {},
   "outputs": [],
   "source": [
    "# ド(C6)の音を作る\n",
    "gc = generate_sound(1046, 0.5)\n",
    "play(gc)"
   ]
  },
  {
   "cell_type": "code",
   "execution_count": null,
   "metadata": {},
   "outputs": [],
   "source": [
    "plt.plot(gc[:500])"
   ]
  },
  {
   "cell_type": "code",
   "execution_count": null,
   "metadata": {},
   "outputs": [],
   "source": [
    "# ミ，ソの音を作る\n",
    "ge = generate_sound(1318, 0.5)\n",
    "gg = generate_sound(1568, 0.5)"
   ]
  },
  {
   "cell_type": "code",
   "execution_count": null,
   "metadata": {},
   "outputs": [],
   "source": [
    "# 音を重ねる\n",
    "gceg = []\n",
    "for i in range(len(gc)):\n",
    "    v = gc[i]+ge[i]+gg[i]\n",
    "    gceg += [v]\n"
   ]
  },
  {
   "cell_type": "code",
   "execution_count": null,
   "metadata": {},
   "outputs": [],
   "source": [
    "play(gceg)  # 和音を鳴らす"
   ]
  },
  {
   "cell_type": "code",
   "execution_count": null,
   "metadata": {},
   "outputs": [],
   "source": [
    "plt.plot(gceg[:500])"
   ]
  },
  {
   "cell_type": "code",
   "execution_count": null,
   "metadata": {},
   "outputs": [],
   "source": [
    "# https://tomari.org/main/java/oto.html\n",
    "# 上のURLに，音ごとの周波数が書いてあります。"
   ]
  },
  {
   "cell_type": "code",
   "execution_count": null,
   "metadata": {},
   "outputs": [],
   "source": [
    "# オマケ 音色を変える\n",
    "def generate_sound2(freq, dur, sub_freq_t, delta):\n",
    "    \"\"\"\n",
    "    音(サイン波)を作る関数\n",
    "    freqに周波数，durに長さ(秒数)を渡して呼び出す。\n",
    "    sub_freqには，主振動に加える副振動の周期(freqの倍率)\n",
    "    deltaには，副振動の振幅(種振幅/delta)を渡す。\n",
    "    \"\"\"\n",
    "    sfreq = 22050 # サンプリング周波数\n",
    "    factor = pi*freq/sfreq # 係数を計算\n",
    "    l = []   # リストを初期化\n",
    "    # ループを使ってリストを生成\n",
    "    for seg in range(int(dur*sfreq)):\n",
    "            s = sin(seg*factor)*2000+sin(seg*factor*sub_freq_t)*2000/delta\n",
    "            l = l + [s]\n",
    "    return l"
   ]
  },
  {
   "cell_type": "code",
   "execution_count": null,
   "metadata": {},
   "outputs": [],
   "source": [
    "# ド(C6)の音を作る\n",
    "# 次の二つの変数を変えると，音色が変わります\n",
    "subfreq = 2\n",
    "delta = 2  # この数は0にはしないでください(エラーになります)\n",
    "gc = generate_sound2(1046, 0.5, subfreq, delta)\n",
    "play(gc)"
   ]
  },
  {
   "cell_type": "code",
   "execution_count": null,
   "metadata": {},
   "outputs": [],
   "source": [
    "plt.plot(gc[:500])  # 音の形をグラフに描く"
   ]
  },
  {
   "cell_type": "code",
   "execution_count": null,
   "metadata": {},
   "outputs": [],
   "source": []
  }
 ],
 "metadata": {
  "kernelspec": {
   "display_name": "Python 3",
   "language": "python",
   "name": "python3"
  },
  "language_info": {
   "codemirror_mode": {
    "name": "ipython",
    "version": 3
   },
   "file_extension": ".py",
   "mimetype": "text/x-python",
   "name": "python",
   "nbconvert_exporter": "python",
   "pygments_lexer": "ipython3",
   "version": "3.7.3"
  }
 },
 "nbformat": 4,
 "nbformat_minor": 2
}
