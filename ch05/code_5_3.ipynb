{
 "cells": [
  {
   "cell_type": "markdown",
   "metadata": {},
   "source": [
    "# プログラム 4-3"
   ]
  },
  {
   "cell_type": "markdown",
   "metadata": {},
   "source": [
    "## 組み込み関数"
   ]
  },
  {
   "cell_type": "code",
   "execution_count": null,
   "metadata": {},
   "outputs": [],
   "source": [
    "# 文字列を数に変える\n",
    "s1 = \"100\"\n",
    "s2 = \"200\"\n",
    "a = int(s1)+int(s2)\n",
    "print(a)   # 結果を表示"
   ]
  },
  {
   "cell_type": "code",
   "execution_count": null,
   "metadata": {},
   "outputs": [],
   "source": [
    "# 関数を読み込む\n",
    "!pip install mpb_lib -qU\n",
    "from mpb_lib.apis import get_rp, get_rpl"
   ]
  },
  {
   "cell_type": "code",
   "execution_count": null,
   "metadata": {},
   "outputs": [],
   "source": [
    "# 文字列を入力する\n",
    "area_str = input(\"地域番号(東京は13)\")"
   ]
  },
  {
   "cell_type": "code",
   "execution_count": null,
   "metadata": {},
   "outputs": [],
   "source": [
    "# 文字列を数にする\n",
    "area = int(area_str)\n",
    "# 地域を指定して降水確率を得る\n",
    "rp = get_rp(area)"
   ]
  },
  {
   "cell_type": "code",
   "execution_count": null,
   "metadata": {},
   "outputs": [],
   "source": [
    "# 文字列を数に変える\n",
    "message = \"降水確率は\"+str(rp)+\"%です。\"\n",
    "print(message)   # 結果を表示"
   ]
  },
  {
   "cell_type": "code",
   "execution_count": null,
   "metadata": {},
   "outputs": [],
   "source": [
    "# 合計を計算する\n",
    "rpl = [30, 20, 0, 10]\n",
    "s = sum(rpl)   # 合計を計算する\n",
    "print(s)  # 結果を表示"
   ]
  },
  {
   "cell_type": "code",
   "execution_count": null,
   "metadata": {},
   "outputs": [],
   "source": [
    "# 平均値を計算する\n",
    "avg = s/4\n",
    "print(avg)   # 結果を表示"
   ]
  },
  {
   "cell_type": "code",
   "execution_count": null,
   "metadata": {},
   "outputs": [],
   "source": [
    "# 最大値を計算する\n",
    "rpl = [0, 10, 90, 20]\n",
    "m = max(rpl)\n",
    "print(m)   # 結果を表示"
   ]
  },
  {
   "cell_type": "code",
   "execution_count": null,
   "metadata": {},
   "outputs": [],
   "source": [
    "# かさは必要？\n",
    "rpl = get_rpl()  # 降水確率をリストで得る\n",
    "pm = max(rpl)  # 最大値を得る\n",
    "if pm > 50:\n",
    "    message = \"かさが必要になりそうです\"\n",
    "else:\n",
    "    message = \"かさは必要なさそうです\"\n",
    "print(message)"
   ]
  },
  {
   "cell_type": "code",
   "execution_count": null,
   "metadata": {},
   "outputs": [],
   "source": [
    "# 10回繰り返す\n",
    "for i in range(10):\n",
    "    print(i)"
   ]
  },
  {
   "cell_type": "code",
   "execution_count": null,
   "metadata": {},
   "outputs": [],
   "source": [
    "# 侍(さむらい)を探せ\n",
    "q = (\"待待待待待待待待待待\"\n",
    "       \"待待侍待待待待待待待\"\n",
    "       \"待待待待待待待待待待\"\n",
    "       \"待待待待待侍待待待待\"\n",
    "       \"待待待待待待待待待待\"\n",
    "       \"待待待待待待待待待待\")"
   ]
  },
  {
   "cell_type": "code",
   "execution_count": null,
   "metadata": {},
   "outputs": [],
   "source": [
    "# rangeを使って探す\n",
    "for i in range(60):\n",
    "    if q[i] != \"待\":\n",
    "        print(i)"
   ]
  },
  {
   "cell_type": "code",
   "execution_count": null,
   "metadata": {},
   "outputs": [],
   "source": [
    "# リストに数は何個ある？\n",
    "rpl = get_rpl()"
   ]
  },
  {
   "cell_type": "code",
   "execution_count": null,
   "metadata": {},
   "outputs": [],
   "source": [
    "# リスト(など)の中の個数を得る\n",
    "len(rpl)"
   ]
  },
  {
   "cell_type": "code",
   "execution_count": null,
   "metadata": {},
   "outputs": [],
   "source": [
    "# lenで平均を計算する\n",
    "s  = sum(rpl)  # 合計\n",
    "l = len(rpl)   # 長さ\n",
    "print(s/l)   # 平均値"
   ]
  },
  {
   "cell_type": "code",
   "execution_count": null,
   "metadata": {},
   "outputs": [],
   "source": [
    "# 一行にまとめる\n",
    "sum(rpl)/len(rpl)"
   ]
  },
  {
   "cell_type": "code",
   "execution_count": null,
   "metadata": {},
   "outputs": [],
   "source": [
    "# オマケ\n",
    "\n",
    "ps = input(\"地域番号を入力してください\")\n",
    "p = int(ps)      # 文字列を数に変換する\n",
    "pl = ppl(p)      # 指定地域の降水確率をリストで得る\n",
    "pm = max(pl)  # 最大値を得る\n",
    "\n",
    "if pm > 50:\n",
    "    print(\"その場所では，かさを持って出かけたほうがよさそうです。\")\n",
    "else:\n",
    "    print(\"その場所では，かさを持たずに出かけてもよさそうです。\")"
   ]
  },
  {
   "cell_type": "code",
   "execution_count": null,
   "metadata": {},
   "outputs": [],
   "source": []
  }
 ],
 "metadata": {
  "kernelspec": {
   "display_name": "Python 3 (ipykernel)",
   "language": "python",
   "name": "python3"
  },
  "language_info": {
   "codemirror_mode": {
    "name": "ipython",
    "version": 3
   },
   "file_extension": ".py",
   "mimetype": "text/x-python",
   "name": "python",
   "nbconvert_exporter": "python",
   "pygments_lexer": "ipython3",
   "version": "3.9.12"
  }
 },
 "nbformat": 4,
 "nbformat_minor": 2
}
