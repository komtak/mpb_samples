{
 "cells": [
  {
   "cell_type": "markdown",
   "metadata": {},
   "source": [
    "# プログラム 5-3"
   ]
  },
  {
   "cell_type": "markdown",
   "metadata": {},
   "source": [
    "## 5-6 ライブラリ"
   ]
  },
  {
   "cell_type": "code",
   "execution_count": null,
   "metadata": {},
   "outputs": [],
   "source": [
    "# ライブラリをインストール\n",
    "!pip install mpb_lib -qU"
   ]
  },
  {
   "cell_type": "code",
   "execution_count": null,
   "metadata": {},
   "outputs": [],
   "source": [
    "# 関数を読み込む\n",
    "from mpb_lib.cannon import cannon_game3"
   ]
  },
  {
   "cell_type": "code",
   "execution_count": null,
   "metadata": {},
   "outputs": [],
   "source": [
    "p = 32  # 火薬の量\n",
    "cannon_game3(p) # 大砲を撃つ"
   ]
  },
  {
   "cell_type": "code",
   "execution_count": null,
   "metadata": {},
   "outputs": [],
   "source": [
    "# さらに関数を読み込む\n",
    "from mpb_lib.cannon import get_distance, calc_powder"
   ]
  },
  {
   "cell_type": "code",
   "execution_count": null,
   "metadata": {},
   "outputs": [],
   "source": [
    "d = get_distance()  # 壁までの距離をはかる\n",
    "p = calc_powder(d)  # 火薬の量を計算する\n",
    "cannon_game3(p) # 大砲を撃つ"
   ]
  },
  {
   "cell_type": "markdown",
   "metadata": {},
   "source": [
    "## 5-7 モジュールとパッケージ"
   ]
  },
  {
   "cell_type": "code",
   "execution_count": null,
   "metadata": {},
   "outputs": [],
   "source": [
    "from random import randint"
   ]
  },
  {
   "cell_type": "code",
   "execution_count": null,
   "metadata": {},
   "outputs": [],
   "source": [
    "randint(1, 6)  # サイコロを振る"
   ]
  },
  {
   "cell_type": "code",
   "execution_count": null,
   "metadata": {},
   "outputs": [],
   "source": [
    "randint(1, 3)  # じゃんけんぽん"
   ]
  },
  {
   "cell_type": "code",
   "execution_count": null,
   "metadata": {},
   "outputs": [],
   "source": [
    "# じゃんけんゲーム\n",
    "# 人間が手を選ぶ\n",
    "# 必ず1，２，３を入力してください。でないとプログラムが正しく動きません。\n",
    "hands = [\"グー\", \"チョキ\", \"パー\"]  # 手の名前をリストに定義する\n",
    "h = input(\"1:グー，2:チョキ，3:パー\")\n",
    "h = int(h)  # 文字列を数に変換\n",
    "p = randint(1, 3)  # コンピュータの手を乱数で決める\n",
    "# リストを使って手を表示\n",
    "print(\"人間が\", hands[h-1], \"コンピュータが\", hands[p-1])\n",
    "if h == p:\n",
    "    print(\"あいこ。\")\n",
    "if h == 1 and p == 2:  #人：グー，コ：チョキ\n",
    "    print(\"人間の勝ち\")\n",
    "if h == 1 and p == 3:  #人：グー，コ：パー\n",
    "    print(\"人間の負け\")\n",
    "if h == 2 and p == 3:  #人：チョキ，コ：パー\n",
    "    print(\"人間の勝ち\")\n",
    "if h == 2 and p == 1:  #人：チョキ，コ：グー\n",
    "    print(\"人間の負け\")\n",
    "if h == 3 and p == 1:  #人：パー，コ：グー\n",
    "    print(\"人間の勝ち\")\n",
    "if h == 3 and p == 2:  #人：パー，コ：チョキ\n",
    "    print(\"人間の負け\")"
   ]
  },
  {
   "cell_type": "code",
   "execution_count": null,
   "metadata": {},
   "outputs": [],
   "source": [
    "import random  # 「入れ物」を読み込む"
   ]
  },
  {
   "cell_type": "code",
   "execution_count": null,
   "metadata": {},
   "outputs": [],
   "source": [
    "p = random.randint(1, 3) # じゃんけんぽん\n",
    "print(p) # 手を表示"
   ]
  },
  {
   "cell_type": "code",
   "execution_count": null,
   "metadata": {},
   "outputs": [],
   "source": [
    "# 入れ物から(from)中身を取り出す(import)\n",
    "from random import randint\n",
    "randint(1, 3)  # じゃんけんの手を取り出し，表示"
   ]
  },
  {
   "cell_type": "code",
   "execution_count": null,
   "metadata": {},
   "outputs": [],
   "source": [
    "# 関数を読み込む\n",
    "from urllib.request import urlopen"
   ]
  },
  {
   "cell_type": "code",
   "execution_count": null,
   "metadata": {},
   "outputs": [],
   "source": [
    "# URL(文字列)を変数に代入\n",
    "url = \"https://www.jma.go.jp/bosai/forecast/data/forecast/130000.json\"\n",
    "r = urlopen(url)  # 天気予報の情報を読み込む\n",
    "print(r.read())  # 読み込んだ情報を表示する"
   ]
  },
  {
   "cell_type": "code",
   "execution_count": null,
   "metadata": {},
   "outputs": [],
   "source": []
  }
 ],
 "metadata": {
  "kernelspec": {
   "display_name": "Python 3",
   "language": "python",
   "name": "python3"
  },
  "language_info": {
   "codemirror_mode": {
    "name": "ipython",
    "version": 3
   },
   "file_extension": ".py",
   "mimetype": "text/x-python",
   "name": "python",
   "nbconvert_exporter": "python",
   "pygments_lexer": "ipython3",
   "version": "3.7.3"
  }
 },
 "nbformat": 4,
 "nbformat_minor": 2
}
