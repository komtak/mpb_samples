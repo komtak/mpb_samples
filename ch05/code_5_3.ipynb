{
 "cells": [
  {
   "cell_type": "markdown",
   "metadata": {},
   "source": [
    "# プログラム 5-3"
   ]
  },
  {
   "cell_type": "code",
   "execution_count": null,
   "metadata": {},
   "outputs": [],
   "source": [
    "# 5-3-1\n",
    "from random import randint  # 乱数を作る関数を読み込む"
   ]
  },
  {
   "cell_type": "code",
   "execution_count": null,
   "metadata": {},
   "outputs": [],
   "source": [
    "# 5-3-2\n",
    "randint(1, 6)  # さいころを振る"
   ]
  },
  {
   "cell_type": "code",
   "execution_count": null,
   "metadata": {},
   "outputs": [],
   "source": [
    "# 5-3-3\n",
    "randint(1, 3)  # じゃんけんぽん"
   ]
  },
  {
   "cell_type": "code",
   "execution_count": null,
   "metadata": {},
   "outputs": [],
   "source": [
    "# 5-3-4\n",
    "# じゃんけんゲーム\n",
    "# 人間が手を選ぶ\n",
    "# 必ず1，２，３を入力してください。でないとプログラムが正しく動きません。\n",
    "hands = [\"グー\", \"チョキ\", \"パー\"]  # 手の名前をリストに定義する\n",
    "\n",
    "# 人間の手を決める\n",
    "h = input(\"1:グー，2:チョキ，3:パー\")\n",
    "h = int(h)  # 文字列を数に変換\n",
    "\n",
    "# コンピュータの手を決める\n",
    "p = randint(1, 3)  # コンピュータの手を乱数で決める\n",
    "\n",
    "# リストを使って手を表示\n",
    "print(\"人間が\", hands[h-1], \"コンピュータが\", hands[p-1])\n",
    "\n",
    "# 手によって，勝ち負けを判断する\n",
    "if h == p:\n",
    "    print(\"あいこ。\")\n",
    "if h == 1 and p == 2:  #人：グー，コ：チョキ\n",
    "    print(\"人間の勝ち\")\n",
    "if h == 1 and p == 3:  #人：グー，コ：パー\n",
    "    print(\"人間の負け\")\n",
    "if h == 2 and p == 3:  #人：チョキ，コ：パー\n",
    "    print(\"人間の勝ち\")\n",
    "if h == 2 and p == 1:  #人：チョキ，コ：グー\n",
    "    print(\"人間の負け\")\n",
    "if h == 3 and p == 1:  #人：パー，コ：グー\n",
    "    print(\"人間の勝ち\")\n",
    "if h == 3 and p == 2:  #人：パー，コ：チョキ\n",
    "    print(\"人間の負け\")"
   ]
  },
  {
   "cell_type": "code",
   "execution_count": null,
   "metadata": {},
   "outputs": [],
   "source": [
    "# 5-3-5\n",
    "from calendar import monthcalendar  # 関数を読み込む\n",
    "\n",
    "y = input(\"西暦を入力してください\")\n",
    "m = input(\"月を入力してください\")\n",
    "y = int(y)   # 文字列を数にする\n",
    "m = int(m)\n",
    "monthcalendar(y, m)  # y月m日のカレンダーを表示"
   ]
  },
  {
   "cell_type": "code",
   "execution_count": 16,
   "metadata": {},
   "outputs": [
    {
     "data": {
      "text/plain": [
       "20"
      ]
     },
     "execution_count": 16,
     "metadata": {},
     "output_type": "execute_result"
    }
   ],
   "source": [
    "# 5-3-6\n",
    "from statistics import mean  # 関数を読み込む\n",
    "pl = [10, 10, 20, 40]  # 降水確率のリスト\n",
    "mean(pl)"
   ]
  },
  {
   "cell_type": "code",
   "execution_count": null,
   "metadata": {},
   "outputs": [],
   "source": []
  }
 ],
 "metadata": {
  "kernelspec": {
   "display_name": "Python 3",
   "language": "python",
   "name": "python3"
  },
  "language_info": {
   "codemirror_mode": {
    "name": "ipython",
    "version": 3
   },
   "file_extension": ".py",
   "mimetype": "text/x-python",
   "name": "python",
   "nbconvert_exporter": "python",
   "pygments_lexer": "ipython3",
   "version": "3.7.3"
  }
 },
 "nbformat": 4,
 "nbformat_minor": 2
}
