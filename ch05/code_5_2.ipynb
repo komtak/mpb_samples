{
 "cells": [
  {
   "cell_type": "markdown",
   "metadata": {},
   "source": [
    "# プログラム 5-2"
   ]
  },
  {
   "cell_type": "markdown",
   "metadata": {},
   "source": [
    "## 5-3 計算で「ものごと」をコントロールする"
   ]
  },
  {
   "cell_type": "code",
   "execution_count": null,
   "metadata": {},
   "outputs": [],
   "source": [
    "# 関数を読み込む\n",
    "!pip install mpb_lib -qU\n",
    "from mpb_lib.sound import load, play"
   ]
  },
  {
   "cell_type": "code",
   "execution_count": null,
   "metadata": {},
   "outputs": [],
   "source": [
    "c = load(\"c\")  # ドの音を読み込む"
   ]
  },
  {
   "cell_type": "code",
   "execution_count": null,
   "metadata": {},
   "outputs": [],
   "source": [
    "c  # cという変数の中身を確認する"
   ]
  },
  {
   "cell_type": "code",
   "execution_count": null,
   "metadata": {},
   "outputs": [],
   "source": [
    "len(c)  # リストの長さを調べる"
   ]
  },
  {
   "cell_type": "code",
   "execution_count": null,
   "metadata": {},
   "outputs": [],
   "source": [
    "play(c)  # リストを引数に渡して音を鳴らす"
   ]
  },
  {
   "cell_type": "code",
   "execution_count": null,
   "metadata": {},
   "outputs": [],
   "source": [
    "# d(レ)，e(ミ)，f(ファ)，g(ソ)，a(ラ)，b(シ)を読み込む\n",
    "d = load(\"d\")  # レ\n",
    "e = load(\"e\")  # ミ\n",
    "f = load(\"f\")  # ファ\n",
    "g = load(\"g\")  # ソ\n",
    "a = load(\"a\")  # ラ\n",
    "b = load(\"b\")  # シ"
   ]
  },
  {
   "cell_type": "code",
   "execution_count": null,
   "metadata": {},
   "outputs": [],
   "source": [
    "play(d)  # 音を確認する(かっこの中の変数を変えると，音も変わります)"
   ]
  },
  {
   "cell_type": "code",
   "execution_count": null,
   "metadata": {},
   "outputs": [],
   "source": [
    "play(c+d+e)  # 足し算はリストをつなげる"
   ]
  },
  {
   "cell_type": "code",
   "execution_count": null,
   "metadata": {},
   "outputs": [],
   "source": [
    "def shorten(l, n):\n",
    "    # リストlを，先頭からnの長さにして\n",
    "    # 戻り値としてかえす関数\n",
    "    new_list = [] # 戻り値として返すリスト\n",
    "    for i in range(n):\n",
    "        new_list += [l[i]]\n",
    "    return new_list"
   ]
  },
  {
   "cell_type": "code",
   "execution_count": null,
   "metadata": {},
   "outputs": [],
   "source": [
    "play(shorten(c, 4000))  # 関数を使ってリストを短くする"
   ]
  },
  {
   "cell_type": "code",
   "execution_count": null,
   "metadata": {},
   "outputs": [],
   "source": [
    "play(c[:4000])  # スライスを使ってリストを短くする"
   ]
  },
  {
   "cell_type": "code",
   "execution_count": null,
   "metadata": {},
   "outputs": [],
   "source": [
    "play(c[:4000]+d[:4000]+e[:4000])"
   ]
  },
  {
   "cell_type": "code",
   "execution_count": null,
   "metadata": {},
   "outputs": [],
   "source": [
    "play(c[:18000]+d[:6000]+e[:18000]+c[:6000]+e[:12000]+c[:12000]+e[:12000])"
   ]
  },
  {
   "cell_type": "code",
   "execution_count": null,
   "metadata": {},
   "outputs": [],
   "source": [
    "def array_add(l1, l2):\n",
    "    # l1とl2のリストの数を足して\n",
    "    # 新しいリストを作って返す関数\n",
    "    # l2よりl1が長いと，エラーになる\n",
    "    new_list = []  # 新しいリスト\n",
    "    for i in range(len(l1)):\n",
    "        v = l1[i]+l2[i]\n",
    "        new_list += [v]\n",
    "    return new_list"
   ]
  },
  {
   "cell_type": "code",
   "execution_count": null,
   "metadata": {},
   "outputs": [],
   "source": [
    "ce = array_add(c, e)  # ドとミの音を重ねる\n",
    "play(ce)   # 音を鳴らす"
   ]
  },
  {
   "cell_type": "code",
   "execution_count": null,
   "metadata": {},
   "outputs": [],
   "source": [
    "ceg = array_add(ce, g)  # ドミとソの音を重ねる\n",
    "play(ceg)   # 音を鳴らす"
   ]
  }
 ],
 "metadata": {
  "kernelspec": {
   "display_name": "Python 3",
   "language": "python",
   "name": "python3"
  },
  "language_info": {
   "codemirror_mode": {
    "name": "ipython",
    "version": 3
   },
   "file_extension": ".py",
   "mimetype": "text/x-python",
   "name": "python",
   "nbconvert_exporter": "python",
   "pygments_lexer": "ipython3",
   "version": "3.7.3"
  }
 },
 "nbformat": 4,
 "nbformat_minor": 2
}
