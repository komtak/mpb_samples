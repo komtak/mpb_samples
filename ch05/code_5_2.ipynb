{
 "cells": [
  {
   "cell_type": "markdown",
   "metadata": {},
   "source": [
    "# プログラム 5-2"
   ]
  },
  {
   "cell_type": "code",
   "execution_count": null,
   "metadata": {},
   "outputs": [],
   "source": [
    "# 末(すえ)を探せ\n",
    "q = (\"未未未未未未未未未未\"\n",
    "       \"未未未未未未未未未未\"\n",
    "       \"未未未未未未未未未未\"\n",
    "       \"未未未未未未未未未未\"\n",
    "       \"未未末未未未未未未未\"\n",
    "       \"未未未未未未未未未未\")"
   ]
  },
  {
   "cell_type": "code",
   "execution_count": null,
   "metadata": {},
   "outputs": [],
   "source": [
    "# 変数の中身を確認\n",
    "q"
   ]
  },
  {
   "cell_type": "code",
   "execution_count": null,
   "metadata": {},
   "outputs": [],
   "source": [
    "# 文字列を使ったループ\n",
    "for c in q:\n",
    "    print(c)"
   ]
  },
  {
   "cell_type": "code",
   "execution_count": null,
   "metadata": {},
   "outputs": [],
   "source": [
    "# 末(すえ)を探して順番を表示する\n",
    "index = 0  # 順番の数を0にする\n",
    "for c in q:\n",
    "    if c != \"未\": # \"未\"でない場合\n",
    "        print(index)  # 答えを表示\n",
    "    index = index+1  # 順番を1つ増やす"
   ]
  },
  {
   "cell_type": "code",
   "execution_count": null,
   "metadata": {},
   "outputs": [],
   "source": [
    "# whileで末(すえ)を見つける\n",
    "index = 0  # 順番の数を0にする\n",
    "while q[index] != \"末\":\n",
    "    index = index+1  # 順番を1つ増やす\n",
    "print(index)  # 答えを表示"
   ]
  },
  {
   "cell_type": "code",
   "execution_count": null,
   "metadata": {},
   "outputs": [],
   "source": []
  },
  {
   "cell_type": "code",
   "execution_count": null,
   "metadata": {},
   "outputs": [],
   "source": []
  }
 ],
 "metadata": {
  "kernelspec": {
   "display_name": "Python 3 (ipykernel)",
   "language": "python",
   "name": "python3"
  },
  "language_info": {
   "codemirror_mode": {
    "name": "ipython",
    "version": 3
   },
   "file_extension": ".py",
   "mimetype": "text/x-python",
   "name": "python",
   "nbconvert_exporter": "python",
   "pygments_lexer": "ipython3",
   "version": "3.9.12"
  }
 },
 "nbformat": 4,
 "nbformat_minor": 2
}
