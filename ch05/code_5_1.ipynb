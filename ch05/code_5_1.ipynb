{
 "cells": [
  {
   "cell_type": "markdown",
   "metadata": {},
   "source": [
    "# プログラム 5-1"
   ]
  },
  {
   "cell_type": "code",
   "execution_count": 16,
   "metadata": {},
   "outputs": [],
   "source": [
    "# 5-1-1\n",
    "h = 10     # 時(hour)\n",
    "m = 59    # 分(minute)\n",
    "s = 32     # 秒(second)"
   ]
  },
  {
   "cell_type": "code",
   "execution_count": 17,
   "metadata": {},
   "outputs": [
    {
     "data": {
      "text/plain": [
       "39572"
      ]
     },
     "execution_count": 17,
     "metadata": {},
     "output_type": "execute_result"
    }
   ],
   "source": [
    "# 5-1-2\n",
    "h*60*60+m*60+s"
   ]
  },
  {
   "cell_type": "code",
   "execution_count": 18,
   "metadata": {},
   "outputs": [
    {
     "name": "stdout",
     "output_type": "stream",
     "text": [
      "10 時 59 分 37 秒\n"
     ]
    }
   ],
   "source": [
    "# 5-1-3\n",
    "s = s+5    # 5秒後\n",
    "print(h, \"時\", m, \"分\", s, \"秒\")"
   ]
  },
  {
   "cell_type": "code",
   "execution_count": 19,
   "metadata": {},
   "outputs": [
    {
     "name": "stdout",
     "output_type": "stream",
     "text": [
      "10 時 59 分 62 秒\n"
     ]
    }
   ],
   "source": [
    "# 5-1-4\n",
    "s = s+25    # 25秒後\n",
    "print(h, \"時\", m, \"分\", s, \"秒\")"
   ]
  },
  {
   "cell_type": "code",
   "execution_count": null,
   "metadata": {},
   "outputs": [],
   "source": [
    "# 5-1-5\n",
    "if s >= 60:\n",
    "    m += 1  # 分に1を足す\n",
    "    s -= 60  # 秒から60を引く\n",
    "print(h, \"時\", m, \"分\", s, \"秒\")"
   ]
  },
  {
   "cell_type": "code",
   "execution_count": null,
   "metadata": {},
   "outputs": [],
   "source": [
    "# 5-1-6\n",
    "if m >= 60:\n",
    "    h += 1   # 時に1を足す\n",
    "    m -= 60 # 分から60を引く\n",
    "print(h, \"時\", m, \"分\", s, \"秒\")"
   ]
  }
 ],
 "metadata": {
  "kernelspec": {
   "display_name": "Python 3",
   "language": "python",
   "name": "python3"
  },
  "language_info": {
   "codemirror_mode": {
    "name": "ipython",
    "version": 3
   },
   "file_extension": ".py",
   "mimetype": "text/x-python",
   "name": "python",
   "nbconvert_exporter": "python",
   "pygments_lexer": "ipython3",
   "version": "3.7.3"
  }
 },
 "nbformat": 4,
 "nbformat_minor": 2
}
