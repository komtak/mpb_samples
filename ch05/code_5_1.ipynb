{
 "cells": [
  {
   "cell_type": "markdown",
   "metadata": {},
   "source": [
    "# プログラム 5-1"
   ]
  },
  {
   "cell_type": "code",
   "execution_count": null,
   "metadata": {},
   "outputs": [],
   "source": [
    "# 降水確率(6時間ごと)\n",
    "rpl = [30, 20, 0, 10]"
   ]
  },
  {
   "cell_type": "code",
   "execution_count": null,
   "metadata": {},
   "outputs": [],
   "source": [
    "# 平均値を計算する\n",
    "t = 0   # 合計を足す変数を0に\n",
    "t = t+rpl[0]  # 順番に足す\n",
    "t = t+rpl[1]\n",
    "t = t+rpl[2]\n",
    "t = t+rpl[3]\n",
    "average = t/4 # 合計を個数(4)で割る\n",
    "print(average)"
   ]
  },
  {
   "cell_type": "code",
   "execution_count": null,
   "metadata": {},
   "outputs": [],
   "source": [
    "# ループを使って平均を計算する\n",
    "t = 0   # 合計を足す変数を0に\n",
    "for rp in rpl:\n",
    "    t = t+rp\n",
    "average = t/4 # 合計を個数(4)で割る\n",
    "print(average)"
   ]
  },
  {
   "cell_type": "code",
   "execution_count": null,
   "metadata": {},
   "outputs": [],
   "source": [
    "# 突然雨が降る\n",
    "rpl = [0, 10, 90, 20]\n",
    "t = 0  # 合計を足すための変数\n",
    "for rp in rpl:\n",
    "    t = t+rp\n",
    "average = t/4   # 平均を計算\n",
    "print(average)"
   ]
  },
  {
   "cell_type": "code",
   "execution_count": null,
   "metadata": {},
   "outputs": [],
   "source": [
    "# 結果を表示する\n",
    "message = \"傘はいりません\"\n",
    "if average > 50:\n",
    "    message = \"傘を持って行きましょう\"\n",
    "print(message)"
   ]
  },
  {
   "cell_type": "code",
   "execution_count": null,
   "metadata": {},
   "outputs": [],
   "source": [
    "# 最大値を計算する\n",
    "rpl = [0, 10, 90, 20] # 突然雨が降る\n",
    "m = 0  # 最大値のための変数\n",
    "for rp in rpl:\n",
    "    if m < rp:\n",
    "        # より大きな数が見つかったら\n",
    "        m = rp\n",
    "print(m) # 結果を確認"
   ]
  },
  {
   "cell_type": "code",
   "execution_count": null,
   "metadata": {},
   "outputs": [],
   "source": [
    "# 4-1-8\n",
    "# 次のURLにある，都道府県コードを使えます\n",
    "# https://nlftp.mlit.go.jp/ksj/gml/codelist/PrefCd.html\n",
    "\n",
    "c = 17   # 山梨県の場所を指定\n",
    "l = ppl(c)\n",
    "m = 0  # 最大値のための変数\n",
    "\n",
    "for p in l:\n",
    "    if m < p:\n",
    "        # より大きな数が見つかったら\n",
    "        m = p\n",
    "\n",
    "m  # 結果を表示"
   ]
  },
  {
   "cell_type": "code",
   "execution_count": null,
   "metadata": {},
   "outputs": [],
   "source": []
  }
 ],
 "metadata": {
  "kernelspec": {
   "display_name": "Python 3 (ipykernel)",
   "language": "python",
   "name": "python3"
  },
  "language_info": {
   "codemirror_mode": {
    "name": "ipython",
    "version": 3
   },
   "file_extension": ".py",
   "mimetype": "text/x-python",
   "name": "python",
   "nbconvert_exporter": "python",
   "pygments_lexer": "ipython3",
   "version": "3.9.12"
  }
 },
 "nbformat": 4,
 "nbformat_minor": 2
}
