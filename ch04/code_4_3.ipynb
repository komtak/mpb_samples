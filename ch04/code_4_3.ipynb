{
 "cells": [
  {
   "cell_type": "markdown",
   "metadata": {},
   "source": [
    "# プログラム 4-3"
   ]
  },
  {
   "cell_type": "code",
   "execution_count": null,
   "metadata": {},
   "outputs": [],
   "source": [
    "# 関数を読み込む\n",
    "!pip install mpb_lib -qU\n",
    "from mpb_lib.sugoi import *"
   ]
  },
  {
   "cell_type": "code",
   "execution_count": null,
   "metadata": {},
   "outputs": [],
   "source": [
    "# 4-3-1\n",
    "s1 = \"100\"\n",
    "s2 = \"200\"\n",
    "a = int(s1)+int(s2)\n",
    "a   # 結果を表示"
   ]
  },
  {
   "cell_type": "code",
   "execution_count": null,
   "metadata": {},
   "outputs": [],
   "source": [
    "# 4-3-2\n",
    "p = pp()\n",
    "m = \"東京の降水確率は\"+str(p)+\"%です。\"\n",
    "m   # 結果を表示"
   ]
  },
  {
   "cell_type": "code",
   "execution_count": null,
   "metadata": {},
   "outputs": [],
   "source": [
    "# 4-3-3\n",
    "pl = ppl()  # 降水確率のリスト\n",
    "len(pl)      # リストの長さを調べる"
   ]
  },
  {
   "cell_type": "code",
   "execution_count": null,
   "metadata": {},
   "outputs": [],
   "source": [
    "# 4-4-4\n",
    "t = 0   # 合計用の変数を初期化\n",
    "for p in pl:\n",
    "    t = t+p\n",
    "l = len(pl)  # リストの長さ\n",
    "t/l   # 平均値を表示"
   ]
  },
  {
   "cell_type": "code",
   "execution_count": null,
   "metadata": {},
   "outputs": [],
   "source": [
    "# 4-3-5\n",
    "s = \"Pythonは楽しい\"\n",
    "print(s)"
   ]
  },
  {
   "cell_type": "code",
   "execution_count": null,
   "metadata": {},
   "outputs": [],
   "source": [
    "# 4-3-6\n",
    "p = pp()\n",
    "print(\"降水確率は\", p, \"%です。\")"
   ]
  },
  {
   "cell_type": "code",
   "execution_count": null,
   "metadata": {},
   "outputs": [],
   "source": [
    "# 4-3-7\n",
    "for i in range(50):\n",
    "    print(\"スクワット\", i)"
   ]
  },
  {
   "cell_type": "code",
   "execution_count": null,
   "metadata": {},
   "outputs": [],
   "source": [
    "# 4-3-8\n",
    "q = (\"待待待待待待待待待待\"\n",
    "       \"待待侍待待待待待待待\"\n",
    "       \"待待待待待待待待待待\"\n",
    "       \"待待待待待侍待待待待\"\n",
    "       \"待待待待待待待待待待\"\n",
    "       \"待待待待待待待待待待\")"
   ]
  },
  {
   "cell_type": "code",
   "execution_count": null,
   "metadata": {},
   "outputs": [],
   "source": [
    "# 4-3-9\n",
    "i = 0  # 順番の数を1にする\n",
    "for c in q:\n",
    "    if c != \"待\": # \"待\"でない場合\n",
    "        a = i    # 答えに順番を入れる\n",
    "    i = i+1  # 順番を1つ増やす\n",
    "\n",
    "a # 答えを確認"
   ]
  },
  {
   "cell_type": "code",
   "execution_count": null,
   "metadata": {},
   "outputs": [],
   "source": [
    "# 4-3-10\n",
    "ql = len(q)\n",
    "for i in range(ql):\n",
    "    if q[i] != \"待\":\n",
    "        print(i)"
   ]
  },
  {
   "cell_type": "code",
   "execution_count": null,
   "metadata": {},
   "outputs": [],
   "source": [
    "# 4-3-11\n",
    "ep = 100   # 敵の体力\n",
    "sd = 10    # 剣のダメージ\n",
    "\n",
    "while ep > 0:\n",
    "    ep = ep-sd\n",
    "    \n",
    "ep   # 敵のダメージを表示"
   ]
  },
  {
   "cell_type": "code",
   "execution_count": null,
   "metadata": {},
   "outputs": [],
   "source": [
    "#4-3-12\n",
    "ps = input(\"地域番号は？\")\n",
    "pn = int(ps)  # 文字列を数に変換\n",
    "p = pp(pn)\n",
    "m = \"その地域の降水確率は\"+str(p)+\"%です。\"\n",
    "m   # 結果を確認"
   ]
  },
  {
   "cell_type": "code",
   "execution_count": null,
   "metadata": {},
   "outputs": [],
   "source": [
    "# 4-1-13\n",
    "l = [0, 10, 20, 90]\n",
    "m = max(l)   # 最大値を得る\n",
    "m    # 結果を確認"
   ]
  },
  {
   "cell_type": "code",
   "execution_count": null,
   "metadata": {},
   "outputs": [],
   "source": [
    "# オマケ\n",
    "\n",
    "ps = input(\"地域番号を入力してください\")\n",
    "p = int(ps)      # 文字列を数に変換する\n",
    "pl = ppl(p)      # 指定地域の降水確率をリストで得る\n",
    "pm = max(pl)  # 最大値を得る\n",
    "\n",
    "if pm > 50:\n",
    "    print(\"その場所では，かさを持って出かけたほうがよさそうです。\")\n",
    "else:\n",
    "    print(\"その場所では，かさを持たずに出かけてもよさそうです。\")"
   ]
  },
  {
   "cell_type": "code",
   "execution_count": null,
   "metadata": {},
   "outputs": [],
   "source": []
  }
 ],
 "metadata": {
  "kernelspec": {
   "display_name": "Python 3 (ipykernel)",
   "language": "python",
   "name": "python3"
  },
  "language_info": {
   "codemirror_mode": {
    "name": "ipython",
    "version": 3
   },
   "file_extension": ".py",
   "mimetype": "text/x-python",
   "name": "python",
   "nbconvert_exporter": "python",
   "pygments_lexer": "ipython3",
   "version": "3.9.12"
  }
 },
 "nbformat": 4,
 "nbformat_minor": 2
}
