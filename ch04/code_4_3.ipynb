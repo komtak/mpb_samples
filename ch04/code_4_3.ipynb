{
 "cells": [
  {
   "cell_type": "markdown",
   "id": "fb555f40",
   "metadata": {},
   "source": [
    "# プログラム 4-3"
   ]
  },
  {
   "cell_type": "markdown",
   "id": "bf53b2af",
   "metadata": {},
   "source": [
    "## リストと文字列を組み合わせて使う"
   ]
  },
  {
   "cell_type": "code",
   "execution_count": 1,
   "id": "9399007d",
   "metadata": {
    "scrolled": true
   },
   "outputs": [
    {
     "name": "stdout",
     "output_type": "stream",
     "text": [
      "頭痛が起こるかも知れません\n"
     ]
    }
   ],
   "source": [
    "# 気象病を判定\n",
    "bp = [1013, 992, 998]\n",
    "message = \"頭痛は起こらなそうです\"\n",
    "if bp[0]-bp[1] > 10:\n",
    "    message = \"頭痛が起こるかも知れません\"\n",
    "print(message)"
   ]
  },
  {
   "cell_type": "code",
   "execution_count": 19,
   "id": "1615e15b",
   "metadata": {},
   "outputs": [],
   "source": [
    "# 関数を読み込む\n",
    "!pip install mpb_lib -qU\n",
    "from mpb_lib.apis import wi, wr_index"
   ]
  },
  {
   "cell_type": "code",
   "execution_count": 17,
   "id": "52cfc8b5",
   "metadata": {},
   "outputs": [
    {
     "name": "stdout",
     "output_type": "stream",
     "text": [
      "よく乾く\n"
     ]
    }
   ],
   "source": [
    "# 洗濯指数\n",
    "i = wi()  # 東京の洗濯指数\n",
    "message = \"完全に乾く\"\n",
    "if 60 <= i < 80:\n",
    "    message = \"よく乾く\"\n",
    "if 40 <= i < 60:\n",
    "    message = \"湿っぽさが残る\"\n",
    "if i < 40:\n",
    "    message = \"乾かない\"\n",
    "print(message)"
   ]
  },
  {
   "cell_type": "code",
   "execution_count": 22,
   "id": "f83199dd",
   "metadata": {},
   "outputs": [
    {
     "name": "stdout",
     "output_type": "stream",
     "text": [
      "1\n"
     ]
    }
   ],
   "source": [
    "# 東京の今日の天気(数)\n",
    "i = wr_index()\n",
    "print(i)"
   ]
  },
  {
   "cell_type": "code",
   "execution_count": 26,
   "id": "fd7ee0d5",
   "metadata": {},
   "outputs": [
    {
     "name": "stdout",
     "output_type": "stream",
     "text": [
      "晴れ\n"
     ]
    }
   ],
   "source": [
    "# 数の天気を文字列にする\n",
    "weather = \"晴れ\"\n",
    "if i == 2:\n",
    "    weather = \"曇り\"\n",
    "if i == 3:\n",
    "    weather = \"雨\"\n",
    "if i == 4:\n",
    "    weather = \"雪\"\n",
    "print(weather)"
   ]
  },
  {
   "cell_type": "code",
   "execution_count": 27,
   "id": "9a6661fa",
   "metadata": {},
   "outputs": [
    {
     "name": "stdout",
     "output_type": "stream",
     "text": [
      "東京の今日の天気は晴れ\n"
     ]
    }
   ],
   "source": [
    "# 文字列の足し算を使う\n",
    "prefix = \"東京の今日の天気は\"\n",
    "weather = prefix+weather\n",
    "print(weather)"
   ]
  },
  {
   "cell_type": "code",
   "execution_count": 28,
   "id": "08044081",
   "metadata": {},
   "outputs": [
    {
     "name": "stdout",
     "output_type": "stream",
     "text": [
      "晴れ\n"
     ]
    }
   ],
   "source": [
    "# 文字列のリストで天気を表現\n",
    "w_list = [\"晴れ\", \"曇り\", \"雨\", \"雪\"]"
   ]
  },
  {
   "cell_type": "code",
   "execution_count": null,
   "id": "8f870244",
   "metadata": {},
   "outputs": [],
   "source": [
    "# 天気の数をリストのインデックスに使う\n",
    "i = 1  # 1は晴れ\n",
    "print(w_list[i-1])"
   ]
  },
  {
   "cell_type": "code",
   "execution_count": 30,
   "id": "3f941574",
   "metadata": {},
   "outputs": [
    {
     "name": "stdout",
     "output_type": "stream",
     "text": [
      "東京の今日の天気は雪です。\n"
     ]
    }
   ],
   "source": [
    "# 文章にする\n",
    "weather = \"東京の今日の天気は\"\n",
    "weather = weather+w_list[-1]\n",
    "weather = weather+\"です。\"\n",
    "print(weather)"
   ]
  },
  {
   "cell_type": "code",
   "execution_count": null,
   "id": "d18c9226",
   "metadata": {},
   "outputs": [],
   "source": []
  }
 ],
 "metadata": {
  "kernelspec": {
   "display_name": "Python 3 (ipykernel)",
   "language": "python",
   "name": "python3"
  },
  "language_info": {
   "codemirror_mode": {
    "name": "ipython",
    "version": 3
   },
   "file_extension": ".py",
   "mimetype": "text/x-python",
   "name": "python",
   "nbconvert_exporter": "python",
   "pygments_lexer": "ipython3",
   "version": "3.9.12"
  }
 },
 "nbformat": 4,
 "nbformat_minor": 5
}
