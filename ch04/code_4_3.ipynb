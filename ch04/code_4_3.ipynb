{
 "cells": [
  {
   "cell_type": "markdown",
   "id": "fb555f40",
   "metadata": {},
   "source": [
    "# プログラム 4-3"
   ]
  },
  {
   "cell_type": "markdown",
   "id": "bf53b2af",
   "metadata": {},
   "source": [
    "## リストと文字列を組み合わせて使う"
   ]
  },
  {
   "cell_type": "code",
   "execution_count": null,
   "id": "9399007d",
   "metadata": {
    "scrolled": true
   },
   "outputs": [],
   "source": [
    "# 気象病を判定\n",
    "bp = [1013, 992, 998]\n",
    "message = \"頭痛は起こらなそうです\"\n",
    "if bp[0]-bp[1] > 10:\n",
    "    message = \"頭痛が起こるかも知れません\"\n",
    "print(message)"
   ]
  },
  {
   "cell_type": "code",
   "execution_count": null,
   "id": "1615e15b",
   "metadata": {},
   "outputs": [],
   "source": [
    "# 関数を読み込む\n",
    "!pip install mpb_lib -qU\n",
    "from mpb_lib.apis import get_di, get_wr_index"
   ]
  },
  {
   "cell_type": "code",
   "execution_count": null,
   "id": "52cfc8b5",
   "metadata": {},
   "outputs": [],
   "source": [
    "# 不快指数を分かりやすくする\n",
    "di = get_di()  # 不快指数\n",
    "message = \"暑い\"\n",
    "if 75 <= di < 80:\n",
    "    message = \"少し暑い\"\n",
    "if 60 <= di < 75:\n",
    "    message = \"快適\"\n",
    "if di < 60:\n",
    "    message = \"寒い\"\n",
    "print(message, di)"
   ]
  },
  {
   "cell_type": "code",
   "execution_count": null,
   "id": "f83199dd",
   "metadata": {},
   "outputs": [],
   "source": [
    "# 東京の今日の天気(数)\n",
    "wi = get_wr_index()\n",
    "print(wi)"
   ]
  },
  {
   "cell_type": "code",
   "execution_count": null,
   "id": "fd7ee0d5",
   "metadata": {},
   "outputs": [],
   "source": [
    "# 数の天気を文字列にする\n",
    "weather = \"晴れ\"\n",
    "if wi == 2:\n",
    "    weather = \"曇り\"\n",
    "if wi == 3:\n",
    "    weather = \"雨\"\n",
    "if wi == 4:\n",
    "    weather = \"雪\"\n",
    "print(weather)"
   ]
  },
  {
   "cell_type": "code",
   "execution_count": null,
   "id": "9a6661fa",
   "metadata": {},
   "outputs": [],
   "source": [
    "# 文字列の足し算を使う\n",
    "prefix = \"東京の今日の天気は\"\n",
    "weather = prefix+weather\n",
    "print(weather)"
   ]
  },
  {
   "cell_type": "markdown",
   "id": "bdfbcd2c",
   "metadata": {},
   "source": [
    "## オマケ 文字列のリスト"
   ]
  },
  {
   "cell_type": "code",
   "execution_count": null,
   "id": "08044081",
   "metadata": {},
   "outputs": [],
   "source": [
    "# 文字列のリストで天気を表現\n",
    "w_list = [\"晴れ\", \"曇り\", \"雨\", \"雪\"]"
   ]
  },
  {
   "cell_type": "code",
   "execution_count": null,
   "id": "8f870244",
   "metadata": {},
   "outputs": [],
   "source": [
    "# 天気の数をリストのインデックスに使う\n",
    "wi = 1  # 1は晴れ\n",
    "print(w_list[wi-1])"
   ]
  },
  {
   "cell_type": "code",
   "execution_count": null,
   "id": "3f941574",
   "metadata": {},
   "outputs": [],
   "source": [
    "# 文章にする\n",
    "weather = \"東京の今日の天気は\"\n",
    "weather = weather+w_list[wi-1]\n",
    "weather = weather+\"です。\"\n",
    "print(weather)"
   ]
  },
  {
   "cell_type": "code",
   "execution_count": null,
   "id": "d18c9226",
   "metadata": {},
   "outputs": [],
   "source": []
  }
 ],
 "metadata": {
  "kernelspec": {
   "display_name": "Python 3 (ipykernel)",
   "language": "python",
   "name": "python3"
  },
  "language_info": {
   "codemirror_mode": {
    "name": "ipython",
    "version": 3
   },
   "file_extension": ".py",
   "mimetype": "text/x-python",
   "name": "python",
   "nbconvert_exporter": "python",
   "pygments_lexer": "ipython3",
   "version": "3.9.12"
  }
 },
 "nbformat": 4,
 "nbformat_minor": 5
}
