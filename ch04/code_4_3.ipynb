{
 "cells": [
  {
   "cell_type": "markdown",
   "metadata": {},
   "source": [
    "# プログラム 4-3"
   ]
  },
  {
   "cell_type": "markdown",
   "metadata": {},
   "source": [
    "## 4-7 いろいろな組み込み関数(1)"
   ]
  },
  {
   "cell_type": "code",
   "execution_count": null,
   "metadata": {},
   "outputs": [],
   "source": [
    "# 関数を読み込む\n",
    "!pip install mpb_lib -qU\n",
    "from mpb_lib.sugoi import *"
   ]
  },
  {
   "cell_type": "code",
   "execution_count": null,
   "metadata": {},
   "outputs": [],
   "source": [
    "# 県を数で指定して，現在の気温を表示する\n",
    "# 次のURLにある，都道府県コードを使えます\n",
    "# https://nlftp.mlit.go.jp/ksj/gml/codelist/PrefCd.html\n",
    "\n",
    "ps = input(\"地域番号を入力してください\")\n",
    "p = int(ps)  # 文字列を数に変換する\n",
    "f = temp(p) # 指定地域の気温を調べる\n",
    "print(\"その場所の現在の気温は\", f)"
   ]
  },
  {
   "cell_type": "code",
   "execution_count": null,
   "metadata": {},
   "outputs": [],
   "source": [
    "ps = input(\"地域番号を入力してください\")\n",
    "p = int(ps)  # 文字列を数に変換する\n",
    "f = temp(p) # 指定地域の気温を調べる\n",
    "c = f2c(f)    # ℉(華氏)を℃(摂氏)に変換する\n",
    "print(\"その場所の現在の気温は\", c)"
   ]
  },
  {
   "cell_type": "code",
   "execution_count": null,
   "metadata": {},
   "outputs": [],
   "source": [
    "# 県を数で指定して，雨が降りそうかどうかを表示する\n",
    "ps = input(\"地域番号を入力してください\")\n",
    "p = int(ps)  # 文字列を数に変換する\n",
    "pl = ppl(p) # 降水確率(6時間ごと)\n",
    "s = sum(pl) # 合計を計算する\n",
    "a = s/len(pl)  # 平均を計算する\n",
    "if a > 50:  # 降水確率の平均が50%より大きいかどうか\n",
    "    print(\"雨が降りそうです。\", a)\n",
    "else:\n",
    "    print(\"雨は降りそうにありません。\", a)"
   ]
  },
  {
   "cell_type": "code",
   "execution_count": null,
   "metadata": {},
   "outputs": [],
   "source": [
    "# 最大値を使う\n",
    "ps = input(\"地域番号を入力してください\")\n",
    "p = int(ps)  # 文字列を数に変換する\n",
    "pl = ppl(p) # 降水確率(6時間ごと)\n",
    "m = max(pl)  # 最大値を計算\n",
    "if m > 50:  # 50%より大きいかどうか\n",
    "    print(\"雨が降りそうです。\", m)\n",
    "else:\n",
    "    print(\"雨は降りそうにありません。\", m)"
   ]
  },
  {
   "cell_type": "markdown",
   "metadata": {},
   "source": [
    "## 4-8 いろいろな組み込み関数(2)"
   ]
  },
  {
   "cell_type": "code",
   "execution_count": null,
   "metadata": {},
   "outputs": [],
   "source": [
    "# 腹筋を10回\n",
    "for i in range(10):\n",
    "    print(\"ふっきん\")"
   ]
  },
  {
   "cell_type": "code",
   "execution_count": null,
   "metadata": {},
   "outputs": [],
   "source": [
    "q = (\"未未未未未未未未未未\"\n",
    "     \"未未未未未未未末未未\"\n",
    "     \"未未未未未未未未未未\"\n",
    "     \"未未未未末未未未未未\"\n",
    "     \"未未未未未未未未未未\"\n",
    "     \"未未未未未未未未未未\")"
   ]
  },
  {
   "cell_type": "code",
   "execution_count": null,
   "metadata": {},
   "outputs": [],
   "source": [
    "# qの文字数回繰り返す\n",
    "for i in range(len(q)):\n",
    "    if q[i] != \"未\":\n",
    "        # 縦，横の場所を表示\n",
    "        print(int(i/10), i%10)"
   ]
  },
  {
   "cell_type": "code",
   "execution_count": null,
   "metadata": {},
   "outputs": [],
   "source": []
  }
 ],
 "metadata": {
  "kernelspec": {
   "display_name": "Python 3",
   "language": "python",
   "name": "python3"
  },
  "language_info": {
   "codemirror_mode": {
    "name": "ipython",
    "version": 3
   },
   "file_extension": ".py",
   "mimetype": "text/x-python",
   "name": "python",
   "nbconvert_exporter": "python",
   "pygments_lexer": "ipython3",
   "version": "3.7.3"
  }
 },
 "nbformat": 4,
 "nbformat_minor": 2
}
