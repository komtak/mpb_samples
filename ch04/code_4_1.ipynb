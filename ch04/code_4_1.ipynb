{
 "cells": [
  {
   "cell_type": "markdown",
   "metadata": {},
   "source": [
    "# プログラム 4-1"
   ]
  },
  {
   "cell_type": "code",
   "execution_count": 18,
   "metadata": {},
   "outputs": [],
   "source": [
    "# 関数を読み込む\n",
    "!pip install mpb_lib -qU\n",
    "from mpb_lib.sugoi import ppl"
   ]
  },
  {
   "cell_type": "code",
   "execution_count": 20,
   "metadata": {},
   "outputs": [
    {
     "data": {
      "text/plain": [
       "[0, 0, 0, 0, 0, 0]"
      ]
     },
     "execution_count": 20,
     "metadata": {},
     "output_type": "execute_result"
    }
   ],
   "source": [
    "# 4-1-1\n",
    "l = ppl()  # 降水確率(6時間ごと)\n",
    "l   # リストを確認"
   ]
  },
  {
   "cell_type": "code",
   "execution_count": null,
   "metadata": {},
   "outputs": [],
   "source": [
    "# 4-1-2\n",
    "t = 0   # 合計を足す変数を0に(初期化)\n",
    "t = t+l[0]  # 順番に足す\n",
    "t = t+l[1]\n",
    "t = t+l[2]  # 疲れた……"
   ]
  },
  {
   "cell_type": "code",
   "execution_count": null,
   "metadata": {},
   "outputs": [],
   "source": [
    "# 4-1-3\n",
    "t = 0   # 合計を足す変数を0に(初期化)\n",
    "for p in l:\n",
    "    t = t+p\n",
    "t  # 合計を確認"
   ]
  },
  {
   "cell_type": "code",
   "execution_count": null,
   "metadata": {},
   "outputs": [],
   "source": [
    "# 4-1-4\n",
    "a = t/4   # 平均降水確率を計算\n",
    "a   # 平均を表示"
   ]
  },
  {
   "cell_type": "code",
   "execution_count": null,
   "metadata": {},
   "outputs": [],
   "source": [
    "# 4-1-5\n",
    "if a < 50:\n",
    "    u = 0  # 傘を持たない\n",
    "else:\n",
    "    u = 1  # 傘を持つ\n",
    "u  # 結果を0/1で表示"
   ]
  },
  {
   "cell_type": "code",
   "execution_count": null,
   "metadata": {},
   "outputs": [],
   "source": [
    "# 4-1-6\n",
    "l = [0, 10, 20, 90] # 突然雨が降る\n",
    "t = 0  # 合計を足すための変数\n",
    "for p in l:\n",
    "    t = t+p\n",
    "t/4   # 平均を計算"
   ]
  },
  {
   "cell_type": "code",
   "execution_count": null,
   "metadata": {},
   "outputs": [],
   "source": [
    "# 4-1-7\n",
    "l = [0, 10, 20, 90] # 突然雨が降る\n",
    "m = 0  # 最大値のための変数\n",
    "for p in l:\n",
    "    if m < p:\n",
    "        # より大きな数が見つかったら\n",
    "        m = p\n",
    "m # 結果を確認"
   ]
  },
  {
   "cell_type": "code",
   "execution_count": null,
   "metadata": {},
   "outputs": [],
   "source": [
    "# 4-1-8\n",
    "# 次のURLにある，都道府県コードを使えます\n",
    "# https://nlftp.mlit.go.jp/ksj/gml/codelist/PrefCd.html\n",
    "\n",
    "c = 17   # 山梨県の場所を指定\n",
    "l = ppl(c)\n",
    "m = 0  # 最大値のための変数\n",
    "\n",
    "for p in l:\n",
    "    if m < p:\n",
    "        # より大きな数が見つかったら\n",
    "        m = p\n",
    "\n",
    "m  # 結果を表示"
   ]
  },
  {
   "cell_type": "code",
   "execution_count": null,
   "metadata": {},
   "outputs": [],
   "source": []
  }
 ],
 "metadata": {
  "kernelspec": {
   "display_name": "Python 3",
   "language": "python",
   "name": "python3"
  },
  "language_info": {
   "codemirror_mode": {
    "name": "ipython",
    "version": 3
   },
   "file_extension": ".py",
   "mimetype": "text/x-python",
   "name": "python",
   "nbconvert_exporter": "python",
   "pygments_lexer": "ipython3",
   "version": "3.7.3"
  }
 },
 "nbformat": 4,
 "nbformat_minor": 2
}
