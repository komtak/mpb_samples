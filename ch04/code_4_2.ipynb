{
 "cells": [
  {
   "cell_type": "markdown",
   "metadata": {},
   "source": [
    "# プログラム 4-2"
   ]
  },
  {
   "cell_type": "code",
   "execution_count": null,
   "metadata": {},
   "outputs": [],
   "source": [
    "# 4-2-1\n",
    "q = (\"未未未未未未未未未未\"\n",
    "       \"未未未未未未未未未未\"\n",
    "       \"未未未未未未未未未未\"\n",
    "       \"未未未未未未未未未未\"\n",
    "       \"未未末未未未未未未未\"\n",
    "       \"未未未未未未未未未未\")"
   ]
  },
  {
   "cell_type": "code",
   "execution_count": null,
   "metadata": {},
   "outputs": [],
   "source": [
    "# 4-2-2\n",
    "q  # 変数の中身を確認する"
   ]
  },
  {
   "cell_type": "code",
   "execution_count": null,
   "metadata": {},
   "outputs": [],
   "source": [
    "# 4-2-3\n",
    "q[4] # (0から数えて4番目を取り出す)"
   ]
  },
  {
   "cell_type": "code",
   "execution_count": null,
   "metadata": {},
   "outputs": [],
   "source": [
    "# 4-2-4\n",
    "i = 1  # 順番の数を1にする\n",
    "for c in q:\n",
    "    if c != \"未\": # \"未\"でない場合\n",
    "        a = i    # 答えに順番を入れる\n",
    "    i = i+1  # 順番を1つ増やす\n",
    "\n",
    "a # 答えを確認"
   ]
  },
  {
   "cell_type": "code",
   "execution_count": null,
   "metadata": {},
   "outputs": [],
   "source": [
    "# 4-2-5\n",
    "ep = 100   # 敵の体力\n",
    "sd = 10     # 剣のダメージ\n",
    "\n",
    "while ep > 0:   # 敵の体力がなくなるまでループ\n",
    "    ep = ep-sd   # 剣で攻撃する\n",
    "    \n",
    "ep   # 敵のダメージを表示"
   ]
  },
  {
   "cell_type": "code",
   "execution_count": null,
   "metadata": {},
   "outputs": [],
   "source": []
  }
 ],
 "metadata": {
  "kernelspec": {
   "display_name": "Python 3",
   "language": "python",
   "name": "python3"
  },
  "language_info": {
   "codemirror_mode": {
    "name": "ipython",
    "version": 3
   },
   "file_extension": ".py",
   "mimetype": "text/x-python",
   "name": "python",
   "nbconvert_exporter": "python",
   "pygments_lexer": "ipython3",
   "version": "3.7.3"
  }
 },
 "nbformat": 4,
 "nbformat_minor": 2
}
