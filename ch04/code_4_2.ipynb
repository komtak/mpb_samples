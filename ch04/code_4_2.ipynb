{
 "cells": [
  {
   "cell_type": "markdown",
   "metadata": {},
   "source": [
    "# プログラム 4-2"
   ]
  },
  {
   "cell_type": "markdown",
   "metadata": {},
   "source": [
    "## 4-3 for - 決まった回数だけ繰り返す"
   ]
  },
  {
   "cell_type": "code",
   "execution_count": null,
   "metadata": {},
   "outputs": [],
   "source": [
    "# 関数を読み込む\n",
    "!pip install mpb_lib -qU\n",
    "from mpb_lib.sugoi import *"
   ]
  },
  {
   "cell_type": "code",
   "execution_count": null,
   "metadata": {},
   "outputs": [],
   "source": [
    "# 東京の降水確率(6時間ごと，7つ)\n",
    "ppl()"
   ]
  },
  {
   "cell_type": "code",
   "execution_count": null,
   "metadata": {},
   "outputs": [],
   "source": [
    "pl = ppl() # 変数に代入する"
   ]
  },
  {
   "cell_type": "code",
   "execution_count": null,
   "metadata": {},
   "outputs": [],
   "source": [
    "# plの中の数を全部足す\n",
    "s = 0  # 最初にゼロにする\n",
    "s = s+pl[0]  # 一個目を足す\n",
    "s = s+pl[1]  \n",
    "# これをpl[6]まで繰り返す"
   ]
  },
  {
   "cell_type": "code",
   "execution_count": null,
   "metadata": {},
   "outputs": [],
   "source": [
    "s = 0  # (もういちど)最初にゼロにする\n",
    "for p in pl:\n",
    "    # plの中にある数を順番に取り出し，pに入れる\n",
    "    s = s+p\n",
    "    \n",
    "s # 結果を表示"
   ]
  },
  {
   "cell_type": "code",
   "execution_count": null,
   "metadata": {},
   "outputs": [],
   "source": [
    "s/7   # 合計をリストの数の個数で割る"
   ]
  },
  {
   "cell_type": "code",
   "execution_count": null,
   "metadata": {},
   "outputs": [],
   "source": [
    "# 次のURLにある，都道府県コードを使えます\n",
    "# https://nlftp.mlit.go.jp/ksj/gml/codelist/PrefCd.html\n",
    "\n",
    "# 山梨県\n",
    "c = 19  # 山梨県の数\n",
    "pl = ppl(c) # 場所を指定して降水確率を得る"
   ]
  },
  {
   "cell_type": "code",
   "execution_count": null,
   "metadata": {},
   "outputs": [],
   "source": [
    "s = 0  # (もういちど)最初にゼロにする\n",
    "for p in pl:\n",
    "    # plの中にある数を順番に取り出し，pに入れる\n",
    "    s = s+p\n",
    "\n",
    "s/7  # 平均降水確率を得る"
   ]
  },
  {
   "cell_type": "code",
   "execution_count": null,
   "metadata": {},
   "outputs": [],
   "source": [
    "# とつぜん雨が降る\n",
    "pl = [0, 0, 0, 0, 0, 0, 90]"
   ]
  },
  {
   "cell_type": "code",
   "execution_count": null,
   "metadata": {},
   "outputs": [],
   "source": [
    "pl = [0, 10, 30, 30, 60, 90, 70]\n",
    "m = 0  # 最大値用の変数を0にする\n",
    "for p in pl:\n",
    "    if m > p:  # 最大値かどうかを調べる\n",
    "        m = p  # 最大値を変数に保存\n",
    "\n",
    "m  # 結果を表示"
   ]
  },
  {
   "cell_type": "code",
   "execution_count": null,
   "metadata": {},
   "outputs": [],
   "source": [
    "# 修正版\n",
    "pl = [0, 10, 30, 30, 60, 90, 70]\n",
    "m = 0  # 最大値用の変数を0にする\n",
    "for p in pl:\n",
    "    if m < p:  # 最大値かどうかを調べる\n",
    "        m = p  # 最大値を変数に保存\n",
    "\n",
    "m  # 結果を表示"
   ]
  },
  {
   "cell_type": "markdown",
   "metadata": {},
   "source": [
    "## 4-5 文字列とループ"
   ]
  },
  {
   "cell_type": "code",
   "execution_count": null,
   "metadata": {},
   "outputs": [],
   "source": [
    "q = (\"未未未未未未未未未未\"\n",
    "       \"未未未未未未未未未未\"\n",
    "       \"未未未未未未未未未未\"\n",
    "       \"未未未未未未未未未未\"\n",
    "       \"未未末未未未未未未未\"\n",
    "       \"未未未未未未未未未未\")"
   ]
  },
  {
   "cell_type": "code",
   "execution_count": null,
   "metadata": {},
   "outputs": [],
   "source": [
    "q  # 変数の中身を確認する"
   ]
  },
  {
   "cell_type": "code",
   "execution_count": null,
   "metadata": {},
   "outputs": [],
   "source": [
    "# (0から数えて4番目を取り出す)\n",
    "q[4]"
   ]
  },
  {
   "cell_type": "code",
   "execution_count": null,
   "metadata": {},
   "outputs": [],
   "source": [
    "# ひとつだけ違う漢字を探す\n",
    "i = 1  # 順番の数を1にする\n",
    "for c in q:\n",
    "    if [1] != \"未\": # \"未\"でない場合\n",
    "        a = [2]    # 答えに順番を入れる\n",
    "    i = i+1  # 順番を1つ増やす\n",
    "\n",
    "a # 答えを確認"
   ]
  },
  {
   "cell_type": "code",
   "execution_count": null,
   "metadata": {},
   "outputs": [],
   "source": []
  }
 ],
 "metadata": {
  "kernelspec": {
   "display_name": "Python 3",
   "language": "python",
   "name": "python3"
  },
  "language_info": {
   "codemirror_mode": {
    "name": "ipython",
    "version": 3
   },
   "file_extension": ".py",
   "mimetype": "text/x-python",
   "name": "python",
   "nbconvert_exporter": "python",
   "pygments_lexer": "ipython3",
   "version": "3.7.3"
  }
 },
 "nbformat": 4,
 "nbformat_minor": 2
}
